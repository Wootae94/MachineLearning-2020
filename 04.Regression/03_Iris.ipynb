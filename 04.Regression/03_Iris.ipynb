{
 "metadata": {
  "language_info": {
   "codemirror_mode": {
    "name": "ipython",
    "version": 3
   },
   "file_extension": ".py",
   "mimetype": "text/x-python",
   "name": "python",
   "nbconvert_exporter": "python",
   "pygments_lexer": "ipython3",
   "version": "3.8.3-final"
  },
  "orig_nbformat": 2,
  "kernelspec": {
   "name": "python3",
   "display_name": "Python 3",
   "language": "python"
  }
 },
 "nbformat": 4,
 "nbformat_minor": 2,
 "cells": [
  {
   "source": [
    "# Iris 데이터 다중회귀분석"
   ],
   "cell_type": "markdown",
   "metadata": {}
  },
  {
   "cell_type": "code",
   "execution_count": 1,
   "metadata": {},
   "outputs": [],
   "source": [
    "import numpy as np\n",
    "import pandas as pd\n",
    "import matplotlib.pyplot as plt\n",
    "import seaborn as sns\n",
    "%matplotlib inline"
   ]
  },
  {
   "cell_type": "code",
   "execution_count": 2,
   "metadata": {},
   "outputs": [
    {
     "output_type": "execute_result",
     "data": {
      "text/plain": [
       "   sepal length (cm)  sepal width (cm)  petal length (cm)  petal width (cm)\n",
       "0                5.1               3.5                1.4               0.2\n",
       "1                4.9               3.0                1.4               0.2\n",
       "2                4.7               3.2                1.3               0.2\n",
       "3                4.6               3.1                1.5               0.2\n",
       "4                5.0               3.6                1.4               0.2"
      ],
      "text/html": "<div>\n<style scoped>\n    .dataframe tbody tr th:only-of-type {\n        vertical-align: middle;\n    }\n\n    .dataframe tbody tr th {\n        vertical-align: top;\n    }\n\n    .dataframe thead th {\n        text-align: right;\n    }\n</style>\n<table border=\"1\" class=\"dataframe\">\n  <thead>\n    <tr style=\"text-align: right;\">\n      <th></th>\n      <th>sepal length (cm)</th>\n      <th>sepal width (cm)</th>\n      <th>petal length (cm)</th>\n      <th>petal width (cm)</th>\n    </tr>\n  </thead>\n  <tbody>\n    <tr>\n      <th>0</th>\n      <td>5.1</td>\n      <td>3.5</td>\n      <td>1.4</td>\n      <td>0.2</td>\n    </tr>\n    <tr>\n      <th>1</th>\n      <td>4.9</td>\n      <td>3.0</td>\n      <td>1.4</td>\n      <td>0.2</td>\n    </tr>\n    <tr>\n      <th>2</th>\n      <td>4.7</td>\n      <td>3.2</td>\n      <td>1.3</td>\n      <td>0.2</td>\n    </tr>\n    <tr>\n      <th>3</th>\n      <td>4.6</td>\n      <td>3.1</td>\n      <td>1.5</td>\n      <td>0.2</td>\n    </tr>\n    <tr>\n      <th>4</th>\n      <td>5.0</td>\n      <td>3.6</td>\n      <td>1.4</td>\n      <td>0.2</td>\n    </tr>\n  </tbody>\n</table>\n</div>"
     },
     "metadata": {},
     "execution_count": 2
    }
   ],
   "source": [
    "from sklearn.datasets import load_iris\n",
    "iris = load_iris()\n",
    "df = pd.DataFrame(iris.data, columns=iris.feature_names)\n",
    "df.head()"
   ]
  },
  {
   "cell_type": "code",
   "execution_count": 3,
   "metadata": {},
   "outputs": [
    {
     "output_type": "execute_result",
     "data": {
      "text/plain": [
       "   sepal length (cm)  sepal width (cm)  petal length (cm)  petal width (cm)  \\\n",
       "0                5.1               3.5                1.4               0.2   \n",
       "1                4.9               3.0                1.4               0.2   \n",
       "2                4.7               3.2                1.3               0.2   \n",
       "3                4.6               3.1                1.5               0.2   \n",
       "4                5.0               3.6                1.4               0.2   \n",
       "\n",
       "   class  \n",
       "0      0  \n",
       "1      0  \n",
       "2      0  \n",
       "3      0  \n",
       "4      0  "
      ],
      "text/html": "<div>\n<style scoped>\n    .dataframe tbody tr th:only-of-type {\n        vertical-align: middle;\n    }\n\n    .dataframe tbody tr th {\n        vertical-align: top;\n    }\n\n    .dataframe thead th {\n        text-align: right;\n    }\n</style>\n<table border=\"1\" class=\"dataframe\">\n  <thead>\n    <tr style=\"text-align: right;\">\n      <th></th>\n      <th>sepal length (cm)</th>\n      <th>sepal width (cm)</th>\n      <th>petal length (cm)</th>\n      <th>petal width (cm)</th>\n      <th>class</th>\n    </tr>\n  </thead>\n  <tbody>\n    <tr>\n      <th>0</th>\n      <td>5.1</td>\n      <td>3.5</td>\n      <td>1.4</td>\n      <td>0.2</td>\n      <td>0</td>\n    </tr>\n    <tr>\n      <th>1</th>\n      <td>4.9</td>\n      <td>3.0</td>\n      <td>1.4</td>\n      <td>0.2</td>\n      <td>0</td>\n    </tr>\n    <tr>\n      <th>2</th>\n      <td>4.7</td>\n      <td>3.2</td>\n      <td>1.3</td>\n      <td>0.2</td>\n      <td>0</td>\n    </tr>\n    <tr>\n      <th>3</th>\n      <td>4.6</td>\n      <td>3.1</td>\n      <td>1.5</td>\n      <td>0.2</td>\n      <td>0</td>\n    </tr>\n    <tr>\n      <th>4</th>\n      <td>5.0</td>\n      <td>3.6</td>\n      <td>1.4</td>\n      <td>0.2</td>\n      <td>0</td>\n    </tr>\n  </tbody>\n</table>\n</div>"
     },
     "metadata": {},
     "execution_count": 3
    }
   ],
   "source": [
    "df['class'] = iris.target\n",
    "df.head()"
   ]
  },
  {
   "cell_type": "code",
   "execution_count": 4,
   "metadata": {},
   "outputs": [],
   "source": [
    "from sklearn.model_selection import train_test_split\n",
    "from sklearn.linear_model import LinearRegression\n",
    "from sklearn.metrics import mean_squared_error, r2_score\n",
    "from sklearn.model_selection import cross_val_score"
   ]
  },
  {
   "source": [
    "## Petal Length에 대한 회귀식 만들기"
   ],
   "cell_type": "markdown",
   "metadata": {}
  },
  {
   "cell_type": "code",
   "execution_count": 5,
   "metadata": {},
   "outputs": [],
   "source": [
    "X = df.iloc[:,[0,1,3,4]].values\n",
    "y = df.iloc[:,2].values"
   ]
  },
  {
   "cell_type": "code",
   "execution_count": 6,
   "metadata": {},
   "outputs": [],
   "source": [
    "X_train, X_test, y_train, y_test = train_test_split(\n",
    "    X, y, test_size=0.2, random_state=2021\n",
    ")"
   ]
  },
  {
   "cell_type": "code",
   "execution_count": 7,
   "metadata": {},
   "outputs": [
    {
     "output_type": "stream",
     "name": "stdout",
     "text": [
      "MSE: 0.10, RMSE: 0.31\nR_squared: 0.9682\n"
     ]
    }
   ],
   "source": [
    "lr = LinearRegression()\n",
    "lr.fit(X_train, y_train)\n",
    "pred = lr.predict(X_test)\n",
    "mse = mean_squared_error(y_test, pred)\n",
    "r2 = r2_score(y_test, pred)\n",
    "print(f'MSE: {mse:.2f}, RMSE: {np.sqrt(mse):.2f}')\n",
    "print(f'R_squared: {r2:.4f}')"
   ]
  },
  {
   "cell_type": "code",
   "execution_count": 8,
   "metadata": {},
   "outputs": [
    {
     "output_type": "execute_result",
     "data": {
      "text/plain": [
       "array([ 0.68227323, -0.51925158,  1.11668415,  0.37500635])"
      ]
     },
     "metadata": {},
     "execution_count": 8
    }
   ],
   "source": [
    "lr.coef_"
   ]
  },
  {
   "cell_type": "code",
   "execution_count": 9,
   "metadata": {},
   "outputs": [
    {
     "output_type": "execute_result",
     "data": {
      "text/plain": [
       "-0.3669994939603338"
      ]
     },
     "metadata": {},
     "execution_count": 9
    }
   ],
   "source": [
    "lr.intercept_"
   ]
  },
  {
   "source": [
    "#### Petal Length에 대한 회귀식\n",
    "- pl = 0.682*sl - 0.519*sw + 1.116*pw + 0.375*cl -0.366"
   ],
   "cell_type": "markdown",
   "metadata": {}
  },
  {
   "source": [
    "#### Petal Length 교차검증"
   ],
   "cell_type": "markdown",
   "metadata": {}
  },
  {
   "cell_type": "code",
   "execution_count": 10,
   "metadata": {},
   "outputs": [
    {
     "output_type": "stream",
     "name": "stdout",
     "text": [
      "개별 MSE:  [-0.06 -0.08 -0.14 -0.1  -0.21]\n개별 RMSE:  [0.25 0.28 0.38 0.32 0.46]\n평균 RMSE: 0.3387\n"
     ]
    }
   ],
   "source": [
    "# 5 폴드 세트로 MSE를 구함\n",
    "neg_mean_scores = cross_val_score(lr, X, y,\n",
    "                                scoring='neg_mean_squared_error', cv=5)\n",
    "rmse_scores = np.sqrt(-neg_mean_scores)\n",
    "avg_rmse = np.average(rmse_scores)\n",
    "\n",
    "print('개별 MSE: ',np.round(neg_mean_scores,2))\n",
    "print('개별 RMSE: ',np.round(rmse_scores,2))\n",
    "print(f'평균 RMSE: {avg_rmse:.4f}')"
   ]
  },
  {
   "source": [
    "## Petal Width에 대한 회귀식 만들기"
   ],
   "cell_type": "markdown",
   "metadata": {}
  },
  {
   "cell_type": "code",
   "execution_count": 11,
   "metadata": {},
   "outputs": [
    {
     "output_type": "stream",
     "name": "stdout",
     "text": [
      "MSE: 0.04, RMSE: 0.19\nR_squared: 0.9226\n"
     ]
    }
   ],
   "source": [
    "X = df.iloc[:,[0,1,2,4]].values\n",
    "y = df.iloc[:,3].values\n",
    "X_train, X_test, y_train, y_test = train_test_split(\n",
    "    X, y, test_size=0.2, random_state=2021\n",
    ")\n",
    "lr = LinearRegression()\n",
    "lr.fit(X_train, y_train)\n",
    "pred = lr.predict(X_test)\n",
    "mse = mean_squared_error(y_test, pred)\n",
    "r2 = r2_score(y_test, pred)\n",
    "print(f'MSE: {mse:.2f}, RMSE: {np.sqrt(mse):.2f}')\n",
    "print(f'R_squared: {r2:.4f}')"
   ]
  },
  {
   "cell_type": "code",
   "execution_count": 12,
   "metadata": {},
   "outputs": [
    {
     "output_type": "execute_result",
     "data": {
      "text/plain": [
       "array([-0.12876754,  0.17861614,  0.32741898,  0.37562097])"
      ]
     },
     "metadata": {},
     "execution_count": 12
    }
   ],
   "source": [
    "lr.coef_"
   ]
  },
  {
   "cell_type": "code",
   "execution_count": 13,
   "metadata": {},
   "outputs": [
    {
     "output_type": "execute_result",
     "data": {
      "text/plain": [
       "-0.19445016041642238"
      ]
     },
     "metadata": {},
     "execution_count": 13
    }
   ],
   "source": [
    "lr.intercept_"
   ]
  },
  {
   "source": [
    "#### Petal Width에 대한 회귀식\n",
    "- pw = -0.128*sl + 0.178*sw + 0.327*pl + 0.375*cl - 0.194"
   ],
   "cell_type": "markdown",
   "metadata": {}
  },
  {
   "source": [
    "#### Petal Width 교차검증"
   ],
   "cell_type": "markdown",
   "metadata": {}
  },
  {
   "cell_type": "code",
   "execution_count": 14,
   "metadata": {},
   "outputs": [
    {
     "output_type": "stream",
     "name": "stdout",
     "text": [
      "개별 MSE:  [-0.01 -0.02 -0.02 -0.04 -0.07]\n개별 RMSE:  [0.09 0.14 0.15 0.19 0.26]\n평균 RMSE: 0.1667\n"
     ]
    }
   ],
   "source": [
    "# 5 폴드 세트로 MSE를 구함\n",
    "neg_mean_scores = cross_val_score(lr, X, y,\n",
    "                                scoring='neg_mean_squared_error', cv=5)\n",
    "rmse_scores = np.sqrt(-neg_mean_scores)\n",
    "avg_rmse = np.average(rmse_scores)\n",
    "\n",
    "print('개별 MSE: ',np.round(neg_mean_scores,2))\n",
    "print('개별 RMSE: ',np.round(rmse_scores,2))\n",
    "print(f'평균 RMSE: {avg_rmse:.4f}')"
   ]
  },
  {
   "source": [
    "## Sepal Length에 대한 회귀식 만들기"
   ],
   "cell_type": "markdown",
   "metadata": {}
  },
  {
   "cell_type": "code",
   "execution_count": 15,
   "metadata": {},
   "outputs": [
    {
     "output_type": "stream",
     "name": "stdout",
     "text": [
      "MSE: 0.07, RMSE: 0.27\nR_squared: 0.8808\n"
     ]
    }
   ],
   "source": [
    "X = df.iloc[:,[1,2,3,4]].values\n",
    "y = df.iloc[:,0].values\n",
    "X_train, X_test, y_train, y_test = train_test_split(\n",
    "    X, y, test_size=0.2, random_state=2021\n",
    ")\n",
    "lr = LinearRegression()\n",
    "lr.fit(X_train, y_train)\n",
    "pred = lr.predict(X_test)\n",
    "mse = mean_squared_error(y_test, pred)\n",
    "r2 = r2_score(y_test, pred)\n",
    "print(f'MSE: {mse:.2f}, RMSE: {np.sqrt(mse):.2f}')\n",
    "print(f'R_squared: {r2:.4f}')"
   ]
  },
  {
   "cell_type": "code",
   "execution_count": 16,
   "metadata": {},
   "outputs": [
    {
     "output_type": "execute_result",
     "data": {
      "text/plain": [
       "array([ 0.60733316,  0.77406606, -0.49825608, -0.21265098])"
      ]
     },
     "metadata": {},
     "execution_count": 16
    }
   ],
   "source": [
    "lr.coef_"
   ]
  },
  {
   "cell_type": "code",
   "execution_count": 17,
   "metadata": {},
   "outputs": [
    {
     "output_type": "execute_result",
     "data": {
      "text/plain": [
       "1.9046012133683519"
      ]
     },
     "metadata": {},
     "execution_count": 17
    }
   ],
   "source": [
    "lr.intercept_"
   ]
  },
  {
   "source": [
    "#### Sepal Length에 대한 회귀식\n",
    "- sl = 0.607*sw + 0774*pl - 0.498*pw - 0.212*cl + 1.904"
   ],
   "cell_type": "markdown",
   "metadata": {}
  },
  {
   "source": [
    "#### Sepal Length 교차검증"
   ],
   "cell_type": "markdown",
   "metadata": {}
  },
  {
   "cell_type": "code",
   "execution_count": 18,
   "metadata": {},
   "outputs": [
    {
     "output_type": "stream",
     "name": "stdout",
     "text": [
      "개별 MSE:  [-0.06 -0.08 -0.14 -0.1  -0.14]\n개별 RMSE:  [0.25 0.29 0.37 0.31 0.38]\n평균 RMSE: 0.3199\n"
     ]
    }
   ],
   "source": [
    "# 5 폴드 세트로 MSE를 구함\n",
    "neg_mean_scores = cross_val_score(lr, X, y,\n",
    "                                scoring='neg_mean_squared_error', cv=5)\n",
    "rmse_scores = np.sqrt(-neg_mean_scores)\n",
    "avg_rmse = np.average(rmse_scores)\n",
    "\n",
    "print('개별 MSE: ',np.round(neg_mean_scores,2))\n",
    "print('개별 RMSE: ',np.round(rmse_scores,2))\n",
    "print(f'평균 RMSE: {avg_rmse:.4f}')"
   ]
  },
  {
   "source": [
    "## Sepal Width에 대한 회귀식 만들기"
   ],
   "cell_type": "markdown",
   "metadata": {}
  },
  {
   "cell_type": "code",
   "execution_count": 19,
   "metadata": {},
   "outputs": [
    {
     "output_type": "stream",
     "name": "stdout",
     "text": [
      "MSE: 0.05, RMSE: 0.22\nR_squared: 0.5667\n"
     ]
    }
   ],
   "source": [
    "X = df.iloc[:,[0,2,3,4]].values\n",
    "y = df.iloc[:,1].values\n",
    "X_train, X_test, y_train, y_test = train_test_split(\n",
    "    X, y, test_size=0.2, random_state=2021\n",
    ")\n",
    "lr = LinearRegression()\n",
    "lr.fit(X_train, y_train)\n",
    "pred = lr.predict(X_test)\n",
    "mse = mean_squared_error(y_test, pred)\n",
    "r2 = r2_score(y_test, pred)\n",
    "print(f'MSE: {mse:.2f}, RMSE: {np.sqrt(mse):.2f}')\n",
    "print(f'R_squared: {r2:.4f}')"
   ]
  },
  {
   "cell_type": "code",
   "execution_count": 20,
   "metadata": {},
   "outputs": [
    {
     "output_type": "execute_result",
     "data": {
      "text/plain": [
       "array([ 0.61339502, -0.59499152,  0.69803975, -0.12580651])"
      ]
     },
     "metadata": {},
     "execution_count": 20
    }
   ],
   "source": [
    "lr.coef_"
   ]
  },
  {
   "cell_type": "code",
   "execution_count": 21,
   "metadata": {},
   "outputs": [
    {
     "output_type": "execute_result",
     "data": {
      "text/plain": [
       "0.9976767818176961"
      ]
     },
     "metadata": {},
     "execution_count": 21
    }
   ],
   "source": [
    "lr.intercept_"
   ]
  },
  {
   "source": [
    "#### Sepal Width에 대한 회귀식\n",
    "- sw = 0.613*sl -0.594*pl + 0.698*pw -0.125*cl + 0.997"
   ],
   "cell_type": "markdown",
   "metadata": {}
  },
  {
   "source": [
    "#### Sepal Width 교차검증"
   ],
   "cell_type": "markdown",
   "metadata": {}
  },
  {
   "cell_type": "code",
   "execution_count": 22,
   "metadata": {},
   "outputs": [
    {
     "output_type": "stream",
     "name": "stdout",
     "text": [
      "개별 MSE:  [-0.08 -0.11 -0.16 -0.08 -0.11]\n개별 RMSE:  [0.28 0.33 0.41 0.29 0.33]\n평균 RMSE: 0.3289\n"
     ]
    }
   ],
   "source": [
    "# 5 폴드 세트로 MSE를 구함\n",
    "neg_mean_scores = cross_val_score(lr, X, y,\n",
    "                                scoring='neg_mean_squared_error', cv=5)\n",
    "rmse_scores = np.sqrt(-neg_mean_scores)\n",
    "avg_rmse = np.average(rmse_scores)\n",
    "\n",
    "print('개별 MSE: ',np.round(neg_mean_scores,2))\n",
    "print('개별 RMSE: ',np.round(rmse_scores,2))\n",
    "print(f'평균 RMSE: {avg_rmse:.4f}')"
   ]
  },
  {
   "cell_type": "code",
   "execution_count": null,
   "metadata": {},
   "outputs": [],
   "source": []
  }
 ]
}
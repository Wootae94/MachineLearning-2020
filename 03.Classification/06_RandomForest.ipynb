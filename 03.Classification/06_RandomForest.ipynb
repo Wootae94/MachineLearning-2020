{
 "metadata": {
  "language_info": {
   "codemirror_mode": {
    "name": "ipython",
    "version": 3
   },
   "file_extension": ".py",
   "mimetype": "text/x-python",
   "name": "python",
   "nbconvert_exporter": "python",
   "pygments_lexer": "ipython3",
   "version": "3.8.3-final"
  },
  "orig_nbformat": 2,
  "kernelspec": {
   "name": "python3",
   "display_name": "Python 3",
   "language": "python"
  }
 },
 "nbformat": 4,
 "nbformat_minor": 2,
 "cells": [
  {
   "source": [
    "# 랜덤 포레스트(Random Forest)"
   ],
   "cell_type": "markdown",
   "metadata": {}
  },
  {
   "cell_type": "code",
   "execution_count": 2,
   "metadata": {},
   "outputs": [],
   "source": [
    "import pandas as pd\n",
    "feature_name_df = pd.read_csv('../00.data/UCI_HAR_Dataset/features.txt', sep='\\s+',\n",
    "                                header=None, names=['col_index','col_name'])"
   ]
  },
  {
   "cell_type": "code",
   "execution_count": 3,
   "metadata": {},
   "outputs": [],
   "source": [
    "def get_new_feature_name_df(old_df):\n",
    "    dup_df = pd.DataFrame({'dup_cnt':feature_name_df.groupby('col_name').cumcount()})\n",
    "    new_df = pd.merge(old_df.reset_index(), dup_df.reset_index())\n",
    "    new_df['col_name'] = new_df[['col_name', 'dup_cnt']].\\\n",
    "        apply(lambda x: x[0]+'_'+str(x[1]) if x[1] > 0 else x[0], axis=1)\n",
    "    new_df = new_df.drop(['index'], axis=1)\n",
    "    return new_df"
   ]
  },
  {
   "cell_type": "code",
   "execution_count": 4,
   "metadata": {},
   "outputs": [],
   "source": [
    "new_feature_df = get_new_feature_name_df(feature_name_df)\n",
    "feature_list = list(new_feature_df.col_name.values)"
   ]
  },
  {
   "cell_type": "code",
   "execution_count": 6,
   "metadata": {},
   "outputs": [],
   "source": [
    "# X_train\n",
    "X_train_df = pd.read_csv('../00.data/UCI_HAR_Dataset/train/X_train.txt', sep='\\s+',header=None,names=feature_list)\n",
    "X_train = X_train_df.values\n",
    "\n",
    "# X_test\n",
    "X_test_df = pd.read_csv('../00.data/UCI_HAR_Dataset/test/X_test.txt', sep='\\s+',header=None,names=feature_list)\n",
    "X_test = X_test_df.values\n",
    "\n",
    "# y_train\n",
    "y_train_df = pd.read_csv('../00.data/UCI_HAR_Dataset/train/y_train.txt', sep='\\s+',header=None,names=['action'])\n",
    "y_train = y_train_df.values\n",
    "\n",
    "# y_test\n",
    "y_test_df = pd.read_csv('../00.data/UCI_HAR_Dataset/test/y_test.txt', sep='\\s+',header=None,names=['action'])\n",
    "y_test = y_test_df.values"
   ]
  },
  {
   "source": [
    "### 랜덤 포레스트 모델 생성/학습/예측/평가"
   ],
   "cell_type": "markdown",
   "metadata": {}
  },
  {
   "cell_type": "code",
   "execution_count": 8,
   "metadata": {},
   "outputs": [
    {
     "output_type": "stream",
     "name": "stdout",
     "text": [
      "랜덤 포레스트 모델의 정확도: 0.9284\n"
     ]
    }
   ],
   "source": [
    "from sklearn.ensemble import RandomForestClassifier\n",
    "from sklearn.metrics import accuracy_score\n",
    "rf_clf = RandomForestClassifier()\n",
    "rf_clf.fit(X_train,y_train)\n",
    "pred = rf_clf.predict(X_test)\n",
    "acc = accuracy_score(y_test,pred)\n",
    "print(f'랜덤 포레스트 모델의 정확도: {acc:.4f}')"
   ]
  },
  {
   "source": [
    "### 최적 파라미터 찾기"
   ],
   "cell_type": "markdown",
   "metadata": {}
  },
  {
   "cell_type": "code",
   "execution_count": 9,
   "metadata": {},
   "outputs": [],
   "source": [
    "from sklearn.model_selection import GridSearchCV\n",
    "\n",
    "params = {\n",
    "    'n_estimators': [10, 30, 50],\n",
    "    'max_depth': [8, 12, 16],\n",
    "    'min_samples_split': [12, 16, 20]\n",
    "}"
   ]
  },
  {
   "cell_type": "code",
   "execution_count": 10,
   "metadata": {},
   "outputs": [
    {
     "output_type": "stream",
     "name": "stdout",
     "text": [
      "최고 평균 정확도: 0.9147\n최적 파라미터:  {'max_depth': 8, 'min_samples_split': 16, 'n_estimators': 50}\n"
     ]
    }
   ],
   "source": [
    "rf_clf = RandomForestClassifier(n_jobs=1)\n",
    "grid_cv = GridSearchCV(rf_clf, param_grid=params, cv=3, n_jobs=1)\n",
    "grid_cv.fit(X_train,y_train)\n",
    "print(f'최고 평균 정확도: {grid_cv.best_score_:.4f}')\n",
    "print('최적 파라미터: ', grid_cv.best_params_)"
   ]
  },
  {
   "cell_type": "code",
   "execution_count": 18,
   "metadata": {},
   "outputs": [
    {
     "output_type": "stream",
     "name": "stdout",
     "text": [
      "최고 평균 정확도: 0.9192\n최적 파라미터:  {'max_depth': 27, 'min_samples_split': 19, 'n_estimators': 31}\n"
     ]
    }
   ],
   "source": [
    "from sklearn.model_selection import RandomizedSearchCV\n",
    "from scipy.stats import randint\n",
    "\n",
    "param_distribs = { 'n_estimators': randint(low=1, high=50), 'max_depth': randint(low=1, high=50), 'min_samples_split': randint(low=1, high=50)}\n",
    "rf_clf = RandomForestClassifier(n_jobs=1)\n",
    "grid_cv = RandomizedSearchCV(rf_clf, param_distributions=param_distribs, n_iter=10, cv=5, n_jobs=1)\n",
    "grid_cv.fit(X_train,y_train)\n",
    "print(f'최고 평균 정확도: {grid_cv.best_score_:.4f}')\n",
    "print('최적 파라미터: ', grid_cv.best_params_)\n"
   ]
  },
  {
   "cell_type": "code",
   "execution_count": 19,
   "metadata": {},
   "outputs": [
    {
     "output_type": "stream",
     "name": "stdout",
     "text": [
      "최적 파라미터 랜덤 포레스트 정확도: 0.9209\n"
     ]
    }
   ],
   "source": [
    "best = grid_cv.best_estimator_\n",
    "pred = best.predict(X_test)\n",
    "acc = accuracy_score(y_test, pred)\n",
    "print(f'최적 파라미터 랜덤 포레스트 정확도: {acc:.4f}')"
   ]
  },
  {
   "cell_type": "code",
   "execution_count": null,
   "metadata": {},
   "outputs": [],
   "source": []
  },
  {
   "source": [
    "# K 최근접 이웃(K-Nearest Neighbor)"
   ],
   "cell_type": "markdown",
   "metadata": {}
  },
  {
   "cell_type": "code",
   "execution_count": 16,
   "metadata": {},
   "outputs": [
    {
     "output_type": "execute_result",
     "data": {
      "text/plain": [
       "{'algorithm': 'auto',\n",
       " 'leaf_size': 30,\n",
       " 'metric': 'minkowski',\n",
       " 'metric_params': None,\n",
       " 'n_jobs': None,\n",
       " 'n_neighbors': 5,\n",
       " 'p': 2,\n",
       " 'weights': 'uniform'}"
      ]
     },
     "metadata": {},
     "execution_count": 16
    }
   ],
   "source": [
    "from sklearn.neighbors import KNeighborsClassifier\n",
    "knn = KNeighborsClassifier()\n",
    "knn.get_params()"
   ]
  },
  {
   "cell_type": "code",
   "execution_count": 17,
   "metadata": {},
   "outputs": [
    {
     "output_type": "execute_result",
     "data": {
      "text/plain": [
       "0.9015948422124194"
      ]
     },
     "metadata": {},
     "execution_count": 17
    }
   ],
   "source": [
    "knn.fit(X_train, y_train)\n",
    "pred = knn.predict(X_test)\n",
    "accuracy_score(y_test, pred)"
   ]
  },
  {
   "cell_type": "code",
   "execution_count": null,
   "metadata": {},
   "outputs": [],
   "source": []
  }
 ]
}
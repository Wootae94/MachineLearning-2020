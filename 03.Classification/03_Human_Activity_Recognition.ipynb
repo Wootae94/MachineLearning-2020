{
 "metadata": {
  "language_info": {
   "codemirror_mode": {
    "name": "ipython",
    "version": 3
   },
   "file_extension": ".py",
   "mimetype": "text/x-python",
   "name": "python",
   "nbconvert_exporter": "python",
   "pygments_lexer": "ipython3",
   "version": "3.8.3-final"
  },
  "orig_nbformat": 2,
  "kernelspec": {
   "name": "python3",
   "display_name": "Python 3",
   "language": "python"
  }
 },
 "nbformat": 4,
 "nbformat_minor": 2,
 "cells": [
  {
   "source": [
    "# Human Activity Recognition"
   ],
   "cell_type": "markdown",
   "metadata": {}
  },
  {
   "cell_type": "code",
   "execution_count": 1,
   "metadata": {},
   "outputs": [],
   "source": [
    "from sklearn.model_selection import train_test_split\n",
    "from sklearn.tree import DecisionTreeClassifier\n",
    "from sklearn.metrics import accuracy_score\n",
    "from sklearn.model_selection import GridSearchCV"
   ]
  },
  {
   "cell_type": "code",
   "execution_count": 2,
   "metadata": {},
   "outputs": [],
   "source": [
    "import pandas as pd"
   ]
  },
  {
   "source": [
    "### Feature Name 데이터로부터 가져오기"
   ],
   "cell_type": "markdown",
   "metadata": {}
  },
  {
   "cell_type": "code",
   "execution_count": 3,
   "metadata": {},
   "outputs": [
    {
     "output_type": "execute_result",
     "data": {
      "text/plain": [
       "   col_index           col_name\n",
       "0          1  tBodyAcc-mean()-X\n",
       "1          2  tBodyAcc-mean()-Y\n",
       "2          3  tBodyAcc-mean()-Z\n",
       "3          4   tBodyAcc-std()-X\n",
       "4          5   tBodyAcc-std()-Y"
      ],
      "text/html": "<div>\n<style scoped>\n    .dataframe tbody tr th:only-of-type {\n        vertical-align: middle;\n    }\n\n    .dataframe tbody tr th {\n        vertical-align: top;\n    }\n\n    .dataframe thead th {\n        text-align: right;\n    }\n</style>\n<table border=\"1\" class=\"dataframe\">\n  <thead>\n    <tr style=\"text-align: right;\">\n      <th></th>\n      <th>col_index</th>\n      <th>col_name</th>\n    </tr>\n  </thead>\n  <tbody>\n    <tr>\n      <th>0</th>\n      <td>1</td>\n      <td>tBodyAcc-mean()-X</td>\n    </tr>\n    <tr>\n      <th>1</th>\n      <td>2</td>\n      <td>tBodyAcc-mean()-Y</td>\n    </tr>\n    <tr>\n      <th>2</th>\n      <td>3</td>\n      <td>tBodyAcc-mean()-Z</td>\n    </tr>\n    <tr>\n      <th>3</th>\n      <td>4</td>\n      <td>tBodyAcc-std()-X</td>\n    </tr>\n    <tr>\n      <th>4</th>\n      <td>5</td>\n      <td>tBodyAcc-std()-Y</td>\n    </tr>\n  </tbody>\n</table>\n</div>"
     },
     "metadata": {},
     "execution_count": 3
    }
   ],
   "source": [
    "feature_name_df = pd.read_csv('../00.data/UCI_HAR_Dataset/features.txt', sep='\\s+',\n",
    "                                header=None, names=['col_index','col_name'])\n",
    "feature_name_df.head()"
   ]
  },
  {
   "cell_type": "code",
   "execution_count": 4,
   "metadata": {},
   "outputs": [],
   "source": [
    "def get_new_feature_name_df(old_df):\n",
    "    dup_df = pd.DataFrame({'dup_cnt':feature_name_df.groupby('col_name').cumcount()})\n",
    "    new_df = pd.merge(old_df.reset_index(), dup_df.reset_index())\n",
    "    new_df['col_name'] = new_df[['col_name', 'dup_cnt']].\\\n",
    "        apply(lambda x: x[0]+'_'+str(x[1]) if x[1] > 0 else x[0], axis=1)\n",
    "    new_df = new_df.drop(['index'], axis=1)\n",
    "    return new_df"
   ]
  },
  {
   "cell_type": "code",
   "execution_count": 5,
   "metadata": {},
   "outputs": [
    {
     "output_type": "execute_result",
     "data": {
      "text/plain": [
       "   col_index           col_name  dup_cnt\n",
       "0          1  tBodyAcc-mean()-X        0\n",
       "1          2  tBodyAcc-mean()-Y        0\n",
       "2          3  tBodyAcc-mean()-Z        0\n",
       "3          4   tBodyAcc-std()-X        0\n",
       "4          5   tBodyAcc-std()-Y        0"
      ],
      "text/html": "<div>\n<style scoped>\n    .dataframe tbody tr th:only-of-type {\n        vertical-align: middle;\n    }\n\n    .dataframe tbody tr th {\n        vertical-align: top;\n    }\n\n    .dataframe thead th {\n        text-align: right;\n    }\n</style>\n<table border=\"1\" class=\"dataframe\">\n  <thead>\n    <tr style=\"text-align: right;\">\n      <th></th>\n      <th>col_index</th>\n      <th>col_name</th>\n      <th>dup_cnt</th>\n    </tr>\n  </thead>\n  <tbody>\n    <tr>\n      <th>0</th>\n      <td>1</td>\n      <td>tBodyAcc-mean()-X</td>\n      <td>0</td>\n    </tr>\n    <tr>\n      <th>1</th>\n      <td>2</td>\n      <td>tBodyAcc-mean()-Y</td>\n      <td>0</td>\n    </tr>\n    <tr>\n      <th>2</th>\n      <td>3</td>\n      <td>tBodyAcc-mean()-Z</td>\n      <td>0</td>\n    </tr>\n    <tr>\n      <th>3</th>\n      <td>4</td>\n      <td>tBodyAcc-std()-X</td>\n      <td>0</td>\n    </tr>\n    <tr>\n      <th>4</th>\n      <td>5</td>\n      <td>tBodyAcc-std()-Y</td>\n      <td>0</td>\n    </tr>\n  </tbody>\n</table>\n</div>"
     },
     "metadata": {},
     "execution_count": 5
    }
   ],
   "source": [
    "new_feature_df = get_new_feature_name_df(feature_name_df)\n",
    "new_feature_df.head()"
   ]
  },
  {
   "cell_type": "code",
   "execution_count": 6,
   "metadata": {},
   "outputs": [
    {
     "output_type": "execute_result",
     "data": {
      "text/plain": [
       "['tBodyAcc-mean()-X',\n",
       " 'tBodyAcc-mean()-Y',\n",
       " 'tBodyAcc-mean()-Z',\n",
       " 'tBodyAcc-std()-X',\n",
       " 'tBodyAcc-std()-Y',\n",
       " 'tBodyAcc-std()-Z',\n",
       " 'tBodyAcc-mad()-X',\n",
       " 'tBodyAcc-mad()-Y',\n",
       " 'tBodyAcc-mad()-Z',\n",
       " 'tBodyAcc-max()-X']"
      ]
     },
     "metadata": {},
     "execution_count": 6
    }
   ],
   "source": [
    "feature_list = list(new_feature_df.col_name.values)\n",
    "feature_list[:10]"
   ]
  },
  {
   "source": [
    "### X_train, X_test, y_train, y_test 데이터로부터 가져오기"
   ],
   "cell_type": "markdown",
   "metadata": {}
  },
  {
   "cell_type": "code",
   "execution_count": 7,
   "metadata": {},
   "outputs": [
    {
     "output_type": "execute_result",
     "data": {
      "text/plain": [
       "      tBodyAcc-mean()-X  tBodyAcc-mean()-Y  tBodyAcc-mean()-Z  \\\n",
       "0              0.288585          -0.020294          -0.132905   \n",
       "1              0.278419          -0.016411          -0.123520   \n",
       "2              0.279653          -0.019467          -0.113462   \n",
       "3              0.279174          -0.026201          -0.123283   \n",
       "4              0.276629          -0.016570          -0.115362   \n",
       "...                 ...                ...                ...   \n",
       "7347           0.299665          -0.057193          -0.181233   \n",
       "7348           0.273853          -0.007749          -0.147468   \n",
       "7349           0.273387          -0.017011          -0.045022   \n",
       "7350           0.289654          -0.018843          -0.158281   \n",
       "7351           0.351503          -0.012423          -0.203867   \n",
       "\n",
       "      tBodyAcc-std()-X  tBodyAcc-std()-Y  tBodyAcc-std()-Z  tBodyAcc-mad()-X  \\\n",
       "0            -0.995279         -0.983111         -0.913526         -0.995112   \n",
       "1            -0.998245         -0.975300         -0.960322         -0.998807   \n",
       "2            -0.995380         -0.967187         -0.978944         -0.996520   \n",
       "3            -0.996091         -0.983403         -0.990675         -0.997099   \n",
       "4            -0.998139         -0.980817         -0.990482         -0.998321   \n",
       "...                ...               ...               ...               ...   \n",
       "7347         -0.195387          0.039905          0.077078         -0.282301   \n",
       "7348         -0.235309          0.004816          0.059280         -0.322552   \n",
       "7349         -0.218218         -0.103822          0.274533         -0.304515   \n",
       "7350         -0.219139         -0.111412          0.268893         -0.310487   \n",
       "7351         -0.269270         -0.087212          0.177404         -0.377404   \n",
       "\n",
       "      tBodyAcc-mad()-Y  tBodyAcc-mad()-Z  tBodyAcc-max()-X  ...  \\\n",
       "0            -0.983185         -0.923527         -0.934724  ...   \n",
       "1            -0.974914         -0.957686         -0.943068  ...   \n",
       "2            -0.963668         -0.977469         -0.938692  ...   \n",
       "3            -0.982750         -0.989302         -0.938692  ...   \n",
       "4            -0.979672         -0.990441         -0.942469  ...   \n",
       "...                ...               ...               ...  ...   \n",
       "7347          0.043616          0.060410          0.210795  ...   \n",
       "7348         -0.029456          0.080585          0.117440  ...   \n",
       "7349         -0.098913          0.332584          0.043999  ...   \n",
       "7350         -0.068200          0.319473          0.101702  ...   \n",
       "7351         -0.038678          0.229430          0.269013  ...   \n",
       "\n",
       "      fBodyBodyGyroJerkMag-meanFreq()  fBodyBodyGyroJerkMag-skewness()  \\\n",
       "0                           -0.074323                        -0.298676   \n",
       "1                            0.158075                        -0.595051   \n",
       "2                            0.414503                        -0.390748   \n",
       "3                            0.404573                        -0.117290   \n",
       "4                            0.087753                        -0.351471   \n",
       "...                               ...                              ...   \n",
       "7347                        -0.070157                        -0.588433   \n",
       "7348                         0.165259                        -0.390738   \n",
       "7349                         0.195034                         0.025145   \n",
       "7350                         0.013865                         0.063907   \n",
       "7351                        -0.058402                        -0.387052   \n",
       "\n",
       "      fBodyBodyGyroJerkMag-kurtosis()  angle(tBodyAccMean,gravity)  \\\n",
       "0                           -0.710304                    -0.112754   \n",
       "1                           -0.861499                     0.053477   \n",
       "2                           -0.760104                    -0.118559   \n",
       "3                           -0.482845                    -0.036788   \n",
       "4                           -0.699205                     0.123320   \n",
       "...                               ...                          ...   \n",
       "7347                        -0.880324                    -0.190437   \n",
       "7348                        -0.680744                     0.064907   \n",
       "7349                        -0.304029                     0.052806   \n",
       "7350                        -0.344314                    -0.101360   \n",
       "7351                        -0.740738                    -0.280088   \n",
       "\n",
       "      angle(tBodyAccJerkMean),gravityMean)  angle(tBodyGyroMean,gravityMean)  \\\n",
       "0                                 0.030400                         -0.464761   \n",
       "1                                -0.007435                         -0.732626   \n",
       "2                                 0.177899                          0.100699   \n",
       "3                                -0.012892                          0.640011   \n",
       "4                                 0.122542                          0.693578   \n",
       "...                                    ...                               ...   \n",
       "7347                              0.829718                          0.206972   \n",
       "7348                              0.875679                         -0.879033   \n",
       "7349                             -0.266724                          0.864404   \n",
       "7350                              0.700740                          0.936674   \n",
       "7351                             -0.007739                         -0.056088   \n",
       "\n",
       "      angle(tBodyGyroJerkMean,gravityMean)  angle(X,gravityMean)  \\\n",
       "0                                -0.018446             -0.841247   \n",
       "1                                 0.703511             -0.844788   \n",
       "2                                 0.808529             -0.848933   \n",
       "3                                -0.485366             -0.848649   \n",
       "4                                -0.615971             -0.847865   \n",
       "...                                    ...                   ...   \n",
       "7347                             -0.425619             -0.791883   \n",
       "7348                              0.400219             -0.771840   \n",
       "7349                              0.701169             -0.779133   \n",
       "7350                             -0.589479             -0.785181   \n",
       "7351                             -0.616956             -0.783267   \n",
       "\n",
       "      angle(Y,gravityMean)  angle(Z,gravityMean)  \n",
       "0                 0.179941             -0.058627  \n",
       "1                 0.180289             -0.054317  \n",
       "2                 0.180637             -0.049118  \n",
       "3                 0.181935             -0.047663  \n",
       "4                 0.185151             -0.043892  \n",
       "...                    ...                   ...  \n",
       "7347              0.238604              0.049819  \n",
       "7348              0.252676              0.050053  \n",
       "7349              0.249145              0.040811  \n",
       "7350              0.246432              0.025339  \n",
       "7351              0.246809              0.036695  \n",
       "\n",
       "[7352 rows x 561 columns]"
      ],
      "text/html": "<div>\n<style scoped>\n    .dataframe tbody tr th:only-of-type {\n        vertical-align: middle;\n    }\n\n    .dataframe tbody tr th {\n        vertical-align: top;\n    }\n\n    .dataframe thead th {\n        text-align: right;\n    }\n</style>\n<table border=\"1\" class=\"dataframe\">\n  <thead>\n    <tr style=\"text-align: right;\">\n      <th></th>\n      <th>tBodyAcc-mean()-X</th>\n      <th>tBodyAcc-mean()-Y</th>\n      <th>tBodyAcc-mean()-Z</th>\n      <th>tBodyAcc-std()-X</th>\n      <th>tBodyAcc-std()-Y</th>\n      <th>tBodyAcc-std()-Z</th>\n      <th>tBodyAcc-mad()-X</th>\n      <th>tBodyAcc-mad()-Y</th>\n      <th>tBodyAcc-mad()-Z</th>\n      <th>tBodyAcc-max()-X</th>\n      <th>...</th>\n      <th>fBodyBodyGyroJerkMag-meanFreq()</th>\n      <th>fBodyBodyGyroJerkMag-skewness()</th>\n      <th>fBodyBodyGyroJerkMag-kurtosis()</th>\n      <th>angle(tBodyAccMean,gravity)</th>\n      <th>angle(tBodyAccJerkMean),gravityMean)</th>\n      <th>angle(tBodyGyroMean,gravityMean)</th>\n      <th>angle(tBodyGyroJerkMean,gravityMean)</th>\n      <th>angle(X,gravityMean)</th>\n      <th>angle(Y,gravityMean)</th>\n      <th>angle(Z,gravityMean)</th>\n    </tr>\n  </thead>\n  <tbody>\n    <tr>\n      <th>0</th>\n      <td>0.288585</td>\n      <td>-0.020294</td>\n      <td>-0.132905</td>\n      <td>-0.995279</td>\n      <td>-0.983111</td>\n      <td>-0.913526</td>\n      <td>-0.995112</td>\n      <td>-0.983185</td>\n      <td>-0.923527</td>\n      <td>-0.934724</td>\n      <td>...</td>\n      <td>-0.074323</td>\n      <td>-0.298676</td>\n      <td>-0.710304</td>\n      <td>-0.112754</td>\n      <td>0.030400</td>\n      <td>-0.464761</td>\n      <td>-0.018446</td>\n      <td>-0.841247</td>\n      <td>0.179941</td>\n      <td>-0.058627</td>\n    </tr>\n    <tr>\n      <th>1</th>\n      <td>0.278419</td>\n      <td>-0.016411</td>\n      <td>-0.123520</td>\n      <td>-0.998245</td>\n      <td>-0.975300</td>\n      <td>-0.960322</td>\n      <td>-0.998807</td>\n      <td>-0.974914</td>\n      <td>-0.957686</td>\n      <td>-0.943068</td>\n      <td>...</td>\n      <td>0.158075</td>\n      <td>-0.595051</td>\n      <td>-0.861499</td>\n      <td>0.053477</td>\n      <td>-0.007435</td>\n      <td>-0.732626</td>\n      <td>0.703511</td>\n      <td>-0.844788</td>\n      <td>0.180289</td>\n      <td>-0.054317</td>\n    </tr>\n    <tr>\n      <th>2</th>\n      <td>0.279653</td>\n      <td>-0.019467</td>\n      <td>-0.113462</td>\n      <td>-0.995380</td>\n      <td>-0.967187</td>\n      <td>-0.978944</td>\n      <td>-0.996520</td>\n      <td>-0.963668</td>\n      <td>-0.977469</td>\n      <td>-0.938692</td>\n      <td>...</td>\n      <td>0.414503</td>\n      <td>-0.390748</td>\n      <td>-0.760104</td>\n      <td>-0.118559</td>\n      <td>0.177899</td>\n      <td>0.100699</td>\n      <td>0.808529</td>\n      <td>-0.848933</td>\n      <td>0.180637</td>\n      <td>-0.049118</td>\n    </tr>\n    <tr>\n      <th>3</th>\n      <td>0.279174</td>\n      <td>-0.026201</td>\n      <td>-0.123283</td>\n      <td>-0.996091</td>\n      <td>-0.983403</td>\n      <td>-0.990675</td>\n      <td>-0.997099</td>\n      <td>-0.982750</td>\n      <td>-0.989302</td>\n      <td>-0.938692</td>\n      <td>...</td>\n      <td>0.404573</td>\n      <td>-0.117290</td>\n      <td>-0.482845</td>\n      <td>-0.036788</td>\n      <td>-0.012892</td>\n      <td>0.640011</td>\n      <td>-0.485366</td>\n      <td>-0.848649</td>\n      <td>0.181935</td>\n      <td>-0.047663</td>\n    </tr>\n    <tr>\n      <th>4</th>\n      <td>0.276629</td>\n      <td>-0.016570</td>\n      <td>-0.115362</td>\n      <td>-0.998139</td>\n      <td>-0.980817</td>\n      <td>-0.990482</td>\n      <td>-0.998321</td>\n      <td>-0.979672</td>\n      <td>-0.990441</td>\n      <td>-0.942469</td>\n      <td>...</td>\n      <td>0.087753</td>\n      <td>-0.351471</td>\n      <td>-0.699205</td>\n      <td>0.123320</td>\n      <td>0.122542</td>\n      <td>0.693578</td>\n      <td>-0.615971</td>\n      <td>-0.847865</td>\n      <td>0.185151</td>\n      <td>-0.043892</td>\n    </tr>\n    <tr>\n      <th>...</th>\n      <td>...</td>\n      <td>...</td>\n      <td>...</td>\n      <td>...</td>\n      <td>...</td>\n      <td>...</td>\n      <td>...</td>\n      <td>...</td>\n      <td>...</td>\n      <td>...</td>\n      <td>...</td>\n      <td>...</td>\n      <td>...</td>\n      <td>...</td>\n      <td>...</td>\n      <td>...</td>\n      <td>...</td>\n      <td>...</td>\n      <td>...</td>\n      <td>...</td>\n      <td>...</td>\n    </tr>\n    <tr>\n      <th>7347</th>\n      <td>0.299665</td>\n      <td>-0.057193</td>\n      <td>-0.181233</td>\n      <td>-0.195387</td>\n      <td>0.039905</td>\n      <td>0.077078</td>\n      <td>-0.282301</td>\n      <td>0.043616</td>\n      <td>0.060410</td>\n      <td>0.210795</td>\n      <td>...</td>\n      <td>-0.070157</td>\n      <td>-0.588433</td>\n      <td>-0.880324</td>\n      <td>-0.190437</td>\n      <td>0.829718</td>\n      <td>0.206972</td>\n      <td>-0.425619</td>\n      <td>-0.791883</td>\n      <td>0.238604</td>\n      <td>0.049819</td>\n    </tr>\n    <tr>\n      <th>7348</th>\n      <td>0.273853</td>\n      <td>-0.007749</td>\n      <td>-0.147468</td>\n      <td>-0.235309</td>\n      <td>0.004816</td>\n      <td>0.059280</td>\n      <td>-0.322552</td>\n      <td>-0.029456</td>\n      <td>0.080585</td>\n      <td>0.117440</td>\n      <td>...</td>\n      <td>0.165259</td>\n      <td>-0.390738</td>\n      <td>-0.680744</td>\n      <td>0.064907</td>\n      <td>0.875679</td>\n      <td>-0.879033</td>\n      <td>0.400219</td>\n      <td>-0.771840</td>\n      <td>0.252676</td>\n      <td>0.050053</td>\n    </tr>\n    <tr>\n      <th>7349</th>\n      <td>0.273387</td>\n      <td>-0.017011</td>\n      <td>-0.045022</td>\n      <td>-0.218218</td>\n      <td>-0.103822</td>\n      <td>0.274533</td>\n      <td>-0.304515</td>\n      <td>-0.098913</td>\n      <td>0.332584</td>\n      <td>0.043999</td>\n      <td>...</td>\n      <td>0.195034</td>\n      <td>0.025145</td>\n      <td>-0.304029</td>\n      <td>0.052806</td>\n      <td>-0.266724</td>\n      <td>0.864404</td>\n      <td>0.701169</td>\n      <td>-0.779133</td>\n      <td>0.249145</td>\n      <td>0.040811</td>\n    </tr>\n    <tr>\n      <th>7350</th>\n      <td>0.289654</td>\n      <td>-0.018843</td>\n      <td>-0.158281</td>\n      <td>-0.219139</td>\n      <td>-0.111412</td>\n      <td>0.268893</td>\n      <td>-0.310487</td>\n      <td>-0.068200</td>\n      <td>0.319473</td>\n      <td>0.101702</td>\n      <td>...</td>\n      <td>0.013865</td>\n      <td>0.063907</td>\n      <td>-0.344314</td>\n      <td>-0.101360</td>\n      <td>0.700740</td>\n      <td>0.936674</td>\n      <td>-0.589479</td>\n      <td>-0.785181</td>\n      <td>0.246432</td>\n      <td>0.025339</td>\n    </tr>\n    <tr>\n      <th>7351</th>\n      <td>0.351503</td>\n      <td>-0.012423</td>\n      <td>-0.203867</td>\n      <td>-0.269270</td>\n      <td>-0.087212</td>\n      <td>0.177404</td>\n      <td>-0.377404</td>\n      <td>-0.038678</td>\n      <td>0.229430</td>\n      <td>0.269013</td>\n      <td>...</td>\n      <td>-0.058402</td>\n      <td>-0.387052</td>\n      <td>-0.740738</td>\n      <td>-0.280088</td>\n      <td>-0.007739</td>\n      <td>-0.056088</td>\n      <td>-0.616956</td>\n      <td>-0.783267</td>\n      <td>0.246809</td>\n      <td>0.036695</td>\n    </tr>\n  </tbody>\n</table>\n<p>7352 rows × 561 columns</p>\n</div>"
     },
     "metadata": {},
     "execution_count": 7
    }
   ],
   "source": [
    "X_train_df = pd.read_csv('../00.data/UCI_HAR_Dataset/train/X_train.txt', sep='\\s+',header=None,names=feature_list)\n",
    "X_train_df"
   ]
  },
  {
   "cell_type": "code",
   "execution_count": 8,
   "metadata": {},
   "outputs": [
    {
     "output_type": "execute_result",
     "data": {
      "text/plain": [
       "array([[ 0.28858451, -0.02029417, -0.13290514, ..., -0.84124676,\n",
       "         0.17994061, -0.05862692],\n",
       "       [ 0.27841883, -0.01641057, -0.12352019, ..., -0.8447876 ,\n",
       "         0.18028889, -0.05431672],\n",
       "       [ 0.27965306, -0.01946716, -0.11346169, ..., -0.84893347,\n",
       "         0.18063731, -0.04911782],\n",
       "       ...,\n",
       "       [ 0.27338737, -0.01701062, -0.04502183, ..., -0.77913261,\n",
       "         0.24914484,  0.04081119],\n",
       "       [ 0.28965416, -0.01884304, -0.15828059, ..., -0.78518142,\n",
       "         0.24643223,  0.02533948],\n",
       "       [ 0.35150347, -0.01242312, -0.20386717, ..., -0.78326693,\n",
       "         0.24680852,  0.03669484]])"
      ]
     },
     "metadata": {},
     "execution_count": 8
    }
   ],
   "source": [
    "X_train = X_train_df.values\n",
    "X_train"
   ]
  },
  {
   "cell_type": "code",
   "execution_count": 9,
   "metadata": {},
   "outputs": [],
   "source": [
    "# X_test\n",
    "X_test_df = pd.read_csv('../00.data/UCI_HAR_Dataset/test/X_test.txt', sep='\\s+',header=None,names=feature_list)\n",
    "\n",
    "# y_train\n",
    "y_train_df = pd.read_csv('../00.data/UCI_HAR_Dataset/train/y_train.txt', sep='\\s+',header=None,names=['action'])\n",
    "\n",
    "# y_test\n",
    "y_test_df = pd.read_csv('../00.data/UCI_HAR_Dataset/test/y_test.txt', sep='\\s+',header=None,names=['action'])\n"
   ]
  },
  {
   "cell_type": "code",
   "execution_count": 10,
   "metadata": {},
   "outputs": [],
   "source": [
    "y_train = y_train_df.values\n",
    "X_test = X_test_df.values\n",
    "y_test = y_test_df.values"
   ]
  },
  {
   "cell_type": "code",
   "execution_count": 11,
   "metadata": {},
   "outputs": [
    {
     "output_type": "execute_result",
     "data": {
      "text/plain": [
       "((7352, 561), (2947, 561), (7352, 1), (2947, 1))"
      ]
     },
     "metadata": {},
     "execution_count": 11
    }
   ],
   "source": [
    "X_train.shape,X_test.shape,y_train.shape,y_test.shape"
   ]
  },
  {
   "source": [
    "### DecisionTreeClassifier로 학습하고 예측하기"
   ],
   "cell_type": "markdown",
   "metadata": {}
  },
  {
   "cell_type": "code",
   "execution_count": 12,
   "metadata": {},
   "outputs": [
    {
     "output_type": "execute_result",
     "data": {
      "text/plain": [
       "DecisionTreeClassifier(random_state=2021)"
      ]
     },
     "metadata": {},
     "execution_count": 12
    }
   ],
   "source": [
    "dt_clf = DecisionTreeClassifier(random_state=2021)\n",
    "dt_clf.fit(X_train, y_train)"
   ]
  },
  {
   "cell_type": "code",
   "execution_count": 13,
   "metadata": {},
   "outputs": [
    {
     "output_type": "execute_result",
     "data": {
      "text/plain": [
       "0.8588394977943672"
      ]
     },
     "metadata": {},
     "execution_count": 13
    }
   ],
   "source": [
    "pred_dt = dt_clf.predict(X_test)\n",
    "accuracy_score(y_test,pred_dt)"
   ]
  },
  {
   "cell_type": "code",
   "execution_count": 14,
   "metadata": {},
   "outputs": [
    {
     "output_type": "execute_result",
     "data": {
      "text/plain": [
       "{'ccp_alpha': 0.0,\n",
       " 'class_weight': None,\n",
       " 'criterion': 'gini',\n",
       " 'max_depth': None,\n",
       " 'max_features': None,\n",
       " 'max_leaf_nodes': None,\n",
       " 'min_impurity_decrease': 0.0,\n",
       " 'min_impurity_split': None,\n",
       " 'min_samples_leaf': 1,\n",
       " 'min_samples_split': 2,\n",
       " 'min_weight_fraction_leaf': 0.0,\n",
       " 'presort': 'deprecated',\n",
       " 'random_state': 2021,\n",
       " 'splitter': 'best'}"
      ]
     },
     "metadata": {},
     "execution_count": 14
    }
   ],
   "source": [
    "# DecisionTreeClassifier의 파라미터 확인\n",
    "dt_clf.get_params()"
   ]
  },
  {
   "source": [
    "### Feature 중요도구하기"
   ],
   "cell_type": "markdown",
   "metadata": {}
  },
  {
   "cell_type": "code",
   "execution_count": 15,
   "metadata": {},
   "outputs": [
    {
     "output_type": "execute_result",
     "data": {
      "text/plain": [
       "array([0.00000000e+00, 1.08837163e-04, 0.00000000e+00, 7.01687691e-04,\n",
       "       0.00000000e+00, 0.00000000e+00, 0.00000000e+00, 0.00000000e+00,\n",
       "       0.00000000e+00, 2.06446150e-03, 0.00000000e+00, 0.00000000e+00,\n",
       "       0.00000000e+00, 0.00000000e+00, 0.00000000e+00, 0.00000000e+00,\n",
       "       0.00000000e+00, 0.00000000e+00, 0.00000000e+00, 9.55074912e-04,\n",
       "       0.00000000e+00, 0.00000000e+00, 9.05867305e-04, 1.08212261e-04,\n",
       "       0.00000000e+00, 0.00000000e+00, 0.00000000e+00, 0.00000000e+00,\n",
       "       6.16384481e-04, 0.00000000e+00, 0.00000000e+00, 0.00000000e+00,\n",
       "       0.00000000e+00, 0.00000000e+00, 0.00000000e+00, 0.00000000e+00,\n",
       "       0.00000000e+00, 7.32434076e-03, 0.00000000e+00, 3.92945107e-04,\n",
       "       0.00000000e+00, 1.26303784e-03, 0.00000000e+00, 0.00000000e+00,\n",
       "       0.00000000e+00, 0.00000000e+00, 0.00000000e+00, 0.00000000e+00,\n",
       "       0.00000000e+00, 1.16397062e-03, 6.25209900e-03, 0.00000000e+00,\n",
       "       2.39944712e-01, 3.77986285e-03, 5.58671245e-03, 1.58273360e-03,\n",
       "       0.00000000e+00, 1.96049390e-02, 0.00000000e+00, 1.08729441e-04,\n",
       "       4.36605674e-04, 0.00000000e+00, 0.00000000e+00, 0.00000000e+00,\n",
       "       0.00000000e+00, 0.00000000e+00, 0.00000000e+00, 4.49965946e-03,\n",
       "       3.19657726e-04, 0.00000000e+00, 0.00000000e+00, 2.86445510e-03,\n",
       "       0.00000000e+00, 3.20335685e-04, 9.61730842e-02, 0.00000000e+00,\n",
       "       5.09373287e-04, 0.00000000e+00, 3.27066277e-04, 0.00000000e+00,\n",
       "       0.00000000e+00, 0.00000000e+00, 0.00000000e+00, 0.00000000e+00,\n",
       "       0.00000000e+00, 0.00000000e+00, 0.00000000e+00, 0.00000000e+00,\n",
       "       0.00000000e+00, 1.17874957e-03, 0.00000000e+00, 2.18302837e-04,\n",
       "       0.00000000e+00, 0.00000000e+00, 0.00000000e+00, 0.00000000e+00,\n",
       "       0.00000000e+00, 0.00000000e+00, 0.00000000e+00, 0.00000000e+00,\n",
       "       0.00000000e+00, 1.12929171e-03, 2.75669406e-04, 0.00000000e+00,\n",
       "       0.00000000e+00, 0.00000000e+00, 0.00000000e+00, 0.00000000e+00,\n",
       "       3.24960860e-04, 0.00000000e+00, 0.00000000e+00, 5.95725762e-04,\n",
       "       0.00000000e+00, 3.22382234e-04, 0.00000000e+00, 0.00000000e+00,\n",
       "       0.00000000e+00, 3.75678333e-03, 0.00000000e+00, 5.92536272e-04,\n",
       "       0.00000000e+00, 9.95806200e-04, 0.00000000e+00, 0.00000000e+00,\n",
       "       0.00000000e+00, 9.82362767e-04, 0.00000000e+00, 0.00000000e+00,\n",
       "       0.00000000e+00, 8.96869956e-03, 0.00000000e+00, 0.00000000e+00,\n",
       "       5.18393609e-03, 0.00000000e+00, 0.00000000e+00, 0.00000000e+00,\n",
       "       9.36396595e-04, 0.00000000e+00, 0.00000000e+00, 2.50164990e-03,\n",
       "       2.33006793e-03, 0.00000000e+00, 0.00000000e+00, 0.00000000e+00,\n",
       "       0.00000000e+00, 0.00000000e+00, 0.00000000e+00, 0.00000000e+00,\n",
       "       0.00000000e+00, 5.01191054e-04, 0.00000000e+00, 0.00000000e+00,\n",
       "       0.00000000e+00, 0.00000000e+00, 0.00000000e+00, 0.00000000e+00,\n",
       "       0.00000000e+00, 2.28872443e-03, 0.00000000e+00, 1.59619029e-02,\n",
       "       0.00000000e+00, 0.00000000e+00, 0.00000000e+00, 0.00000000e+00,\n",
       "       0.00000000e+00, 0.00000000e+00, 0.00000000e+00, 0.00000000e+00,\n",
       "       0.00000000e+00, 3.28738390e-03, 0.00000000e+00, 0.00000000e+00,\n",
       "       3.24397123e-04, 0.00000000e+00, 0.00000000e+00, 0.00000000e+00,\n",
       "       0.00000000e+00, 0.00000000e+00, 1.17883532e-03, 1.54155388e-03,\n",
       "       8.12616259e-04, 4.21012614e-04, 0.00000000e+00, 0.00000000e+00,\n",
       "       0.00000000e+00, 0.00000000e+00, 0.00000000e+00, 0.00000000e+00,\n",
       "       0.00000000e+00, 0.00000000e+00, 4.66622314e-04, 0.00000000e+00,\n",
       "       0.00000000e+00, 0.00000000e+00, 0.00000000e+00, 0.00000000e+00,\n",
       "       1.00075439e-03, 2.86522474e-04, 3.20839242e-04, 0.00000000e+00,\n",
       "       0.00000000e+00, 0.00000000e+00, 0.00000000e+00, 0.00000000e+00,\n",
       "       0.00000000e+00, 0.00000000e+00, 3.92945107e-04, 0.00000000e+00,\n",
       "       3.27454256e-04, 1.21083304e-02, 0.00000000e+00, 0.00000000e+00,\n",
       "       0.00000000e+00, 0.00000000e+00, 0.00000000e+00, 2.45590692e-04,\n",
       "       0.00000000e+00, 0.00000000e+00, 2.18302837e-04, 0.00000000e+00,\n",
       "       0.00000000e+00, 0.00000000e+00, 2.96346101e-03, 0.00000000e+00,\n",
       "       0.00000000e+00, 0.00000000e+00, 0.00000000e+00, 2.45590692e-04,\n",
       "       0.00000000e+00, 0.00000000e+00, 3.19657726e-04, 0.00000000e+00,\n",
       "       0.00000000e+00, 0.00000000e+00, 3.23738474e-04, 6.00286552e-04,\n",
       "       1.81064979e-03, 0.00000000e+00, 4.67791794e-04, 0.00000000e+00,\n",
       "       0.00000000e+00, 0.00000000e+00, 0.00000000e+00, 0.00000000e+00,\n",
       "       0.00000000e+00, 0.00000000e+00, 0.00000000e+00, 0.00000000e+00,\n",
       "       0.00000000e+00, 2.61963404e-04, 0.00000000e+00, 7.59785310e-04,\n",
       "       0.00000000e+00, 0.00000000e+00, 0.00000000e+00, 0.00000000e+00,\n",
       "       0.00000000e+00, 0.00000000e+00, 0.00000000e+00, 0.00000000e+00,\n",
       "       0.00000000e+00, 0.00000000e+00, 0.00000000e+00, 3.92945107e-04,\n",
       "       0.00000000e+00, 0.00000000e+00, 0.00000000e+00, 0.00000000e+00,\n",
       "       0.00000000e+00, 0.00000000e+00, 0.00000000e+00, 0.00000000e+00,\n",
       "       3.23029198e-04, 0.00000000e+00, 0.00000000e+00, 8.35748813e-03,\n",
       "       0.00000000e+00, 0.00000000e+00, 0.00000000e+00, 0.00000000e+00,\n",
       "       0.00000000e+00, 0.00000000e+00, 1.65910156e-03, 0.00000000e+00,\n",
       "       6.00629409e-04, 0.00000000e+00, 0.00000000e+00, 3.25777710e-04,\n",
       "       0.00000000e+00, 0.00000000e+00, 1.62703833e-04, 0.00000000e+00,\n",
       "       0.00000000e+00, 0.00000000e+00, 0.00000000e+00, 0.00000000e+00,\n",
       "       0.00000000e+00, 0.00000000e+00, 8.67137876e-04, 3.09262353e-04,\n",
       "       0.00000000e+00, 0.00000000e+00, 2.20728424e-03, 0.00000000e+00,\n",
       "       6.29173308e-04, 0.00000000e+00, 0.00000000e+00, 0.00000000e+00,\n",
       "       0.00000000e+00, 0.00000000e+00, 3.16162730e-04, 0.00000000e+00,\n",
       "       0.00000000e+00, 0.00000000e+00, 0.00000000e+00, 0.00000000e+00,\n",
       "       1.01626910e-03, 0.00000000e+00, 0.00000000e+00, 0.00000000e+00,\n",
       "       0.00000000e+00, 0.00000000e+00, 1.60838747e-04, 0.00000000e+00,\n",
       "       0.00000000e+00, 2.18302837e-04, 0.00000000e+00, 0.00000000e+00,\n",
       "       0.00000000e+00, 3.18098420e-04, 2.18302837e-04, 1.44062989e-03,\n",
       "       0.00000000e+00, 0.00000000e+00, 0.00000000e+00, 0.00000000e+00,\n",
       "       0.00000000e+00, 3.24942383e-04, 0.00000000e+00, 0.00000000e+00,\n",
       "       0.00000000e+00, 0.00000000e+00, 0.00000000e+00, 3.92945107e-04,\n",
       "       0.00000000e+00, 0.00000000e+00, 0.00000000e+00, 0.00000000e+00,\n",
       "       0.00000000e+00, 0.00000000e+00, 0.00000000e+00, 0.00000000e+00,\n",
       "       0.00000000e+00, 0.00000000e+00, 0.00000000e+00, 0.00000000e+00,\n",
       "       0.00000000e+00, 0.00000000e+00, 0.00000000e+00, 1.65036945e-03,\n",
       "       0.00000000e+00, 0.00000000e+00, 0.00000000e+00, 0.00000000e+00,\n",
       "       0.00000000e+00, 3.17823248e-04, 0.00000000e+00, 0.00000000e+00,\n",
       "       0.00000000e+00, 0.00000000e+00, 0.00000000e+00, 0.00000000e+00,\n",
       "       0.00000000e+00, 0.00000000e+00, 0.00000000e+00, 0.00000000e+00,\n",
       "       2.58880137e-04, 0.00000000e+00, 8.78409035e-04, 0.00000000e+00,\n",
       "       0.00000000e+00, 0.00000000e+00, 0.00000000e+00, 0.00000000e+00,\n",
       "       0.00000000e+00, 0.00000000e+00, 0.00000000e+00, 0.00000000e+00,\n",
       "       0.00000000e+00, 2.01331771e-01, 0.00000000e+00, 0.00000000e+00,\n",
       "       0.00000000e+00, 1.37781299e-03, 0.00000000e+00, 0.00000000e+00,\n",
       "       2.61963404e-04, 0.00000000e+00, 0.00000000e+00, 0.00000000e+00,\n",
       "       0.00000000e+00, 0.00000000e+00, 0.00000000e+00, 0.00000000e+00,\n",
       "       0.00000000e+00, 0.00000000e+00, 0.00000000e+00, 6.13976729e-04,\n",
       "       0.00000000e+00, 1.34490141e-03, 0.00000000e+00, 0.00000000e+00,\n",
       "       6.36383015e-04, 0.00000000e+00, 0.00000000e+00, 1.12562400e-03,\n",
       "       0.00000000e+00, 0.00000000e+00, 2.08520711e-03, 0.00000000e+00,\n",
       "       0.00000000e+00, 0.00000000e+00, 0.00000000e+00, 0.00000000e+00,\n",
       "       0.00000000e+00, 0.00000000e+00, 0.00000000e+00, 0.00000000e+00,\n",
       "       0.00000000e+00, 0.00000000e+00, 0.00000000e+00, 0.00000000e+00,\n",
       "       5.62617962e-03, 0.00000000e+00, 0.00000000e+00, 0.00000000e+00,\n",
       "       0.00000000e+00, 0.00000000e+00, 0.00000000e+00, 0.00000000e+00,\n",
       "       0.00000000e+00, 0.00000000e+00, 0.00000000e+00, 2.68462720e-03,\n",
       "       0.00000000e+00, 0.00000000e+00, 0.00000000e+00, 0.00000000e+00,\n",
       "       2.27021348e-02, 4.02776409e-04, 2.62457302e-03, 0.00000000e+00,\n",
       "       0.00000000e+00, 0.00000000e+00, 0.00000000e+00, 0.00000000e+00,\n",
       "       4.02311577e-04, 0.00000000e+00, 0.00000000e+00, 1.62791258e-04,\n",
       "       7.85890213e-04, 1.98692725e-03, 0.00000000e+00, 0.00000000e+00,\n",
       "       0.00000000e+00, 0.00000000e+00, 0.00000000e+00, 0.00000000e+00,\n",
       "       2.61963404e-04, 0.00000000e+00, 1.57196296e-03, 0.00000000e+00,\n",
       "       0.00000000e+00, 0.00000000e+00, 2.45196622e-03, 1.63727128e-04,\n",
       "       0.00000000e+00, 0.00000000e+00, 0.00000000e+00, 0.00000000e+00,\n",
       "       1.63727128e-04, 0.00000000e+00, 0.00000000e+00, 0.00000000e+00,\n",
       "       0.00000000e+00, 0.00000000e+00, 0.00000000e+00, 0.00000000e+00,\n",
       "       0.00000000e+00, 0.00000000e+00, 0.00000000e+00, 0.00000000e+00,\n",
       "       0.00000000e+00, 0.00000000e+00, 0.00000000e+00, 0.00000000e+00,\n",
       "       2.72878546e-04, 0.00000000e+00, 0.00000000e+00, 0.00000000e+00,\n",
       "       0.00000000e+00, 0.00000000e+00, 0.00000000e+00, 2.45320782e-03,\n",
       "       0.00000000e+00, 3.25351961e-04, 0.00000000e+00, 0.00000000e+00,\n",
       "       1.09366344e-01, 0.00000000e+00, 0.00000000e+00, 0.00000000e+00,\n",
       "       0.00000000e+00, 0.00000000e+00, 0.00000000e+00, 0.00000000e+00,\n",
       "       0.00000000e+00, 0.00000000e+00, 0.00000000e+00, 0.00000000e+00,\n",
       "       0.00000000e+00, 0.00000000e+00, 0.00000000e+00, 0.00000000e+00,\n",
       "       0.00000000e+00, 0.00000000e+00, 0.00000000e+00, 3.25581607e-04,\n",
       "       0.00000000e+00, 0.00000000e+00, 0.00000000e+00, 0.00000000e+00,\n",
       "       0.00000000e+00, 0.00000000e+00, 0.00000000e+00, 0.00000000e+00,\n",
       "       2.18302837e-04, 0.00000000e+00, 1.30981702e-03, 0.00000000e+00,\n",
       "       0.00000000e+00, 0.00000000e+00, 0.00000000e+00, 0.00000000e+00,\n",
       "       0.00000000e+00, 0.00000000e+00, 0.00000000e+00, 0.00000000e+00,\n",
       "       0.00000000e+00, 0.00000000e+00, 0.00000000e+00, 0.00000000e+00,\n",
       "       0.00000000e+00, 0.00000000e+00, 0.00000000e+00, 1.63727128e-04,\n",
       "       1.22249589e-03, 0.00000000e+00, 9.37022947e-04, 1.31643496e-01,\n",
       "       0.00000000e+00])"
      ]
     },
     "metadata": {},
     "execution_count": 15
    }
   ],
   "source": [
    "dt_clf.feature_importances_"
   ]
  },
  {
   "cell_type": "code",
   "execution_count": 16,
   "metadata": {},
   "outputs": [
    {
     "output_type": "execute_result",
     "data": {
      "text/plain": [
       "561"
      ]
     },
     "metadata": {},
     "execution_count": 16
    }
   ],
   "source": [
    "len(dt_clf.feature_importances_)"
   ]
  },
  {
   "cell_type": "code",
   "execution_count": 17,
   "metadata": {},
   "outputs": [],
   "source": [
    "new_feature_df['feature_importance_'] = dt_clf.feature_importances_"
   ]
  },
  {
   "cell_type": "code",
   "execution_count": 18,
   "metadata": {},
   "outputs": [
    {
     "output_type": "execute_result",
     "data": {
      "text/plain": [
       "     col_index                         col_name  dup_cnt  feature_importance_\n",
       "52          53              tGravityAcc-min()-X        0             0.239945\n",
       "389        390  fBodyAccJerk-bandsEnergy()-1,16        0             0.201332\n",
       "559        560             angle(Y,gravityMean)        0             0.131643\n",
       "508        509             fBodyAccMag-energy()        0             0.109366\n",
       "74          75        tGravityAcc-arCoeff()-Z,2        0             0.096173\n",
       "..         ...                              ...      ...                  ...\n",
       "212        213           tBodyAccMag-arCoeff()4        0             0.000000\n",
       "211        212           tBodyAccMag-arCoeff()3        0             0.000000\n",
       "210        211           tBodyAccMag-arCoeff()2        0             0.000000\n",
       "207        208                tBodyAccMag-iqr()        0             0.000000\n",
       "560        561             angle(Z,gravityMean)        0             0.000000\n",
       "\n",
       "[561 rows x 4 columns]"
      ],
      "text/html": "<div>\n<style scoped>\n    .dataframe tbody tr th:only-of-type {\n        vertical-align: middle;\n    }\n\n    .dataframe tbody tr th {\n        vertical-align: top;\n    }\n\n    .dataframe thead th {\n        text-align: right;\n    }\n</style>\n<table border=\"1\" class=\"dataframe\">\n  <thead>\n    <tr style=\"text-align: right;\">\n      <th></th>\n      <th>col_index</th>\n      <th>col_name</th>\n      <th>dup_cnt</th>\n      <th>feature_importance_</th>\n    </tr>\n  </thead>\n  <tbody>\n    <tr>\n      <th>52</th>\n      <td>53</td>\n      <td>tGravityAcc-min()-X</td>\n      <td>0</td>\n      <td>0.239945</td>\n    </tr>\n    <tr>\n      <th>389</th>\n      <td>390</td>\n      <td>fBodyAccJerk-bandsEnergy()-1,16</td>\n      <td>0</td>\n      <td>0.201332</td>\n    </tr>\n    <tr>\n      <th>559</th>\n      <td>560</td>\n      <td>angle(Y,gravityMean)</td>\n      <td>0</td>\n      <td>0.131643</td>\n    </tr>\n    <tr>\n      <th>508</th>\n      <td>509</td>\n      <td>fBodyAccMag-energy()</td>\n      <td>0</td>\n      <td>0.109366</td>\n    </tr>\n    <tr>\n      <th>74</th>\n      <td>75</td>\n      <td>tGravityAcc-arCoeff()-Z,2</td>\n      <td>0</td>\n      <td>0.096173</td>\n    </tr>\n    <tr>\n      <th>...</th>\n      <td>...</td>\n      <td>...</td>\n      <td>...</td>\n      <td>...</td>\n    </tr>\n    <tr>\n      <th>212</th>\n      <td>213</td>\n      <td>tBodyAccMag-arCoeff()4</td>\n      <td>0</td>\n      <td>0.000000</td>\n    </tr>\n    <tr>\n      <th>211</th>\n      <td>212</td>\n      <td>tBodyAccMag-arCoeff()3</td>\n      <td>0</td>\n      <td>0.000000</td>\n    </tr>\n    <tr>\n      <th>210</th>\n      <td>211</td>\n      <td>tBodyAccMag-arCoeff()2</td>\n      <td>0</td>\n      <td>0.000000</td>\n    </tr>\n    <tr>\n      <th>207</th>\n      <td>208</td>\n      <td>tBodyAccMag-iqr()</td>\n      <td>0</td>\n      <td>0.000000</td>\n    </tr>\n    <tr>\n      <th>560</th>\n      <td>561</td>\n      <td>angle(Z,gravityMean)</td>\n      <td>0</td>\n      <td>0.000000</td>\n    </tr>\n  </tbody>\n</table>\n<p>561 rows × 4 columns</p>\n</div>"
     },
     "metadata": {},
     "execution_count": 18
    }
   ],
   "source": [
    "new_feature_df_sort = new_feature_df.sort_values(by='feature_importance_',ascending=False)\n",
    "new_feature_df_sort"
   ]
  },
  {
   "cell_type": "code",
   "execution_count": 19,
   "metadata": {},
   "outputs": [],
   "source": [
    "# 그래프로 표시하기\n",
    "import matplotlib.pyplot as plt\n",
    "from matplotlib import rc\n",
    "import seaborn as sns\n",
    "%matplotlib inline\n",
    "rc('font', family='AppleGothic')\n",
    "\n",
    "plt.rcParams['axes.unicode_minus'] = False"
   ]
  },
  {
   "cell_type": "code",
   "execution_count": 20,
   "metadata": {},
   "outputs": [
    {
     "output_type": "display_data",
     "data": {
      "text/plain": "<Figure size 720x576 with 1 Axes>",
      "image/svg+xml": "<?xml version=\"1.0\" encoding=\"utf-8\" standalone=\"no\"?>\n<!DOCTYPE svg PUBLIC \"-//W3C//DTD SVG 1.1//EN\"\n  \"http://www.w3.org/Graphics/SVG/1.1/DTD/svg11.dtd\">\n<!-- Created with matplotlib (https://matplotlib.org/) -->\n<svg height=\"494.940312pt\" version=\"1.1\" viewBox=\"0 0 766.400545 494.940312\" width=\"766.400545pt\" xmlns=\"http://www.w3.org/2000/svg\" xmlns:xlink=\"http://www.w3.org/1999/xlink\">\n <defs>\n  <style type=\"text/css\">\n*{stroke-linecap:butt;stroke-linejoin:round;}\n  </style>\n </defs>\n <g id=\"figure_1\">\n  <g id=\"patch_1\">\n   <path d=\"M 0 494.940312 \nL 766.400545 494.940312 \nL 766.400545 0 \nL 0 0 \nz\n\" style=\"fill:none;\"/>\n  </g>\n  <g id=\"axes_1\">\n   <g id=\"patch_2\">\n    <path d=\"M 193.576563 457.48875 \nL 751.576563 457.48875 \nL 751.576563 22.60875 \nL 193.576563 22.60875 \nz\n\" style=\"fill:#ffffff;\"/>\n   </g>\n   <g id=\"patch_3\">\n    <path clip-path=\"url(#p47b6166c3b)\" d=\"M 193.576563 24.78315 \nL 725.005134 24.78315 \nL 725.005134 42.17835 \nL 193.576563 42.17835 \nz\n\" style=\"fill:#ea96a3;\"/>\n   </g>\n   <g id=\"patch_4\">\n    <path clip-path=\"url(#p47b6166c3b)\" d=\"M 193.576563 46.52715 \nL 639.485349 46.52715 \nL 639.485349 63.92235 \nL 193.576563 63.92235 \nz\n\" style=\"fill:#e79683;\"/>\n   </g>\n   <g id=\"patch_5\">\n    <path clip-path=\"url(#p47b6166c3b)\" d=\"M 193.576563 68.27115 \nL 485.140041 68.27115 \nL 485.140041 85.66635 \nL 193.576563 85.66635 \nz\n\" style=\"fill:#d7944e;\"/>\n   </g>\n   <g id=\"patch_6\">\n    <path clip-path=\"url(#p47b6166c3b)\" d=\"M 193.576563 90.01515 \nL 435.800697 90.01515 \nL 435.800697 107.41035 \nL 193.576563 107.41035 \nz\n\" style=\"fill:#bf9a4a;\"/>\n   </g>\n   <g id=\"patch_7\">\n    <path clip-path=\"url(#p47b6166c3b)\" d=\"M 193.576563 111.75915 \nL 406.580318 111.75915 \nL 406.580318 129.15435 \nL 193.576563 129.15435 \nz\n\" style=\"fill:#ab9e47;\"/>\n   </g>\n   <g id=\"patch_8\">\n    <path clip-path=\"url(#p47b6166c3b)\" d=\"M 193.576563 133.50315 \nL 243.857158 133.50315 \nL 243.857158 150.89835 \nL 193.576563 150.89835 \nz\n\" style=\"fill:#98a246;\"/>\n   </g>\n   <g id=\"patch_9\">\n    <path clip-path=\"url(#p47b6166c3b)\" d=\"M 193.576563 155.24715 \nL 236.997502 155.24715 \nL 236.997502 172.64235 \nL 193.576563 172.64235 \nz\n\" style=\"fill:#7fa946;\"/>\n   </g>\n   <g id=\"patch_10\">\n    <path clip-path=\"url(#p47b6166c3b)\" d=\"M 193.576563 176.99115 \nL 228.92892 176.99115 \nL 228.92892 194.38635 \nL 193.576563 194.38635 \nz\n\" style=\"fill:#48b052;\"/>\n   </g>\n   <g id=\"patch_11\">\n    <path clip-path=\"url(#p47b6166c3b)\" d=\"M 193.576563 198.73515 \nL 220.394043 198.73515 \nL 220.394043 216.13035 \nL 193.576563 216.13035 \nz\n\" style=\"fill:#49ae83;\"/>\n   </g>\n   <g id=\"patch_12\">\n    <path clip-path=\"url(#p47b6166c3b)\" d=\"M 193.576563 220.47915 \nL 213.440402 220.47915 \nL 213.440402 237.87435 \nL 193.576563 237.87435 \nz\n\" style=\"fill:#4aad96;\"/>\n   </g>\n   <g id=\"patch_13\">\n    <path clip-path=\"url(#p47b6166c3b)\" d=\"M 193.576563 242.22315 \nL 212.086693 242.22315 \nL 212.086693 259.61835 \nL 193.576563 259.61835 \nz\n\" style=\"fill:#4baba4;\"/>\n   </g>\n   <g id=\"patch_14\">\n    <path clip-path=\"url(#p47b6166c3b)\" d=\"M 193.576563 263.96715 \nL 209.798483 263.96715 \nL 209.798483 281.36235 \nL 193.576563 281.36235 \nz\n\" style=\"fill:#4dabb2;\"/>\n   </g>\n   <g id=\"patch_15\">\n    <path clip-path=\"url(#p47b6166c3b)\" d=\"M 193.576563 285.71115 \nL 207.423686 285.71115 \nL 207.423686 303.10635 \nL 193.576563 303.10635 \nz\n\" style=\"fill:#50acc3;\"/>\n   </g>\n   <g id=\"patch_16\">\n    <path clip-path=\"url(#p47b6166c3b)\" d=\"M 193.576563 307.45515 \nL 206.037402 307.45515 \nL 206.037402 324.85035 \nL 193.576563 324.85035 \nz\n\" style=\"fill:#56addb;\"/>\n   </g>\n   <g id=\"patch_17\">\n    <path clip-path=\"url(#p47b6166c3b)\" d=\"M 193.576563 329.19915 \nL 205.94999 329.19915 \nL 205.94999 346.59435 \nL 193.576563 346.59435 \nz\n\" style=\"fill:#94aee8;\"/>\n   </g>\n   <g id=\"patch_18\">\n    <path clip-path=\"url(#p47b6166c3b)\" d=\"M 193.576563 350.94315 \nL 205.057923 350.94315 \nL 205.057923 368.33835 \nL 193.576563 368.33835 \nz\n\" style=\"fill:#b6a8eb;\"/>\n   </g>\n   <g id=\"patch_19\">\n    <path clip-path=\"url(#p47b6166c3b)\" d=\"M 193.576563 372.68715 \nL 203.54239 372.68715 \nL 203.54239 390.08235 \nL 193.576563 390.08235 \nz\n\" style=\"fill:#ce9be9;\"/>\n   </g>\n   <g id=\"patch_20\">\n    <path clip-path=\"url(#p47b6166c3b)\" d=\"M 193.576563 394.43115 \nL 201.948187 394.43115 \nL 201.948187 411.82635 \nL 193.576563 411.82635 \nz\n\" style=\"fill:#e689e4;\"/>\n   </g>\n   <g id=\"patch_21\">\n    <path clip-path=\"url(#p47b6166c3b)\" d=\"M 193.576563 416.17515 \nL 201.897071 416.17515 \nL 201.897071 433.57035 \nL 193.576563 433.57035 \nz\n\" style=\"fill:#e88fcc;\"/>\n   </g>\n   <g id=\"patch_22\">\n    <path clip-path=\"url(#p47b6166c3b)\" d=\"M 193.576563 437.91915 \nL 200.857447 437.91915 \nL 200.857447 455.31435 \nL 193.576563 455.31435 \nz\n\" style=\"fill:#e993b9;\"/>\n   </g>\n   <g id=\"matplotlib.axis_1\">\n    <g id=\"xtick_1\">\n     <g id=\"line2d_1\">\n      <defs>\n       <path d=\"M 0 0 \nL 0 3.5 \n\" id=\"m592fdfd9c3\" style=\"stroke:#000000;stroke-width:0.8;\"/>\n      </defs>\n      <g>\n       <use style=\"stroke:#000000;stroke-width:0.8;\" x=\"193.576563\" xlink:href=\"#m592fdfd9c3\" y=\"457.48875\"/>\n      </g>\n     </g>\n     <g id=\"text_1\">\n      <!-- 0.00 -->\n      <defs>\n       <path d=\"M 34.796875 -1.296875 \nQ 22.09375 -1.296875 14.59375 9 \nQ 7.203125 19.203125 7.203125 37.296875 \nQ 7.203125 55.5 15.203125 65.90625 \nQ 22.703125 75.90625 34.703125 75.90625 \nQ 47.296875 75.90625 54.40625 65.203125 \nQ 61.796875 54.59375 61.796875 37.40625 \nQ 61.796875 19.5 54.09375 9.09375 \nQ 46.5 -1.296875 34.796875 -1.296875 \nz\nM 34 5.40625 \nQ 44.703125 5.40625 50 15.5 \nQ 54.09375 24 54.09375 37.5 \nQ 54.09375 51.796875 49.40625 60.296875 \nQ 44.09375 69.203125 34.59375 69.203125 \nQ 24.59375 69.203125 19.5 59.703125 \nQ 15 51.296875 15 37.09375 \nQ 15 23.09375 19.5 14.703125 \nQ 24.59375 5.40625 34 5.40625 \nz\n\" id=\"AppleGothic-48\"/>\n       <path d=\"M 14.296875 -0.296875 \nQ 11.90625 -0.296875 10.203125 1.703125 \nQ 8.5 3.703125 8.5 6.59375 \nQ 8.5 9.59375 10.25 11.640625 \nQ 12 13.703125 14.296875 13.703125 \nQ 16.5 13.703125 18.25 11.84375 \nQ 20 10 20 6.796875 \nQ 20 3.796875 18.296875 1.75 \nQ 16.59375 -0.296875 14.296875 -0.296875 \nz\n\" id=\"AppleGothic-46\"/>\n      </defs>\n      <g transform=\"translate(181.651563 472.329375)scale(0.1 -0.1)\">\n       <use xlink:href=\"#AppleGothic-48\"/>\n       <use x=\"67.999985\" xlink:href=\"#AppleGothic-46\"/>\n       <use x=\"102.499969\" xlink:href=\"#AppleGothic-48\"/>\n       <use x=\"170.499954\" xlink:href=\"#AppleGothic-48\"/>\n      </g>\n     </g>\n    </g>\n    <g id=\"xtick_2\">\n     <g id=\"line2d_2\">\n      <g>\n       <use style=\"stroke:#000000;stroke-width:0.8;\" x=\"304.316359\" xlink:href=\"#m592fdfd9c3\" y=\"457.48875\"/>\n      </g>\n     </g>\n     <g id=\"text_2\">\n      <!-- 0.05 -->\n      <defs>\n       <path d=\"M 9.703125 74.5 \nL 54.5 74.5 \nL 54.5 67.796875 \nL 17 67.796875 \nL 17 42.296875 \nQ 18.5 43.296875 20.203125 44.046875 \nQ 21.90625 44.796875 23.59375 45.5 \nQ 29.09375 47.5 35.296875 47.5 \nQ 46.703125 47.5 53.5 40.703125 \nQ 59.796875 34.40625 59.796875 24.703125 \nQ 59.796875 13.59375 51.5 6.203125 \nQ 43.203125 -1.296875 31.40625 -1.296875 \nQ 25.796875 -1.296875 19.5 0.703125 \nQ 18.09375 1.203125 15.640625 2.140625 \nQ 13.203125 3.09375 9.703125 4.703125 \nL 9.703125 13.09375 \nQ 14.5 10 18.796875 8.203125 \nQ 22 6.796875 25.203125 6.09375 \nQ 28.40625 5.40625 31.40625 5.40625 \nQ 39.5 5.40625 45.40625 10.40625 \nQ 51.90625 15.796875 51.90625 24 \nQ 51.90625 31.09375 47.203125 35.796875 \nQ 42.203125 40.796875 33.5 40.796875 \nQ 29 40.796875 24.796875 39.5 \nQ 20.59375 38.203125 17 35.5 \nL 9.703125 35.5 \nz\n\" id=\"AppleGothic-53\"/>\n      </defs>\n      <g transform=\"translate(292.391359 472.329375)scale(0.1 -0.1)\">\n       <use xlink:href=\"#AppleGothic-48\"/>\n       <use x=\"67.999985\" xlink:href=\"#AppleGothic-46\"/>\n       <use x=\"102.499969\" xlink:href=\"#AppleGothic-48\"/>\n       <use x=\"170.499954\" xlink:href=\"#AppleGothic-53\"/>\n      </g>\n     </g>\n    </g>\n    <g id=\"xtick_3\">\n     <g id=\"line2d_3\">\n      <g>\n       <use style=\"stroke:#000000;stroke-width:0.8;\" x=\"415.056156\" xlink:href=\"#m592fdfd9c3\" y=\"457.48875\"/>\n      </g>\n     </g>\n     <g id=\"text_3\">\n      <!-- 0.10 -->\n      <defs>\n       <path d=\"M 36.59375 74.59375 \nL 43 74.59375 \nL 43 0 \nL 35.703125 0 \nL 35.703125 55.09375 \nL 18.09375 55.09375 \nL 18.09375 60.703125 \nL 22.09375 60.703125 \nQ 31.09375 60.703125 34.59375 65.703125 \nQ 36.59375 68.90625 36.59375 74.59375 \nz\n\" id=\"AppleGothic-49\"/>\n      </defs>\n      <g transform=\"translate(403.131156 472.329375)scale(0.1 -0.1)\">\n       <use xlink:href=\"#AppleGothic-48\"/>\n       <use x=\"67.999985\" xlink:href=\"#AppleGothic-46\"/>\n       <use x=\"102.499969\" xlink:href=\"#AppleGothic-49\"/>\n       <use x=\"170.499954\" xlink:href=\"#AppleGothic-48\"/>\n      </g>\n     </g>\n    </g>\n    <g id=\"xtick_4\">\n     <g id=\"line2d_4\">\n      <g>\n       <use style=\"stroke:#000000;stroke-width:0.8;\" x=\"525.795952\" xlink:href=\"#m592fdfd9c3\" y=\"457.48875\"/>\n      </g>\n     </g>\n     <g id=\"text_4\">\n      <!-- 0.15 -->\n      <g transform=\"translate(513.870952 472.329375)scale(0.1 -0.1)\">\n       <use xlink:href=\"#AppleGothic-48\"/>\n       <use x=\"67.999985\" xlink:href=\"#AppleGothic-46\"/>\n       <use x=\"102.499969\" xlink:href=\"#AppleGothic-49\"/>\n       <use x=\"170.499954\" xlink:href=\"#AppleGothic-53\"/>\n      </g>\n     </g>\n    </g>\n    <g id=\"xtick_5\">\n     <g id=\"line2d_5\">\n      <g>\n       <use style=\"stroke:#000000;stroke-width:0.8;\" x=\"636.535749\" xlink:href=\"#m592fdfd9c3\" y=\"457.48875\"/>\n      </g>\n     </g>\n     <g id=\"text_5\">\n      <!-- 0.20 -->\n      <defs>\n       <path d=\"M 17.203125 6.703125 \nL 61.59375 6.703125 \nL 61.59375 0 \nL 10.203125 0 \nL 10.203125 3.203125 \nQ 10.203125 15.90625 21 26 \nQ 26.09375 29.59375 31.09375 33.1875 \nQ 36.09375 36.796875 41.203125 40.5 \nQ 52.09375 48.40625 52.09375 56.203125 \nQ 52.09375 62.40625 47.09375 65.90625 \nQ 44.796875 67.59375 42.09375 68.390625 \nQ 39.40625 69.203125 36.203125 69.203125 \nQ 31.5 69.203125 27.203125 68 \nQ 20.703125 66 13.796875 61.09375 \nL 13.796875 69.296875 \nQ 20.703125 72.796875 26.046875 74.34375 \nQ 31.40625 75.90625 36.203125 75.90625 \nQ 46.296875 75.90625 53.203125 70.703125 \nQ 60 65.59375 60 56.59375 \nQ 60 46.796875 49.5 38.09375 \nQ 44.5 34.59375 39.546875 31.25 \nQ 34.59375 27.90625 29.59375 24.40625 \nQ 18.40625 16 17.203125 6.703125 \nz\n\" id=\"AppleGothic-50\"/>\n      </defs>\n      <g transform=\"translate(624.610749 472.329375)scale(0.1 -0.1)\">\n       <use xlink:href=\"#AppleGothic-48\"/>\n       <use x=\"67.999985\" xlink:href=\"#AppleGothic-46\"/>\n       <use x=\"102.499969\" xlink:href=\"#AppleGothic-50\"/>\n       <use x=\"170.499954\" xlink:href=\"#AppleGothic-48\"/>\n      </g>\n     </g>\n    </g>\n    <g id=\"xtick_6\">\n     <g id=\"line2d_6\">\n      <g>\n       <use style=\"stroke:#000000;stroke-width:0.8;\" x=\"747.275545\" xlink:href=\"#m592fdfd9c3\" y=\"457.48875\"/>\n      </g>\n     </g>\n     <g id=\"text_6\">\n      <!-- 0.25 -->\n      <g transform=\"translate(735.350545 472.329375)scale(0.1 -0.1)\">\n       <use xlink:href=\"#AppleGothic-48\"/>\n       <use x=\"67.999985\" xlink:href=\"#AppleGothic-46\"/>\n       <use x=\"102.499969\" xlink:href=\"#AppleGothic-50\"/>\n       <use x=\"170.499954\" xlink:href=\"#AppleGothic-53\"/>\n      </g>\n     </g>\n    </g>\n    <g id=\"text_7\">\n     <!-- feature_importance_ -->\n     <defs>\n      <path d=\"M 10.09375 53.59375 \nL 10.09375 63.796875 \nQ 10.09375 70.90625 12.796875 74.59375 \nQ 16.203125 79.703125 24.296875 79.703125 \nQ 25.203125 79.703125 25.890625 79.640625 \nQ 26.59375 79.59375 27.34375 79.5 \nQ 28.09375 79.40625 29.09375 79.09375 \nQ 30.09375 78.796875 31.5 78.40625 \nL 31.5 71.796875 \nQ 31.203125 72.203125 28.703125 72.703125 \nQ 27.59375 72.90625 26.75 73 \nQ 25.90625 73.09375 25.296875 73.09375 \nQ 21.09375 73.09375 19.1875 70.6875 \nQ 17.296875 68.296875 17.296875 63.796875 \nL 17.296875 53.59375 \nL 31.5 53.59375 \nL 31.5 47.09375 \nL 17.296875 47.09375 \nL 17.296875 0 \nL 10.09375 0 \nL 10.09375 47.09375 \nL 1 47.09375 \nL 1 53.59375 \nz\n\" id=\"AppleGothic-102\"/>\n      <path d=\"M 51.5 28.90625 \nL 10.796875 28.90625 \nQ 10.796875 17.40625 16.140625 11.34375 \nQ 21.5 5.296875 30.203125 5.296875 \nQ 36.796875 5.296875 42.90625 9.5 \nQ 44.59375 10.59375 46.5 12.25 \nQ 48.40625 13.90625 50.59375 16.09375 \nL 50.59375 7.40625 \nQ 48.203125 5.59375 46.140625 4.25 \nQ 44.09375 2.90625 42.296875 2 \nQ 36 -1.296875 29.703125 -1.296875 \nQ 18.796875 -1.296875 11.203125 6.203125 \nQ 3 14.09375 3 26.703125 \nQ 3 38.59375 10.40625 46.59375 \nQ 17.90625 54.703125 28.90625 54.703125 \nQ 39.59375 54.703125 45.90625 46.90625 \nQ 51.5 39.796875 51.5 28.90625 \nz\nM 11.796875 35 \nL 43.09375 35 \nQ 41.90625 41.796875 37.953125 45.140625 \nQ 34 48.5 28.40625 48.5 \nQ 22.203125 48.5 17.90625 44.59375 \nQ 13.90625 41 11.796875 35 \nz\n\" id=\"AppleGothic-101\"/>\n      <path d=\"M 46.09375 34.59375 \nL 46.09375 9.40625 \nQ 46.09375 7.703125 46.84375 6.453125 \nQ 47.59375 5.203125 49.59375 5.203125 \nQ 50.203125 5.203125 50.59375 5.25 \nQ 51 5.296875 51.40625 5.40625 \nQ 52 5.59375 52.453125 5.796875 \nQ 52.90625 6 53.203125 6.09375 \nL 53.203125 0.5 \nQ 51.40625 -0.09375 49.59375 -0.34375 \nQ 47.796875 -0.59375 46.796875 -0.59375 \nQ 41.703125 -0.59375 40.09375 2.09375 \nQ 38.796875 3.796875 38.796875 9.40625 \nQ 37.5 7.203125 36.203125 5.546875 \nQ 34.90625 3.90625 33.59375 2.796875 \nQ 28.40625 -1.296875 21.5 -1.296875 \nQ 14.203125 -1.296875 8.796875 3 \nQ 3.203125 7.59375 3.203125 14.703125 \nQ 3.203125 23.59375 12.203125 27.796875 \nQ 15.5 29.40625 20.953125 30.59375 \nQ 26.40625 31.796875 34 32.796875 \nL 38.796875 33.296875 \nQ 38.796875 40.296875 35.25 44.25 \nQ 31.703125 48.203125 24.796875 48.203125 \nQ 22.203125 48.203125 19.640625 47.546875 \nQ 17.09375 46.90625 14.5 45.5 \nQ 13.09375 44.703125 11.390625 43.59375 \nQ 9.703125 42.5 7.703125 40.796875 \nL 7.703125 49 \nQ 16.203125 54.703125 26 54.703125 \nQ 36 54.703125 41.40625 48.40625 \nQ 46.09375 42.90625 46.09375 34.59375 \nz\nM 38.796875 24.09375 \nL 38.796875 27.296875 \nL 35.40625 26.90625 \nQ 22.90625 25.59375 17.796875 23.40625 \nQ 11 20.703125 11 14.59375 \nQ 11 12.796875 11.796875 11.140625 \nQ 12.59375 9.5 14 8.203125 \nQ 15.40625 6.90625 17.453125 6.09375 \nQ 19.5 5.296875 22 5.296875 \nQ 28.796875 5.296875 33.90625 10.796875 \nQ 38.796875 16.40625 38.796875 24.09375 \nz\n\" id=\"AppleGothic-97\"/>\n      <path d=\"M 10.796875 69.296875 \nL 17.40625 69.296875 \nL 17.40625 53.59375 \nL 31.5 53.59375 \nL 31.5 47.09375 \nL 17.40625 47.09375 \nL 17.40625 13.09375 \nQ 17.40625 8.90625 18.953125 7.09375 \nQ 20.5 5.296875 24.296875 5.296875 \nQ 26.5 5.296875 28.046875 5.796875 \nQ 29.59375 6.296875 31.5 7.09375 \nL 31.5 0.59375 \nQ 29.90625 0.09375 27.65625 -0.34375 \nQ 25.40625 -0.796875 23.09375 -0.796875 \nQ 17.09375 -0.796875 13.796875 1.90625 \nQ 10.09375 4.703125 10.09375 10.90625 \nL 10.09375 47.09375 \nL 1.09375 47.09375 \nL 1.09375 53.59375 \nL 10.09375 53.59375 \nz\n\" id=\"AppleGothic-116\"/>\n      <path d=\"M 4.09375 53.5 \nL 11.40625 53.5 \nL 11.40625 19.40625 \nQ 11.40625 13.703125 14.703125 9.796875 \nQ 18.296875 5.296875 24.90625 5.296875 \nQ 32.5 5.296875 37.90625 11.40625 \nQ 43.5 17.796875 43.5 25.5 \nL 43.5 53.5 \nL 50.703125 53.5 \nL 50.703125 0 \nL 44.40625 0 \nL 43.90625 9.09375 \nQ 42.296875 6.90625 40.5 5.15625 \nQ 38.703125 3.40625 36.59375 2.09375 \nQ 31 -1.296875 24.296875 -1.296875 \nQ 15.09375 -1.296875 9.59375 4.40625 \nQ 4.09375 10.203125 4.09375 18.5 \nz\n\" id=\"AppleGothic-117\"/>\n      <path d=\"M 33.203125 53.5 \nL 33.203125 46.296875 \nQ 32.09375 46.703125 31.390625 46.953125 \nQ 30.703125 47.203125 30.203125 47.296875 \nQ 29.703125 47.40625 29.140625 47.453125 \nQ 28.59375 47.5 27.703125 47.5 \nQ 20.40625 47.5 15.703125 40.40625 \nQ 11.703125 33.90625 11.703125 25.90625 \nL 11.703125 0 \nL 4.5 0 \nL 4.5 53.5 \nL 11.09375 53.5 \nL 11.59375 44.296875 \nQ 14.09375 48.5 16.296875 50.296875 \nQ 20.796875 54 27.09375 54 \nQ 28.796875 54 30.25 53.890625 \nQ 31.703125 53.796875 33.203125 53.5 \nz\n\" id=\"AppleGothic-114\"/>\n      <path d=\"M 0 -10.296875 \nL 50 -10.296875 \nL 50 -13 \nL 0 -13 \nz\n\" id=\"AppleGothic-95\"/>\n      <path d=\"M 4 53.5 \nL 11.203125 53.5 \nL 11.203125 0 \nL 4 0 \nz\nM 7.5 76.09375 \nQ 9.59375 76.09375 11 74.6875 \nQ 12.40625 73.296875 12.40625 70.703125 \nQ 12.40625 68.09375 11.09375 66.6875 \nQ 9.796875 65.296875 7.5 65.296875 \nQ 5.203125 65.296875 3.953125 66.890625 \nQ 2.703125 68.5 2.703125 70.59375 \nQ 2.703125 73.90625 4.203125 75 \nQ 5.703125 76.09375 7.5 76.09375 \nz\n\" id=\"AppleGothic-105\"/>\n      <path d=\"M 84.203125 34.296875 \nL 84.203125 0 \nL 76.90625 0 \nL 76.90625 36 \nQ 76.90625 41.703125 73 45.203125 \nQ 69.703125 48.203125 65.203125 48.203125 \nQ 58.5 48.203125 53.203125 42 \nQ 48 35.90625 48 26.90625 \nL 48 0 \nL 40.703125 0 \nL 40.703125 36 \nQ 40.703125 41.40625 37 44.703125 \nQ 33.5 48.203125 29 48.203125 \nQ 22.5 48.203125 17.40625 42.40625 \nQ 11.796875 36 11.796875 26.59375 \nL 11.796875 0 \nL 4.5 0 \nL 4.5 53.5 \nL 11.296875 53.5 \nL 11.59375 45 \nQ 14.5 49.703125 19.90625 52.40625 \nQ 24.703125 54.703125 29.59375 54.703125 \nQ 37.203125 54.703125 42.40625 50.296875 \nQ 46.203125 47 47.203125 43.703125 \nQ 49.203125 47.40625 52.90625 50.40625 \nQ 58.703125 54.703125 65.703125 54.703125 \nQ 74.203125 54.703125 78.90625 49.59375 \nQ 84.203125 43.796875 84.203125 34.296875 \nz\n\" id=\"AppleGothic-109\"/>\n      <path d=\"M 11.5 4.796875 \nL 11.5 -17.203125 \nL 4.5 -17.203125 \nL 4.5 53.5 \nL 11 53.5 \nL 11.40625 43.796875 \nQ 14.703125 49.203125 19 51.953125 \nQ 23.296875 54.703125 29.40625 54.703125 \nQ 39.40625 54.703125 46 46.90625 \nQ 49.40625 43 51.09375 38.140625 \nQ 52.796875 33.296875 52.796875 27.296875 \nQ 52.796875 14.90625 45.296875 6.796875 \nQ 37.796875 -1.296875 27.40625 -1.296875 \nQ 22.203125 -1.296875 17.796875 0.90625 \nQ 16.5 1.40625 15 2.40625 \nQ 13.5 3.40625 11.5 4.796875 \nz\nM 11.5 28.5 \nL 11.5 12.5 \nQ 13.09375 11 14.4375 9.953125 \nQ 15.796875 8.90625 16.90625 8.203125 \nQ 21.796875 5.296875 26.796875 5.296875 \nQ 34.796875 5.296875 39.90625 11.59375 \nQ 45.09375 18.203125 45.09375 27.59375 \nQ 45.09375 36.40625 40.296875 42.296875 \nQ 35.59375 48.203125 28.296875 48.203125 \nQ 20.796875 48.203125 15.90625 41.703125 \nQ 11.5 35.796875 11.5 28.5 \nz\n\" id=\"AppleGothic-112\"/>\n      <path d=\"M 29.5 -1.296875 \nQ 19.203125 -1.296875 11.40625 6.203125 \nQ 3.09375 14.09375 3.09375 26.703125 \nQ 3.09375 38.59375 10.40625 46.59375 \nQ 17.90625 54.703125 28.90625 54.703125 \nQ 39.796875 54.703125 47.296875 46.59375 \nQ 54.703125 38.59375 54.703125 26.796875 \nQ 54.703125 14.40625 46.703125 6.296875 \nQ 39.296875 -1.296875 29.5 -1.296875 \nz\nM 28.796875 5.296875 \nQ 36 5.296875 41.59375 11.296875 \nQ 47 17.40625 47 26.796875 \nQ 47 36.5 41.203125 42.59375 \nQ 35.90625 48.203125 28.90625 48.203125 \nQ 21.703125 48.203125 16.59375 42.40625 \nQ 11 36 11 26.703125 \nQ 11 17.296875 16.5 11 \nQ 21.59375 5.296875 28.796875 5.296875 \nz\n\" id=\"AppleGothic-111\"/>\n      <path d=\"M 51 35.796875 \nL 51 0 \nL 43.796875 0 \nL 43.796875 35.296875 \nQ 43.796875 40.90625 39.703125 44.5 \nQ 35.59375 48.203125 29.90625 48.203125 \nQ 22.296875 48.203125 16.796875 41.90625 \nQ 11.296875 35.5 11.296875 27.5 \nL 11.296875 0 \nL 4.5 0 \nL 4.5 53.5 \nL 10.796875 53.5 \nL 11.09375 43.5 \nQ 13.796875 47.59375 17.40625 50.296875 \nQ 23.296875 54.703125 30.703125 54.703125 \nQ 39.296875 54.703125 45.09375 49.5 \nQ 51 44.40625 51 35.796875 \nz\n\" id=\"AppleGothic-110\"/>\n      <path d=\"M 48.203125 48.796875 \nL 48.203125 39.40625 \nQ 42.59375 44.703125 36.703125 47 \nQ 35 47.703125 33.203125 47.953125 \nQ 31.40625 48.203125 29.59375 48.203125 \nQ 21.296875 48.203125 16 42 \nQ 10.703125 35.59375 10.703125 26.796875 \nQ 10.703125 17.796875 16.203125 11.40625 \nQ 21.703125 5.296875 30 5.296875 \nQ 35.203125 5.296875 39.5 7.546875 \nQ 43.796875 9.796875 48.203125 14.296875 \nL 48.203125 4.796875 \nQ 42.90625 1.5 38.59375 0.09375 \nQ 34.296875 -1.296875 29.90625 -1.296875 \nQ 18.703125 -1.296875 10.703125 6.703125 \nQ 2.90625 15 2.90625 26.703125 \nQ 2.90625 38.203125 10.59375 46.5 \nQ 18.40625 54.703125 30 54.703125 \nQ 35.90625 54.703125 41 52.703125 \nQ 44 51.59375 48.203125 48.796875 \nz\n\" id=\"AppleGothic-99\"/>\n     </defs>\n     <g transform=\"translate(425.939063 486.02)scale(0.1 -0.1)\">\n      <use xlink:href=\"#AppleGothic-102\"/>\n      <use x=\"33.999985\" xlink:href=\"#AppleGothic-101\"/>\n      <use x=\"88.899979\" xlink:href=\"#AppleGothic-97\"/>\n      <use x=\"145.399963\" xlink:href=\"#AppleGothic-116\"/>\n      <use x=\"179.59996\" xlink:href=\"#AppleGothic-117\"/>\n      <use x=\"235.099945\" xlink:href=\"#AppleGothic-114\"/>\n      <use x=\"270.299942\" xlink:href=\"#AppleGothic-101\"/>\n      <use x=\"325.199936\" xlink:href=\"#AppleGothic-95\"/>\n      <use x=\"375.199921\" xlink:href=\"#AppleGothic-105\"/>\n      <use x=\"391.099915\" xlink:href=\"#AppleGothic-109\"/>\n      <use x=\"480.399902\" xlink:href=\"#AppleGothic-112\"/>\n      <use x=\"535.799896\" xlink:href=\"#AppleGothic-111\"/>\n      <use x=\"594.099884\" xlink:href=\"#AppleGothic-114\"/>\n      <use x=\"629.299881\" xlink:href=\"#AppleGothic-116\"/>\n      <use x=\"663.499878\" xlink:href=\"#AppleGothic-97\"/>\n      <use x=\"719.999863\" xlink:href=\"#AppleGothic-110\"/>\n      <use x=\"775.899857\" xlink:href=\"#AppleGothic-99\"/>\n      <use x=\"827.79985\" xlink:href=\"#AppleGothic-101\"/>\n      <use x=\"882.699844\" xlink:href=\"#AppleGothic-95\"/>\n     </g>\n    </g>\n   </g>\n   <g id=\"matplotlib.axis_2\">\n    <g id=\"ytick_1\">\n     <g id=\"line2d_7\">\n      <defs>\n       <path d=\"M 0 0 \nL -3.5 0 \n\" id=\"m0d0a1cb3b5\" style=\"stroke:#000000;stroke-width:0.8;\"/>\n      </defs>\n      <g>\n       <use style=\"stroke:#000000;stroke-width:0.8;\" x=\"193.576563\" xlink:href=\"#m0d0a1cb3b5\" y=\"33.48075\"/>\n      </g>\n     </g>\n     <g id=\"text_8\">\n      <!-- tGravityAcc-min()-X -->\n      <defs>\n       <path d=\"M 64.59375 72.40625 \nL 64.59375 62 \nQ 59.09375 66.90625 54 69.296875 \nQ 48 72.296875 41.703125 72.296875 \nQ 29 72.296875 20.59375 61.796875 \nQ 12.59375 52.203125 12.59375 38.796875 \nQ 12.59375 25.203125 21.203125 15.203125 \nQ 29.296875 6.09375 39.5 6.09375 \nQ 47.59375 6.09375 53.09375 11.296875 \nQ 59.09375 17 59.09375 26.296875 \nL 59.09375 32.296875 \nL 33.296875 32.296875 \nL 33.296875 39.203125 \nL 67.09375 39.203125 \nL 67.09375 0 \nL 60.203125 0 \nL 59.09375 9.5 \nQ 55.59375 5.09375 51.59375 2.59375 \nQ 45.40625 -1.296875 38 -1.296875 \nQ 24.5 -1.296875 14.5 10.203125 \nQ 4.203125 21.796875 4.203125 38.59375 \nQ 4.203125 55.90625 14.90625 67.796875 \nQ 25.59375 79.703125 41.59375 79.703125 \nQ 48.59375 79.703125 55.296875 77.09375 \nQ 58.796875 75.796875 64.59375 72.40625 \nz\n\" id=\"AppleGothic-71\"/>\n       <path d=\"M 1.703125 53.5 \nL 9.796875 53.5 \nL 26.796875 7.59375 \nL 44.203125 53.5 \nL 51.40625 53.5 \nL 30 0 \nL 23.09375 0 \nz\n\" id=\"AppleGothic-118\"/>\n       <path d=\"M 2.796875 53.5 \nL 10.796875 53.5 \nL 29.203125 8.296875 \nL 44.90625 53.5 \nL 52.796875 53.5 \nL 30.5 -6.203125 \nQ 28.09375 -12.59375 24.296875 -15.296875 \nQ 20.90625 -17.59375 16.203125 -17.59375 \nQ 13.796875 -17.59375 12.1875 -17.25 \nQ 10.59375 -16.90625 9.09375 -16.296875 \nL 9.09375 -9.40625 \nQ 10.5 -10.09375 12.25 -10.59375 \nQ 14 -11.09375 15.40625 -11.09375 \nQ 18.90625 -11.09375 20.84375 -9.296875 \nQ 22.796875 -7.5 24.296875 -3.59375 \nL 25.5 0.5 \nz\n\" id=\"AppleGothic-121\"/>\n       <path d=\"M 32.59375 78.40625 \nL 40.296875 78.40625 \nL 69.5 0 \nL 60.296875 0 \nL 50.90625 26.796875 \nL 21.09375 26.796875 \nL 11.296875 0 \nL 2.59375 0 \nz\nM 48.703125 33.703125 \nL 36.59375 69 \nL 23.5 33.703125 \nz\n\" id=\"AppleGothic-65\"/>\n       <path d=\"M 4 30.59375 \nL 36.703125 30.59375 \nL 36.703125 23.296875 \nL 4 23.296875 \nz\n\" id=\"AppleGothic-45\"/>\n       <path d=\"M 34.796875 82.203125 \nL 41.40625 82.203125 \nQ 36.59375 74.5 33.890625 69.890625 \nQ 31.203125 65.296875 30.59375 63.796875 \nQ 25.09375 51.296875 25.09375 35.5 \nQ 25.09375 24.796875 27.40625 15.90625 \nQ 29.40625 8.90625 33.40625 1.59375 \nQ 33.59375 1.09375 35.546875 -2.046875 \nQ 37.5 -5.203125 41.09375 -11.203125 \nL 34.796875 -11.203125 \nQ 32.796875 -8.296875 30.9375 -5.546875 \nQ 29.09375 -2.796875 27.09375 0 \nQ 24.703125 3.796875 22.953125 7.546875 \nQ 21.203125 11.296875 19.90625 14.90625 \nQ 16.703125 24.796875 16.703125 35.5 \nQ 16.703125 46.296875 19.703125 55.59375 \nQ 20.90625 59.203125 22.65625 62.84375 \nQ 24.40625 66.5 26.796875 70.296875 \nQ 28.796875 73.296875 30.796875 76.25 \nQ 32.796875 79.203125 34.796875 82.203125 \nz\n\" id=\"AppleGothic-40\"/>\n       <path d=\"M 34.703125 35.5 \nQ 34.703125 24.796875 31.5 15 \nQ 29.09375 7.796875 24.296875 0.09375 \nQ 22.296875 -2.796875 20.390625 -5.546875 \nQ 18.5 -8.296875 16.59375 -11.203125 \nL 10.296875 -11.203125 \nQ 12.203125 -8 14.09375 -4.84375 \nQ 16 -1.703125 18 1.5 \nQ 20 5.203125 21.5 8.703125 \nQ 23 12.203125 23.90625 15.703125 \nQ 26.296875 24.40625 26.296875 35.5 \nQ 26.296875 41.40625 25.640625 46.453125 \nQ 25 51.5 23.703125 56 \nQ 22.796875 59.40625 21.1875 62.953125 \nQ 19.59375 66.5 17.5 70.296875 \nQ 15.5 73.296875 13.640625 76.25 \nQ 11.796875 79.203125 10 82.203125 \nL 16.59375 82.203125 \nQ 18.59375 79.203125 20.546875 76.25 \nQ 22.5 73.296875 24.5 70.40625 \nQ 26.90625 66.5 28.703125 62.84375 \nQ 30.5 59.203125 31.59375 55.703125 \nQ 34.703125 46.5 34.703125 35.5 \nz\n\" id=\"AppleGothic-41\"/>\n       <path d=\"M 4.703125 78.40625 \nL 14.203125 78.40625 \nL 35.09375 47.59375 \nL 56 78.40625 \nL 65.90625 78.40625 \nL 39.90625 42 \nL 70 0 \nL 59.703125 0 \nL 35.09375 36.296875 \nL 10.5 0 \nL 0.59375 0 \nL 30.5 42 \nz\n\" id=\"AppleGothic-88\"/>\n      </defs>\n      <g transform=\"translate(89.6625 37.590906)scale(0.1 -0.1)\">\n       <use xlink:href=\"#AppleGothic-116\"/>\n       <use x=\"34.199997\" xlink:href=\"#AppleGothic-71\"/>\n       <use x=\"108.599991\" xlink:href=\"#AppleGothic-114\"/>\n       <use x=\"143.799988\" xlink:href=\"#AppleGothic-97\"/>\n       <use x=\"200.299973\" xlink:href=\"#AppleGothic-118\"/>\n       <use x=\"254.499969\" xlink:href=\"#AppleGothic-105\"/>\n       <use x=\"270.399963\" xlink:href=\"#AppleGothic-116\"/>\n       <use x=\"304.59996\" xlink:href=\"#AppleGothic-121\"/>\n       <use x=\"360.299957\" xlink:href=\"#AppleGothic-65\"/>\n       <use x=\"432.899948\" xlink:href=\"#AppleGothic-99\"/>\n       <use x=\"484.799942\" xlink:href=\"#AppleGothic-99\"/>\n       <use x=\"536.699936\" xlink:href=\"#AppleGothic-45\"/>\n       <use x=\"586.699921\" xlink:href=\"#AppleGothic-109\"/>\n       <use x=\"675.999908\" xlink:href=\"#AppleGothic-105\"/>\n       <use x=\"691.899902\" xlink:href=\"#AppleGothic-110\"/>\n       <use x=\"747.799896\" xlink:href=\"#AppleGothic-40\"/>\n       <use x=\"797.799881\" xlink:href=\"#AppleGothic-41\"/>\n       <use x=\"847.799866\" xlink:href=\"#AppleGothic-45\"/>\n       <use x=\"897.79985\" xlink:href=\"#AppleGothic-88\"/>\n      </g>\n     </g>\n    </g>\n    <g id=\"ytick_2\">\n     <g id=\"line2d_8\">\n      <g>\n       <use style=\"stroke:#000000;stroke-width:0.8;\" x=\"193.576563\" xlink:href=\"#m0d0a1cb3b5\" y=\"55.22475\"/>\n      </g>\n     </g>\n     <g id=\"text_9\">\n      <!-- fBodyAccJerk-bandsEnergy()-1,16 -->\n      <defs>\n       <path d=\"M 4.796875 78.40625 \nL 31.703125 78.40625 \nQ 41.796875 78.40625 47.703125 74.296875 \nQ 54.59375 69.40625 54.59375 60.296875 \nQ 54.59375 52.703125 49.703125 47.5 \nQ 48.296875 45.90625 46.25 44.59375 \nQ 44.203125 43.296875 41.59375 42.09375 \nQ 51.90625 40.40625 56.5 34 \nQ 60 29.09375 60 23 \nQ 60 13.09375 52.5 6.5 \nQ 45.296875 0 35 0 \nL 4.796875 0 \nz\nM 31.203125 71.5 \nL 12.703125 71.5 \nL 12.703125 44.59375 \nL 27.59375 44.59375 \nQ 36.59375 44.59375 41.390625 48.640625 \nQ 46.203125 52.703125 46.203125 59.09375 \nQ 46.203125 64.09375 42.796875 67.703125 \nQ 38.703125 71.5 31.203125 71.5 \nz\nM 29.796875 37.703125 \nL 12.703125 37.703125 \nL 12.703125 6.90625 \nL 31.703125 6.90625 \nQ 40.296875 6.90625 45.796875 11.203125 \nQ 51.296875 15.796875 51.296875 22.90625 \nQ 51.296875 30.09375 45.75 33.890625 \nQ 40.203125 37.703125 29.796875 37.703125 \nz\n\" id=\"AppleGothic-66\"/>\n       <path d=\"M 41.90625 78.40625 \nL 49.59375 78.40625 \nL 49.59375 0 \nL 42.703125 0 \nL 42 8.703125 \nQ 40.59375 6.703125 39.1875 5.140625 \nQ 37.796875 3.59375 36.40625 2.5 \nQ 31.40625 -1.296875 24.796875 -1.296875 \nQ 14.5 -1.296875 7.703125 6.703125 \nQ 1 14.703125 1 26.09375 \nQ 1 37.90625 8.09375 46.203125 \nQ 15.296875 54.703125 26.09375 54.703125 \nQ 30.59375 54.703125 34.5 53.09375 \nQ 35.90625 52.5 37.75 51.5 \nQ 39.59375 50.5 41.90625 49.09375 \nz\nM 41.90625 25.90625 \nL 41.90625 41.296875 \nQ 37.203125 45.40625 33.703125 46.796875 \nQ 30.203125 48.203125 26.90625 48.203125 \nQ 18.703125 48.203125 13.59375 41.296875 \nQ 8.796875 34.796875 8.796875 26.203125 \nQ 8.796875 17 14.09375 10.90625 \nQ 19 5.296875 25.703125 5.296875 \nQ 32.296875 5.296875 37.09375 11.09375 \nQ 41.90625 16.90625 41.90625 25.90625 \nz\n\" id=\"AppleGothic-100\"/>\n       <path d=\"M 24.296875 6.703125 \nQ 30.703125 6.703125 35.203125 10.59375 \nQ 39.796875 14.703125 39.796875 20.203125 \nL 39.796875 78.40625 \nL 47.59375 78.40625 \nL 47.59375 19.90625 \nQ 47.59375 12 40.59375 5.59375 \nQ 33.703125 -0.703125 24.796875 -0.703125 \nQ 18.296875 -0.703125 11.09375 1.90625 \nQ 9.40625 2.40625 7.296875 3.453125 \nQ 5.203125 4.5 2.59375 5.90625 \nL 2.59375 15 \nQ 5.203125 13.296875 7.640625 11.890625 \nQ 10.09375 10.5 12.59375 9.40625 \nQ 18.90625 6.703125 24.296875 6.703125 \nz\n\" id=\"AppleGothic-74\"/>\n       <path d=\"M 4.5 78.40625 \nL 11.796875 78.40625 \nL 11.796875 29.90625 \nL 36.40625 53.5 \nL 46.59375 53.5 \nL 24.09375 32.703125 \nL 49.796875 0 \nL 39.90625 0 \nL 18.703125 27.90625 \nL 11.796875 21.5 \nL 11.796875 0 \nL 4.5 0 \nz\n\" id=\"AppleGothic-107\"/>\n       <path d=\"M 4.5 78.40625 \nL 11.796875 78.40625 \nL 11.796875 44.5 \nQ 13.203125 46.59375 14.546875 48.09375 \nQ 15.90625 49.59375 17.296875 50.703125 \nQ 22.5 54.703125 29.40625 54.703125 \nQ 39.796875 54.703125 46.5 46.796875 \nQ 53.40625 38.796875 53.40625 27.40625 \nQ 53.40625 15.703125 46.5 7.5 \nQ 39.09375 -1.296875 28 -1.296875 \nQ 21.90625 -1.296875 17.40625 1.40625 \nQ 14.5 3 11.796875 6 \nL 9.90625 0 \nL 4.5 0 \nz\nM 11.796875 29.09375 \nL 11.796875 13.59375 \nQ 13.203125 11.90625 14.59375 10.59375 \nQ 16 9.296875 17.203125 8.40625 \nQ 21.59375 5.296875 27.203125 5.296875 \nQ 34.90625 5.296875 39.90625 11.59375 \nQ 44.90625 18.09375 44.90625 27.296875 \nQ 44.90625 36.90625 39.296875 43 \nQ 34.5 48.203125 28.203125 48.203125 \nQ 21.40625 48.203125 16.5 42.40625 \nQ 11.796875 36.796875 11.796875 29.09375 \nz\n\" id=\"AppleGothic-98\"/>\n       <path d=\"M 3.5 4.59375 \nL 3.5 13.296875 \nQ 9.703125 8.296875 16.09375 6.296875 \nQ 18 5.796875 19.796875 5.546875 \nQ 21.59375 5.296875 23.5 5.296875 \nQ 29.59375 5.296875 33.59375 8.09375 \nQ 37.703125 11.09375 37.703125 14.796875 \nQ 37.703125 16.796875 36.203125 18.90625 \nQ 34.09375 21.5 25 23.59375 \nQ 14.203125 26.296875 10.59375 28.09375 \nQ 3.59375 32.09375 3.59375 39.296875 \nQ 3.59375 46 9.40625 50.296875 \nQ 15.296875 54.703125 24.09375 54.703125 \nQ 28.09375 54.703125 31.296875 54 \nQ 34.5 53.296875 37.296875 52.140625 \nQ 40.09375 51 42.5 49.296875 \nL 42.5 40.59375 \nQ 38.296875 44.09375 33.6875 46.140625 \nQ 29.09375 48.203125 24 48.203125 \nQ 18.90625 48.203125 15.203125 45.90625 \nQ 11.40625 43.59375 11.40625 39.90625 \nQ 11.40625 35 20.40625 32.09375 \nQ 24.59375 30.90625 28.6875 29.703125 \nQ 32.796875 28.5 37 27.296875 \nQ 46.09375 23.40625 46.09375 15.5 \nQ 46.09375 8.796875 39.796875 3.703125 \nQ 33.40625 -1.296875 23.90625 -1.296875 \nQ 19.703125 -1.296875 15.703125 -0.40625 \nQ 9.296875 1 3.5 4.59375 \nz\n\" id=\"AppleGothic-115\"/>\n       <path d=\"M 4.40625 78.5 \nL 53.203125 78.5 \nL 53.203125 71.59375 \nL 12.296875 71.59375 \nL 12.296875 44.5 \nL 51.703125 44.5 \nL 51.703125 37.59375 \nL 12.296875 37.59375 \nL 12.296875 6.90625 \nL 53.5 6.90625 \nL 53.5 0 \nL 4.40625 0 \nz\n\" id=\"AppleGothic-69\"/>\n       <path d=\"M 44.09375 47.5 \nL 46.09375 53.5 \nL 51.40625 53.5 \nL 51.40625 5.09375 \nQ 51.40625 -7.40625 45.296875 -13.90625 \nQ 39.203125 -20.40625 26.40625 -20.40625 \nQ 21.203125 -20.40625 16.546875 -18.546875 \nQ 11.90625 -16.703125 6.796875 -12.796875 \nL 6.796875 -4 \nQ 10 -7 13.09375 -9.046875 \nQ 16.203125 -11.09375 19.203125 -12.203125 \nQ 22.703125 -13.5 26.40625 -13.5 \nQ 34.296875 -13.5 38.703125 -9.90625 \nQ 44.09375 -5.5 44.09375 4.203125 \nL 44.09375 10.796875 \nQ 40.296875 4.5 34.703125 1.90625 \nQ 30.90625 0.09375 26.296875 0.09375 \nQ 16.40625 0.09375 9.703125 8 \nQ 3.09375 16.09375 3.09375 26.703125 \nQ 3.09375 37.296875 9.296875 45.40625 \nQ 16.5 54.703125 27.703125 54.703125 \nQ 33.296875 54.703125 38.296875 52 \nQ 39.796875 51.09375 41.25 50 \nQ 42.703125 48.90625 44.09375 47.5 \nz\nM 44.09375 25.90625 \nL 44.09375 40.59375 \nQ 42.40625 42.5 40.65625 43.796875 \nQ 38.90625 45.09375 37.203125 46.09375 \nQ 35.203125 47.203125 33.09375 47.703125 \nQ 31 48.203125 28.796875 48.203125 \nQ 21.296875 48.203125 16.40625 42.90625 \nQ 10.90625 36.90625 10.90625 27.09375 \nQ 10.90625 18.203125 15.5 12.40625 \nQ 20 6.703125 27.203125 6.703125 \nQ 34.296875 6.703125 39.203125 12.203125 \nQ 44.09375 17.5 44.09375 25.90625 \nz\n\" id=\"AppleGothic-103\"/>\n       <path d=\"M 12.59375 -14.703125 \nL 8.59375 -14.703125 \nQ 10.40625 -10.90625 11.296875 -7.84375 \nQ 12.203125 -4.796875 12.59375 -1 \nQ 10.40625 0 9.40625 1.203125 \nQ 8.203125 2.5 8.203125 5.40625 \nQ 8.203125 9 9.84375 11.25 \nQ 11.5 13.5 13.796875 13.5 \nQ 16.09375 13.5 17.390625 10.953125 \nQ 18.703125 8.40625 18.703125 5.09375 \nQ 18.703125 2.203125 18.140625 -0.75 \nQ 17.59375 -3.703125 16.5 -6.703125 \nQ 15.796875 -8.40625 14.84375 -10.34375 \nQ 13.90625 -12.296875 12.59375 -14.703125 \nz\n\" id=\"AppleGothic-44\"/>\n       <path d=\"M 57.796875 71.203125 \nL 57.796875 62.703125 \nQ 56 64.09375 54.296875 65.046875 \nQ 52.59375 66 50.90625 66.796875 \nQ 48.203125 68.09375 45.59375 68.640625 \nQ 43 69.203125 40.40625 69.203125 \nQ 38.59375 69.203125 36.75 68.890625 \nQ 34.90625 68.59375 33.09375 67.796875 \nQ 26.09375 64.90625 21.796875 58.40625 \nQ 15.796875 49.203125 15.796875 34.203125 \nQ 20.5 38.90625 24.5 41.5 \nQ 31.59375 45.796875 39.59375 45.796875 \nQ 49.40625 45.796875 56 40.09375 \nQ 63.09375 33.796875 63.09375 23.296875 \nQ 63.09375 12.59375 55.59375 5.59375 \nQ 48.09375 -1.296875 37.40625 -1.296875 \nQ 26.09375 -1.296875 17.90625 7.09375 \nQ 8.09375 17 8.09375 35.203125 \nQ 8.09375 53.296875 17.5 64.59375 \nQ 26.796875 75.90625 40.703125 75.90625 \nQ 45.90625 75.90625 50.40625 74.40625 \nQ 51.703125 73.90625 53.546875 73.15625 \nQ 55.40625 72.40625 57.796875 71.203125 \nz\nM 16.59375 26.59375 \nQ 18 18 23.40625 12 \nQ 29.40625 5.40625 37.796875 5.40625 \nQ 45.296875 5.40625 50.203125 10.296875 \nQ 55.296875 15.203125 55.296875 22.796875 \nQ 55.296875 30 50.40625 34.59375 \nQ 45.59375 39.09375 39 39.09375 \nQ 31.09375 39.09375 24.09375 34 \nQ 22.09375 32.5 20.1875 30.703125 \nQ 18.296875 28.90625 16.59375 26.59375 \nz\n\" id=\"AppleGothic-54\"/>\n      </defs>\n      <g transform=\"translate(20.760938 59.334906)scale(0.1 -0.1)\">\n       <use xlink:href=\"#AppleGothic-102\"/>\n       <use x=\"33.999985\" xlink:href=\"#AppleGothic-66\"/>\n       <use x=\"98.399979\" xlink:href=\"#AppleGothic-111\"/>\n       <use x=\"156.699966\" xlink:href=\"#AppleGothic-100\"/>\n       <use x=\"210.699951\" xlink:href=\"#AppleGothic-121\"/>\n       <use x=\"266.399948\" xlink:href=\"#AppleGothic-65\"/>\n       <use x=\"338.999939\" xlink:href=\"#AppleGothic-99\"/>\n       <use x=\"390.899933\" xlink:href=\"#AppleGothic-99\"/>\n       <use x=\"442.799927\" xlink:href=\"#AppleGothic-74\"/>\n       <use x=\"496.299911\" xlink:href=\"#AppleGothic-101\"/>\n       <use x=\"551.199905\" xlink:href=\"#AppleGothic-114\"/>\n       <use x=\"586.399902\" xlink:href=\"#AppleGothic-107\"/>\n       <use x=\"637.799896\" xlink:href=\"#AppleGothic-45\"/>\n       <use x=\"687.799881\" xlink:href=\"#AppleGothic-98\"/>\n       <use x=\"743.999878\" xlink:href=\"#AppleGothic-97\"/>\n       <use x=\"800.499863\" xlink:href=\"#AppleGothic-110\"/>\n       <use x=\"856.399857\" xlink:href=\"#AppleGothic-100\"/>\n       <use x=\"910.399841\" xlink:href=\"#AppleGothic-115\"/>\n       <use x=\"959.999832\" xlink:href=\"#AppleGothic-69\"/>\n       <use x=\"1017.899826\" xlink:href=\"#AppleGothic-110\"/>\n       <use x=\"1073.79982\" xlink:href=\"#AppleGothic-101\"/>\n       <use x=\"1128.699814\" xlink:href=\"#AppleGothic-114\"/>\n       <use x=\"1163.899811\" xlink:href=\"#AppleGothic-103\"/>\n       <use x=\"1220.099808\" xlink:href=\"#AppleGothic-121\"/>\n       <use x=\"1275.799805\" xlink:href=\"#AppleGothic-40\"/>\n       <use x=\"1325.799789\" xlink:href=\"#AppleGothic-41\"/>\n       <use x=\"1375.799774\" xlink:href=\"#AppleGothic-45\"/>\n       <use x=\"1425.799759\" xlink:href=\"#AppleGothic-49\"/>\n       <use x=\"1493.799744\" xlink:href=\"#AppleGothic-44\"/>\n       <use x=\"1522.099731\" xlink:href=\"#AppleGothic-49\"/>\n       <use x=\"1590.099716\" xlink:href=\"#AppleGothic-54\"/>\n      </g>\n     </g>\n    </g>\n    <g id=\"ytick_3\">\n     <g id=\"line2d_9\">\n      <g>\n       <use style=\"stroke:#000000;stroke-width:0.8;\" x=\"193.576563\" xlink:href=\"#m0d0a1cb3b5\" y=\"76.96875\"/>\n      </g>\n     </g>\n     <g id=\"text_10\">\n      <!-- angle(Y,gravityMean) -->\n      <defs>\n       <path d=\"M 4.5 78.40625 \nL 11.703125 78.40625 \nL 11.703125 0 \nL 4.5 0 \nz\n\" id=\"AppleGothic-108\"/>\n       <path d=\"M 1.796875 78.40625 \nL 11.203125 78.40625 \nL 35.203125 42.296875 \nL 58.796875 78.40625 \nL 68.59375 78.40625 \nL 39 35.40625 \nL 39 0 \nL 31.203125 0 \nL 31.203125 35.40625 \nz\n\" id=\"AppleGothic-89\"/>\n       <path d=\"M 4.5 0 \nL 4.5 78.40625 \nL 14.796875 78.40625 \nL 45.203125 13.5 \nL 76.59375 78.40625 \nL 86.296875 78.40625 \nL 86.296875 0 \nL 79.203125 0 \nL 79.203125 68.09375 \nL 46.90625 0 \nL 43.5 0 \nL 11.703125 68 \nL 11.703125 0 \nz\n\" id=\"AppleGothic-77\"/>\n      </defs>\n      <g transform=\"translate(86.142188 81.078906)scale(0.1 -0.1)\">\n       <use xlink:href=\"#AppleGothic-97\"/>\n       <use x=\"56.499985\" xlink:href=\"#AppleGothic-110\"/>\n       <use x=\"112.399979\" xlink:href=\"#AppleGothic-103\"/>\n       <use x=\"168.599976\" xlink:href=\"#AppleGothic-108\"/>\n       <use x=\"185.299973\" xlink:href=\"#AppleGothic-101\"/>\n       <use x=\"240.199966\" xlink:href=\"#AppleGothic-40\"/>\n       <use x=\"290.199951\" xlink:href=\"#AppleGothic-89\"/>\n       <use x=\"359.699936\" xlink:href=\"#AppleGothic-44\"/>\n       <use x=\"387.999924\" xlink:href=\"#AppleGothic-103\"/>\n       <use x=\"444.199921\" xlink:href=\"#AppleGothic-114\"/>\n       <use x=\"479.399918\" xlink:href=\"#AppleGothic-97\"/>\n       <use x=\"535.899902\" xlink:href=\"#AppleGothic-118\"/>\n       <use x=\"590.099899\" xlink:href=\"#AppleGothic-105\"/>\n       <use x=\"605.999893\" xlink:href=\"#AppleGothic-116\"/>\n       <use x=\"640.19989\" xlink:href=\"#AppleGothic-121\"/>\n       <use x=\"695.899887\" xlink:href=\"#AppleGothic-77\"/>\n       <use x=\"786.999878\" xlink:href=\"#AppleGothic-101\"/>\n       <use x=\"841.899872\" xlink:href=\"#AppleGothic-97\"/>\n       <use x=\"898.399857\" xlink:href=\"#AppleGothic-110\"/>\n       <use x=\"954.29985\" xlink:href=\"#AppleGothic-41\"/>\n      </g>\n     </g>\n    </g>\n    <g id=\"ytick_4\">\n     <g id=\"line2d_10\">\n      <g>\n       <use style=\"stroke:#000000;stroke-width:0.8;\" x=\"193.576563\" xlink:href=\"#m0d0a1cb3b5\" y=\"98.71275\"/>\n      </g>\n     </g>\n     <g id=\"text_11\">\n      <!-- fBodyAccMag-energy() -->\n      <g transform=\"translate(75.632813 102.822906)scale(0.1 -0.1)\">\n       <use xlink:href=\"#AppleGothic-102\"/>\n       <use x=\"33.999985\" xlink:href=\"#AppleGothic-66\"/>\n       <use x=\"98.399979\" xlink:href=\"#AppleGothic-111\"/>\n       <use x=\"156.699966\" xlink:href=\"#AppleGothic-100\"/>\n       <use x=\"210.699951\" xlink:href=\"#AppleGothic-121\"/>\n       <use x=\"266.399948\" xlink:href=\"#AppleGothic-65\"/>\n       <use x=\"338.999939\" xlink:href=\"#AppleGothic-99\"/>\n       <use x=\"390.899933\" xlink:href=\"#AppleGothic-99\"/>\n       <use x=\"442.799927\" xlink:href=\"#AppleGothic-77\"/>\n       <use x=\"533.899918\" xlink:href=\"#AppleGothic-97\"/>\n       <use x=\"590.399902\" xlink:href=\"#AppleGothic-103\"/>\n       <use x=\"646.599899\" xlink:href=\"#AppleGothic-45\"/>\n       <use x=\"696.599884\" xlink:href=\"#AppleGothic-101\"/>\n       <use x=\"751.499878\" xlink:href=\"#AppleGothic-110\"/>\n       <use x=\"807.399872\" xlink:href=\"#AppleGothic-101\"/>\n       <use x=\"862.299866\" xlink:href=\"#AppleGothic-114\"/>\n       <use x=\"897.499863\" xlink:href=\"#AppleGothic-103\"/>\n       <use x=\"953.69986\" xlink:href=\"#AppleGothic-121\"/>\n       <use x=\"1009.399857\" xlink:href=\"#AppleGothic-40\"/>\n       <use x=\"1059.399841\" xlink:href=\"#AppleGothic-41\"/>\n      </g>\n     </g>\n    </g>\n    <g id=\"ytick_5\">\n     <g id=\"line2d_11\">\n      <g>\n       <use style=\"stroke:#000000;stroke-width:0.8;\" x=\"193.576563\" xlink:href=\"#m0d0a1cb3b5\" y=\"120.45675\"/>\n      </g>\n     </g>\n     <g id=\"text_12\">\n      <!-- tGravityAcc-arCoeff()-Z,2 -->\n      <defs>\n       <path d=\"M 64.203125 72.203125 \nL 64.203125 62.09375 \nQ 60.5 65.703125 55.703125 68.296875 \nQ 48.203125 72.296875 40.59375 72.296875 \nQ 28.90625 72.296875 20.5 62.40625 \nQ 16.296875 57.5 14.25 51.703125 \nQ 12.203125 45.90625 12.203125 39.296875 \nQ 12.203125 25.796875 20.59375 16.09375 \nQ 28.90625 6.40625 40.796875 6.40625 \nQ 46.40625 6.40625 52.25 8.65625 \nQ 58.09375 10.90625 64.203125 15.59375 \nL 64.203125 5.90625 \nQ 50.796875 -1.296875 39.90625 -1.296875 \nQ 25.796875 -1.296875 15.203125 9.59375 \nQ 3.796875 21.296875 3.796875 38.90625 \nQ 3.796875 56 14.40625 67.796875 \nQ 25.203125 79.703125 41.09375 79.703125 \nQ 47.296875 79.703125 53 77.796875 \nQ 58.703125 75.90625 64.203125 72.203125 \nz\n\" id=\"AppleGothic-67\"/>\n       <path d=\"M 6.203125 78.40625 \nL 61.703125 78.40625 \nL 61.703125 71.796875 \nL 13.203125 6.90625 \nL 64.90625 6.90625 \nL 64.90625 0 \nL 1.703125 0 \nL 1.703125 4.5 \nL 51.40625 71.5 \nL 6.203125 71.5 \nz\n\" id=\"AppleGothic-90\"/>\n      </defs>\n      <g transform=\"translate(62.5625 124.566906)scale(0.1 -0.1)\">\n       <use xlink:href=\"#AppleGothic-116\"/>\n       <use x=\"34.199997\" xlink:href=\"#AppleGothic-71\"/>\n       <use x=\"108.599991\" xlink:href=\"#AppleGothic-114\"/>\n       <use x=\"143.799988\" xlink:href=\"#AppleGothic-97\"/>\n       <use x=\"200.299973\" xlink:href=\"#AppleGothic-118\"/>\n       <use x=\"254.499969\" xlink:href=\"#AppleGothic-105\"/>\n       <use x=\"270.399963\" xlink:href=\"#AppleGothic-116\"/>\n       <use x=\"304.59996\" xlink:href=\"#AppleGothic-121\"/>\n       <use x=\"360.299957\" xlink:href=\"#AppleGothic-65\"/>\n       <use x=\"432.899948\" xlink:href=\"#AppleGothic-99\"/>\n       <use x=\"484.799942\" xlink:href=\"#AppleGothic-99\"/>\n       <use x=\"536.699936\" xlink:href=\"#AppleGothic-45\"/>\n       <use x=\"586.699921\" xlink:href=\"#AppleGothic-97\"/>\n       <use x=\"643.199905\" xlink:href=\"#AppleGothic-114\"/>\n       <use x=\"678.399902\" xlink:href=\"#AppleGothic-67\"/>\n       <use x=\"746.899887\" xlink:href=\"#AppleGothic-111\"/>\n       <use x=\"805.199875\" xlink:href=\"#AppleGothic-101\"/>\n       <use x=\"860.099869\" xlink:href=\"#AppleGothic-102\"/>\n       <use x=\"894.099854\" xlink:href=\"#AppleGothic-102\"/>\n       <use x=\"928.099838\" xlink:href=\"#AppleGothic-40\"/>\n       <use x=\"978.099823\" xlink:href=\"#AppleGothic-41\"/>\n       <use x=\"1028.099808\" xlink:href=\"#AppleGothic-45\"/>\n       <use x=\"1078.099792\" xlink:href=\"#AppleGothic-90\"/>\n       <use x=\"1143.799789\" xlink:href=\"#AppleGothic-44\"/>\n       <use x=\"1172.099777\" xlink:href=\"#AppleGothic-50\"/>\n      </g>\n     </g>\n    </g>\n    <g id=\"ytick_6\">\n     <g id=\"line2d_12\">\n      <g>\n       <use style=\"stroke:#000000;stroke-width:0.8;\" x=\"193.576563\" xlink:href=\"#m0d0a1cb3b5\" y=\"142.20075\"/>\n      </g>\n     </g>\n     <g id=\"text_13\">\n      <!-- fBodyGyro-maxInds-X -->\n      <defs>\n       <path d=\"M 5.5 53.5 \nL 14.5 53.5 \nL 27.40625 33.59375 \nL 40.5 53.5 \nL 48.90625 53.5 \nL 31.59375 28.59375 \nL 51.09375 0 \nL 41.90625 0 \nL 26.90625 23.5 \nL 11.796875 0 \nL 3.296875 0 \nL 22.90625 28.59375 \nz\n\" id=\"AppleGothic-120\"/>\n       <path d=\"M 6.796875 78.40625 \nL 14.59375 78.40625 \nL 14.59375 0 \nL 6.796875 0 \nz\n\" id=\"AppleGothic-73\"/>\n      </defs>\n      <g transform=\"translate(82.325 146.185906)scale(0.1 -0.1)\">\n       <use xlink:href=\"#AppleGothic-102\"/>\n       <use x=\"33.999985\" xlink:href=\"#AppleGothic-66\"/>\n       <use x=\"98.399979\" xlink:href=\"#AppleGothic-111\"/>\n       <use x=\"156.699966\" xlink:href=\"#AppleGothic-100\"/>\n       <use x=\"210.699951\" xlink:href=\"#AppleGothic-121\"/>\n       <use x=\"266.399948\" xlink:href=\"#AppleGothic-71\"/>\n       <use x=\"340.799942\" xlink:href=\"#AppleGothic-121\"/>\n       <use x=\"396.499939\" xlink:href=\"#AppleGothic-114\"/>\n       <use x=\"431.699936\" xlink:href=\"#AppleGothic-111\"/>\n       <use x=\"489.999924\" xlink:href=\"#AppleGothic-45\"/>\n       <use x=\"539.999908\" xlink:href=\"#AppleGothic-109\"/>\n       <use x=\"629.299896\" xlink:href=\"#AppleGothic-97\"/>\n       <use x=\"685.799881\" xlink:href=\"#AppleGothic-120\"/>\n       <use x=\"740.199875\" xlink:href=\"#AppleGothic-73\"/>\n       <use x=\"761.69986\" xlink:href=\"#AppleGothic-110\"/>\n       <use x=\"817.599854\" xlink:href=\"#AppleGothic-100\"/>\n       <use x=\"871.599838\" xlink:href=\"#AppleGothic-115\"/>\n       <use x=\"921.199829\" xlink:href=\"#AppleGothic-45\"/>\n       <use x=\"971.199814\" xlink:href=\"#AppleGothic-88\"/>\n      </g>\n     </g>\n    </g>\n    <g id=\"ytick_7\">\n     <g id=\"line2d_13\">\n      <g>\n       <use style=\"stroke:#000000;stroke-width:0.8;\" x=\"193.576563\" xlink:href=\"#m0d0a1cb3b5\" y=\"163.94475\"/>\n      </g>\n     </g>\n     <g id=\"text_14\">\n      <!-- tGravityAcc-energy()-Y -->\n      <g transform=\"translate(74.670313 168.054906)scale(0.1 -0.1)\">\n       <use xlink:href=\"#AppleGothic-116\"/>\n       <use x=\"34.199997\" xlink:href=\"#AppleGothic-71\"/>\n       <use x=\"108.599991\" xlink:href=\"#AppleGothic-114\"/>\n       <use x=\"143.799988\" xlink:href=\"#AppleGothic-97\"/>\n       <use x=\"200.299973\" xlink:href=\"#AppleGothic-118\"/>\n       <use x=\"254.499969\" xlink:href=\"#AppleGothic-105\"/>\n       <use x=\"270.399963\" xlink:href=\"#AppleGothic-116\"/>\n       <use x=\"304.59996\" xlink:href=\"#AppleGothic-121\"/>\n       <use x=\"360.299957\" xlink:href=\"#AppleGothic-65\"/>\n       <use x=\"432.899948\" xlink:href=\"#AppleGothic-99\"/>\n       <use x=\"484.799942\" xlink:href=\"#AppleGothic-99\"/>\n       <use x=\"536.699936\" xlink:href=\"#AppleGothic-45\"/>\n       <use x=\"586.699921\" xlink:href=\"#AppleGothic-101\"/>\n       <use x=\"641.599915\" xlink:href=\"#AppleGothic-110\"/>\n       <use x=\"697.499908\" xlink:href=\"#AppleGothic-101\"/>\n       <use x=\"752.399902\" xlink:href=\"#AppleGothic-114\"/>\n       <use x=\"787.599899\" xlink:href=\"#AppleGothic-103\"/>\n       <use x=\"843.799896\" xlink:href=\"#AppleGothic-121\"/>\n       <use x=\"899.499893\" xlink:href=\"#AppleGothic-40\"/>\n       <use x=\"949.499878\" xlink:href=\"#AppleGothic-41\"/>\n       <use x=\"999.499863\" xlink:href=\"#AppleGothic-45\"/>\n       <use x=\"1049.499847\" xlink:href=\"#AppleGothic-89\"/>\n      </g>\n     </g>\n    </g>\n    <g id=\"ytick_8\">\n     <g id=\"line2d_14\">\n      <g>\n       <use style=\"stroke:#000000;stroke-width:0.8;\" x=\"193.576563\" xlink:href=\"#m0d0a1cb3b5\" y=\"185.68875\"/>\n      </g>\n     </g>\n     <g id=\"text_15\">\n      <!-- tBodyGyro-correlation()-Y,Z -->\n      <g transform=\"translate(53.901563 189.798906)scale(0.1 -0.1)\">\n       <use xlink:href=\"#AppleGothic-116\"/>\n       <use x=\"34.199997\" xlink:href=\"#AppleGothic-66\"/>\n       <use x=\"98.599991\" xlink:href=\"#AppleGothic-111\"/>\n       <use x=\"156.899979\" xlink:href=\"#AppleGothic-100\"/>\n       <use x=\"210.899963\" xlink:href=\"#AppleGothic-121\"/>\n       <use x=\"266.59996\" xlink:href=\"#AppleGothic-71\"/>\n       <use x=\"340.999954\" xlink:href=\"#AppleGothic-121\"/>\n       <use x=\"396.699951\" xlink:href=\"#AppleGothic-114\"/>\n       <use x=\"431.899948\" xlink:href=\"#AppleGothic-111\"/>\n       <use x=\"490.199936\" xlink:href=\"#AppleGothic-45\"/>\n       <use x=\"540.199921\" xlink:href=\"#AppleGothic-99\"/>\n       <use x=\"592.099915\" xlink:href=\"#AppleGothic-111\"/>\n       <use x=\"650.399902\" xlink:href=\"#AppleGothic-114\"/>\n       <use x=\"685.599899\" xlink:href=\"#AppleGothic-114\"/>\n       <use x=\"720.799896\" xlink:href=\"#AppleGothic-101\"/>\n       <use x=\"775.69989\" xlink:href=\"#AppleGothic-108\"/>\n       <use x=\"792.399887\" xlink:href=\"#AppleGothic-97\"/>\n       <use x=\"848.899872\" xlink:href=\"#AppleGothic-116\"/>\n       <use x=\"883.099869\" xlink:href=\"#AppleGothic-105\"/>\n       <use x=\"898.999863\" xlink:href=\"#AppleGothic-111\"/>\n       <use x=\"957.29985\" xlink:href=\"#AppleGothic-110\"/>\n       <use x=\"1013.199844\" xlink:href=\"#AppleGothic-40\"/>\n       <use x=\"1063.199829\" xlink:href=\"#AppleGothic-41\"/>\n       <use x=\"1113.199814\" xlink:href=\"#AppleGothic-45\"/>\n       <use x=\"1163.199799\" xlink:href=\"#AppleGothic-89\"/>\n       <use x=\"1232.699783\" xlink:href=\"#AppleGothic-44\"/>\n       <use x=\"1260.999771\" xlink:href=\"#AppleGothic-90\"/>\n      </g>\n     </g>\n    </g>\n    <g id=\"ytick_9\">\n     <g id=\"line2d_15\">\n      <g>\n       <use style=\"stroke:#000000;stroke-width:0.8;\" x=\"193.576563\" xlink:href=\"#m0d0a1cb3b5\" y=\"207.43275\"/>\n      </g>\n     </g>\n     <g id=\"text_16\">\n      <!-- tBodyAccMag-arCoeff()1 -->\n      <g transform=\"translate(65.954688 211.542906)scale(0.1 -0.1)\">\n       <use xlink:href=\"#AppleGothic-116\"/>\n       <use x=\"34.199997\" xlink:href=\"#AppleGothic-66\"/>\n       <use x=\"98.599991\" xlink:href=\"#AppleGothic-111\"/>\n       <use x=\"156.899979\" xlink:href=\"#AppleGothic-100\"/>\n       <use x=\"210.899963\" xlink:href=\"#AppleGothic-121\"/>\n       <use x=\"266.59996\" xlink:href=\"#AppleGothic-65\"/>\n       <use x=\"339.199951\" xlink:href=\"#AppleGothic-99\"/>\n       <use x=\"391.099945\" xlink:href=\"#AppleGothic-99\"/>\n       <use x=\"442.999939\" xlink:href=\"#AppleGothic-77\"/>\n       <use x=\"534.09993\" xlink:href=\"#AppleGothic-97\"/>\n       <use x=\"590.599915\" xlink:href=\"#AppleGothic-103\"/>\n       <use x=\"646.799911\" xlink:href=\"#AppleGothic-45\"/>\n       <use x=\"696.799896\" xlink:href=\"#AppleGothic-97\"/>\n       <use x=\"753.299881\" xlink:href=\"#AppleGothic-114\"/>\n       <use x=\"788.499878\" xlink:href=\"#AppleGothic-67\"/>\n       <use x=\"856.999863\" xlink:href=\"#AppleGothic-111\"/>\n       <use x=\"915.29985\" xlink:href=\"#AppleGothic-101\"/>\n       <use x=\"970.199844\" xlink:href=\"#AppleGothic-102\"/>\n       <use x=\"1004.199829\" xlink:href=\"#AppleGothic-102\"/>\n       <use x=\"1038.199814\" xlink:href=\"#AppleGothic-40\"/>\n       <use x=\"1088.199799\" xlink:href=\"#AppleGothic-41\"/>\n       <use x=\"1138.199783\" xlink:href=\"#AppleGothic-49\"/>\n      </g>\n     </g>\n    </g>\n    <g id=\"ytick_10\">\n     <g id=\"line2d_16\">\n      <g>\n       <use style=\"stroke:#000000;stroke-width:0.8;\" x=\"193.576563\" xlink:href=\"#m0d0a1cb3b5\" y=\"229.17675\"/>\n      </g>\n     </g>\n     <g id=\"text_17\">\n      <!-- tBodyGyro-max()-X -->\n      <g transform=\"translate(90.404688 233.286906)scale(0.1 -0.1)\">\n       <use xlink:href=\"#AppleGothic-116\"/>\n       <use x=\"34.199997\" xlink:href=\"#AppleGothic-66\"/>\n       <use x=\"98.599991\" xlink:href=\"#AppleGothic-111\"/>\n       <use x=\"156.899979\" xlink:href=\"#AppleGothic-100\"/>\n       <use x=\"210.899963\" xlink:href=\"#AppleGothic-121\"/>\n       <use x=\"266.59996\" xlink:href=\"#AppleGothic-71\"/>\n       <use x=\"340.999954\" xlink:href=\"#AppleGothic-121\"/>\n       <use x=\"396.699951\" xlink:href=\"#AppleGothic-114\"/>\n       <use x=\"431.899948\" xlink:href=\"#AppleGothic-111\"/>\n       <use x=\"490.199936\" xlink:href=\"#AppleGothic-45\"/>\n       <use x=\"540.199921\" xlink:href=\"#AppleGothic-109\"/>\n       <use x=\"629.499908\" xlink:href=\"#AppleGothic-97\"/>\n       <use x=\"685.999893\" xlink:href=\"#AppleGothic-120\"/>\n       <use x=\"740.399887\" xlink:href=\"#AppleGothic-40\"/>\n       <use x=\"790.399872\" xlink:href=\"#AppleGothic-41\"/>\n       <use x=\"840.399857\" xlink:href=\"#AppleGothic-45\"/>\n       <use x=\"890.399841\" xlink:href=\"#AppleGothic-88\"/>\n      </g>\n     </g>\n    </g>\n    <g id=\"ytick_11\">\n     <g id=\"line2d_17\">\n      <g>\n       <use style=\"stroke:#000000;stroke-width:0.8;\" x=\"193.576563\" xlink:href=\"#m0d0a1cb3b5\" y=\"250.92075\"/>\n      </g>\n     </g>\n     <g id=\"text_18\">\n      <!-- fBodyAcc-max()-Y -->\n      <g transform=\"translate(95.325 255.030906)scale(0.1 -0.1)\">\n       <use xlink:href=\"#AppleGothic-102\"/>\n       <use x=\"33.999985\" xlink:href=\"#AppleGothic-66\"/>\n       <use x=\"98.399979\" xlink:href=\"#AppleGothic-111\"/>\n       <use x=\"156.699966\" xlink:href=\"#AppleGothic-100\"/>\n       <use x=\"210.699951\" xlink:href=\"#AppleGothic-121\"/>\n       <use x=\"266.399948\" xlink:href=\"#AppleGothic-65\"/>\n       <use x=\"338.999939\" xlink:href=\"#AppleGothic-99\"/>\n       <use x=\"390.899933\" xlink:href=\"#AppleGothic-99\"/>\n       <use x=\"442.799927\" xlink:href=\"#AppleGothic-45\"/>\n       <use x=\"492.799911\" xlink:href=\"#AppleGothic-109\"/>\n       <use x=\"582.099899\" xlink:href=\"#AppleGothic-97\"/>\n       <use x=\"638.599884\" xlink:href=\"#AppleGothic-120\"/>\n       <use x=\"692.999878\" xlink:href=\"#AppleGothic-40\"/>\n       <use x=\"742.999863\" xlink:href=\"#AppleGothic-41\"/>\n       <use x=\"792.999847\" xlink:href=\"#AppleGothic-45\"/>\n       <use x=\"842.999832\" xlink:href=\"#AppleGothic-89\"/>\n      </g>\n     </g>\n    </g>\n    <g id=\"ytick_12\">\n     <g id=\"line2d_18\">\n      <g>\n       <use style=\"stroke:#000000;stroke-width:0.8;\" x=\"193.576563\" xlink:href=\"#m0d0a1cb3b5\" y=\"272.66475\"/>\n      </g>\n     </g>\n     <g id=\"text_19\">\n      <!-- tBodyAcc-correlation()-X,Y -->\n      <g transform=\"translate(58.0625 276.774906)scale(0.1 -0.1)\">\n       <use xlink:href=\"#AppleGothic-116\"/>\n       <use x=\"34.199997\" xlink:href=\"#AppleGothic-66\"/>\n       <use x=\"98.599991\" xlink:href=\"#AppleGothic-111\"/>\n       <use x=\"156.899979\" xlink:href=\"#AppleGothic-100\"/>\n       <use x=\"210.899963\" xlink:href=\"#AppleGothic-121\"/>\n       <use x=\"266.59996\" xlink:href=\"#AppleGothic-65\"/>\n       <use x=\"339.199951\" xlink:href=\"#AppleGothic-99\"/>\n       <use x=\"391.099945\" xlink:href=\"#AppleGothic-99\"/>\n       <use x=\"442.999939\" xlink:href=\"#AppleGothic-45\"/>\n       <use x=\"492.999924\" xlink:href=\"#AppleGothic-99\"/>\n       <use x=\"544.899918\" xlink:href=\"#AppleGothic-111\"/>\n       <use x=\"603.199905\" xlink:href=\"#AppleGothic-114\"/>\n       <use x=\"638.399902\" xlink:href=\"#AppleGothic-114\"/>\n       <use x=\"673.599899\" xlink:href=\"#AppleGothic-101\"/>\n       <use x=\"728.499893\" xlink:href=\"#AppleGothic-108\"/>\n       <use x=\"745.19989\" xlink:href=\"#AppleGothic-97\"/>\n       <use x=\"801.699875\" xlink:href=\"#AppleGothic-116\"/>\n       <use x=\"835.899872\" xlink:href=\"#AppleGothic-105\"/>\n       <use x=\"851.799866\" xlink:href=\"#AppleGothic-111\"/>\n       <use x=\"910.099854\" xlink:href=\"#AppleGothic-110\"/>\n       <use x=\"965.999847\" xlink:href=\"#AppleGothic-40\"/>\n       <use x=\"1015.999832\" xlink:href=\"#AppleGothic-41\"/>\n       <use x=\"1065.999817\" xlink:href=\"#AppleGothic-45\"/>\n       <use x=\"1115.999802\" xlink:href=\"#AppleGothic-88\"/>\n       <use x=\"1187.299789\" xlink:href=\"#AppleGothic-44\"/>\n       <use x=\"1215.599777\" xlink:href=\"#AppleGothic-89\"/>\n      </g>\n     </g>\n    </g>\n    <g id=\"ytick_13\">\n     <g id=\"line2d_19\">\n      <g>\n       <use style=\"stroke:#000000;stroke-width:0.8;\" x=\"193.576563\" xlink:href=\"#m0d0a1cb3b5\" y=\"294.40875\"/>\n      </g>\n     </g>\n     <g id=\"text_20\">\n      <!-- tGravityAcc-max()-Y -->\n      <g transform=\"translate(85.932813 298.518906)scale(0.1 -0.1)\">\n       <use xlink:href=\"#AppleGothic-116\"/>\n       <use x=\"34.199997\" xlink:href=\"#AppleGothic-71\"/>\n       <use x=\"108.599991\" xlink:href=\"#AppleGothic-114\"/>\n       <use x=\"143.799988\" xlink:href=\"#AppleGothic-97\"/>\n       <use x=\"200.299973\" xlink:href=\"#AppleGothic-118\"/>\n       <use x=\"254.499969\" xlink:href=\"#AppleGothic-105\"/>\n       <use x=\"270.399963\" xlink:href=\"#AppleGothic-116\"/>\n       <use x=\"304.59996\" xlink:href=\"#AppleGothic-121\"/>\n       <use x=\"360.299957\" xlink:href=\"#AppleGothic-65\"/>\n       <use x=\"432.899948\" xlink:href=\"#AppleGothic-99\"/>\n       <use x=\"484.799942\" xlink:href=\"#AppleGothic-99\"/>\n       <use x=\"536.699936\" xlink:href=\"#AppleGothic-45\"/>\n       <use x=\"586.699921\" xlink:href=\"#AppleGothic-109\"/>\n       <use x=\"675.999908\" xlink:href=\"#AppleGothic-97\"/>\n       <use x=\"732.499893\" xlink:href=\"#AppleGothic-120\"/>\n       <use x=\"786.899887\" xlink:href=\"#AppleGothic-40\"/>\n       <use x=\"836.899872\" xlink:href=\"#AppleGothic-41\"/>\n       <use x=\"886.899857\" xlink:href=\"#AppleGothic-45\"/>\n       <use x=\"936.899841\" xlink:href=\"#AppleGothic-89\"/>\n      </g>\n     </g>\n    </g>\n    <g id=\"ytick_14\">\n     <g id=\"line2d_20\">\n      <g>\n       <use style=\"stroke:#000000;stroke-width:0.8;\" x=\"193.576563\" xlink:href=\"#m0d0a1cb3b5\" y=\"316.15275\"/>\n      </g>\n     </g>\n     <g id=\"text_21\">\n      <!-- fBodyGyro-max()-X -->\n      <g transform=\"translate(90.425 320.262906)scale(0.1 -0.1)\">\n       <use xlink:href=\"#AppleGothic-102\"/>\n       <use x=\"33.999985\" xlink:href=\"#AppleGothic-66\"/>\n       <use x=\"98.399979\" xlink:href=\"#AppleGothic-111\"/>\n       <use x=\"156.699966\" xlink:href=\"#AppleGothic-100\"/>\n       <use x=\"210.699951\" xlink:href=\"#AppleGothic-121\"/>\n       <use x=\"266.399948\" xlink:href=\"#AppleGothic-71\"/>\n       <use x=\"340.799942\" xlink:href=\"#AppleGothic-121\"/>\n       <use x=\"396.499939\" xlink:href=\"#AppleGothic-114\"/>\n       <use x=\"431.699936\" xlink:href=\"#AppleGothic-111\"/>\n       <use x=\"489.999924\" xlink:href=\"#AppleGothic-45\"/>\n       <use x=\"539.999908\" xlink:href=\"#AppleGothic-109\"/>\n       <use x=\"629.299896\" xlink:href=\"#AppleGothic-97\"/>\n       <use x=\"685.799881\" xlink:href=\"#AppleGothic-120\"/>\n       <use x=\"740.199875\" xlink:href=\"#AppleGothic-40\"/>\n       <use x=\"790.19986\" xlink:href=\"#AppleGothic-41\"/>\n       <use x=\"840.199844\" xlink:href=\"#AppleGothic-45\"/>\n       <use x=\"890.199829\" xlink:href=\"#AppleGothic-88\"/>\n      </g>\n     </g>\n    </g>\n    <g id=\"ytick_15\">\n     <g id=\"line2d_21\">\n      <g>\n       <use style=\"stroke:#000000;stroke-width:0.8;\" x=\"193.576563\" xlink:href=\"#m0d0a1cb3b5\" y=\"337.89675\"/>\n      </g>\n     </g>\n     <g id=\"text_22\">\n      <!-- tGravityAcc-min()-Z -->\n      <g transform=\"translate(90.221875 342.006906)scale(0.1 -0.1)\">\n       <use xlink:href=\"#AppleGothic-116\"/>\n       <use x=\"34.199997\" xlink:href=\"#AppleGothic-71\"/>\n       <use x=\"108.599991\" xlink:href=\"#AppleGothic-114\"/>\n       <use x=\"143.799988\" xlink:href=\"#AppleGothic-97\"/>\n       <use x=\"200.299973\" xlink:href=\"#AppleGothic-118\"/>\n       <use x=\"254.499969\" xlink:href=\"#AppleGothic-105\"/>\n       <use x=\"270.399963\" xlink:href=\"#AppleGothic-116\"/>\n       <use x=\"304.59996\" xlink:href=\"#AppleGothic-121\"/>\n       <use x=\"360.299957\" xlink:href=\"#AppleGothic-65\"/>\n       <use x=\"432.899948\" xlink:href=\"#AppleGothic-99\"/>\n       <use x=\"484.799942\" xlink:href=\"#AppleGothic-99\"/>\n       <use x=\"536.699936\" xlink:href=\"#AppleGothic-45\"/>\n       <use x=\"586.699921\" xlink:href=\"#AppleGothic-109\"/>\n       <use x=\"675.999908\" xlink:href=\"#AppleGothic-105\"/>\n       <use x=\"691.899902\" xlink:href=\"#AppleGothic-110\"/>\n       <use x=\"747.799896\" xlink:href=\"#AppleGothic-40\"/>\n       <use x=\"797.799881\" xlink:href=\"#AppleGothic-41\"/>\n       <use x=\"847.799866\" xlink:href=\"#AppleGothic-45\"/>\n       <use x=\"897.79985\" xlink:href=\"#AppleGothic-90\"/>\n      </g>\n     </g>\n    </g>\n    <g id=\"ytick_16\">\n     <g id=\"line2d_22\">\n      <g>\n       <use style=\"stroke:#000000;stroke-width:0.8;\" x=\"193.576563\" xlink:href=\"#m0d0a1cb3b5\" y=\"359.64075\"/>\n      </g>\n     </g>\n     <g id=\"text_23\">\n      <!-- tBodyGyro-min()-X -->\n      <g transform=\"translate(94.314063 363.750906)scale(0.1 -0.1)\">\n       <use xlink:href=\"#AppleGothic-116\"/>\n       <use x=\"34.199997\" xlink:href=\"#AppleGothic-66\"/>\n       <use x=\"98.599991\" xlink:href=\"#AppleGothic-111\"/>\n       <use x=\"156.899979\" xlink:href=\"#AppleGothic-100\"/>\n       <use x=\"210.899963\" xlink:href=\"#AppleGothic-121\"/>\n       <use x=\"266.59996\" xlink:href=\"#AppleGothic-71\"/>\n       <use x=\"340.999954\" xlink:href=\"#AppleGothic-121\"/>\n       <use x=\"396.699951\" xlink:href=\"#AppleGothic-114\"/>\n       <use x=\"431.899948\" xlink:href=\"#AppleGothic-111\"/>\n       <use x=\"490.199936\" xlink:href=\"#AppleGothic-45\"/>\n       <use x=\"540.199921\" xlink:href=\"#AppleGothic-109\"/>\n       <use x=\"629.499908\" xlink:href=\"#AppleGothic-105\"/>\n       <use x=\"645.399902\" xlink:href=\"#AppleGothic-110\"/>\n       <use x=\"701.299896\" xlink:href=\"#AppleGothic-40\"/>\n       <use x=\"751.299881\" xlink:href=\"#AppleGothic-41\"/>\n       <use x=\"801.299866\" xlink:href=\"#AppleGothic-45\"/>\n       <use x=\"851.29985\" xlink:href=\"#AppleGothic-88\"/>\n      </g>\n     </g>\n    </g>\n    <g id=\"ytick_17\">\n     <g id=\"line2d_23\">\n      <g>\n       <use style=\"stroke:#000000;stroke-width:0.8;\" x=\"193.576563\" xlink:href=\"#m0d0a1cb3b5\" y=\"381.38475\"/>\n      </g>\n     </g>\n     <g id=\"text_24\">\n      <!-- tGravityAcc-arCoeff()-X,3 -->\n      <defs>\n       <path d=\"M 8.59375 5.203125 \nL 8.59375 13.59375 \nQ 13.796875 9.703125 19.296875 7.546875 \nQ 24.796875 5.40625 30.796875 5.40625 \nQ 39.40625 5.40625 44.703125 10.40625 \nQ 50.296875 15.5 50.296875 22.203125 \nQ 50.296875 29.203125 44.40625 32.796875 \nQ 39.296875 36 30.703125 36 \nL 15.5 36 \nL 15.5 42.203125 \nL 25.90625 42.203125 \nQ 35.90625 42.203125 41.59375 45.75 \nQ 47.296875 49.296875 47.296875 56 \nQ 47.296875 61.5 43 65.203125 \nQ 38.40625 69.203125 30.90625 69.203125 \nQ 27.90625 69.203125 24.953125 68.640625 \nQ 22 68.09375 19.09375 66.90625 \nQ 13.90625 64.703125 8.296875 60.5 \nL 8.296875 69.09375 \nQ 11.5 70.796875 14.25 72 \nQ 17 73.203125 19.59375 74 \nQ 25.40625 75.90625 31.59375 75.90625 \nQ 41.40625 75.90625 47.90625 70.796875 \nQ 54.5 65.796875 54.5 56.90625 \nQ 54.5 49.5 49.5 44.703125 \nQ 46.5 41.796875 41.296875 39.90625 \nQ 44.90625 39.40625 47.703125 38.25 \nQ 50.5 37.09375 52.59375 35.40625 \nQ 58.09375 30.796875 58.09375 22.40625 \nQ 58.09375 12.703125 50.296875 5.703125 \nQ 42.40625 -1.296875 30.703125 -1.296875 \nQ 24.203125 -1.296875 17.59375 1.09375 \nQ 16 1.59375 13.75 2.59375 \nQ 11.5 3.59375 8.59375 5.203125 \nz\n\" id=\"AppleGothic-51\"/>\n      </defs>\n      <g transform=\"translate(62.003125 385.494906)scale(0.1 -0.1)\">\n       <use xlink:href=\"#AppleGothic-116\"/>\n       <use x=\"34.199997\" xlink:href=\"#AppleGothic-71\"/>\n       <use x=\"108.599991\" xlink:href=\"#AppleGothic-114\"/>\n       <use x=\"143.799988\" xlink:href=\"#AppleGothic-97\"/>\n       <use x=\"200.299973\" xlink:href=\"#AppleGothic-118\"/>\n       <use x=\"254.499969\" xlink:href=\"#AppleGothic-105\"/>\n       <use x=\"270.399963\" xlink:href=\"#AppleGothic-116\"/>\n       <use x=\"304.59996\" xlink:href=\"#AppleGothic-121\"/>\n       <use x=\"360.299957\" xlink:href=\"#AppleGothic-65\"/>\n       <use x=\"432.899948\" xlink:href=\"#AppleGothic-99\"/>\n       <use x=\"484.799942\" xlink:href=\"#AppleGothic-99\"/>\n       <use x=\"536.699936\" xlink:href=\"#AppleGothic-45\"/>\n       <use x=\"586.699921\" xlink:href=\"#AppleGothic-97\"/>\n       <use x=\"643.199905\" xlink:href=\"#AppleGothic-114\"/>\n       <use x=\"678.399902\" xlink:href=\"#AppleGothic-67\"/>\n       <use x=\"746.899887\" xlink:href=\"#AppleGothic-111\"/>\n       <use x=\"805.199875\" xlink:href=\"#AppleGothic-101\"/>\n       <use x=\"860.099869\" xlink:href=\"#AppleGothic-102\"/>\n       <use x=\"894.099854\" xlink:href=\"#AppleGothic-102\"/>\n       <use x=\"928.099838\" xlink:href=\"#AppleGothic-40\"/>\n       <use x=\"978.099823\" xlink:href=\"#AppleGothic-41\"/>\n       <use x=\"1028.099808\" xlink:href=\"#AppleGothic-45\"/>\n       <use x=\"1078.099792\" xlink:href=\"#AppleGothic-88\"/>\n       <use x=\"1149.39978\" xlink:href=\"#AppleGothic-44\"/>\n       <use x=\"1177.699768\" xlink:href=\"#AppleGothic-51\"/>\n      </g>\n     </g>\n    </g>\n    <g id=\"ytick_18\">\n     <g id=\"line2d_24\">\n      <g>\n       <use style=\"stroke:#000000;stroke-width:0.8;\" x=\"193.576563\" xlink:href=\"#m0d0a1cb3b5\" y=\"403.12875\"/>\n      </g>\n     </g>\n     <g id=\"text_25\">\n      <!-- tGravityAcc-min()-Y -->\n      <g transform=\"translate(89.842188 407.238906)scale(0.1 -0.1)\">\n       <use xlink:href=\"#AppleGothic-116\"/>\n       <use x=\"34.199997\" xlink:href=\"#AppleGothic-71\"/>\n       <use x=\"108.599991\" xlink:href=\"#AppleGothic-114\"/>\n       <use x=\"143.799988\" xlink:href=\"#AppleGothic-97\"/>\n       <use x=\"200.299973\" xlink:href=\"#AppleGothic-118\"/>\n       <use x=\"254.499969\" xlink:href=\"#AppleGothic-105\"/>\n       <use x=\"270.399963\" xlink:href=\"#AppleGothic-116\"/>\n       <use x=\"304.59996\" xlink:href=\"#AppleGothic-121\"/>\n       <use x=\"360.299957\" xlink:href=\"#AppleGothic-65\"/>\n       <use x=\"432.899948\" xlink:href=\"#AppleGothic-99\"/>\n       <use x=\"484.799942\" xlink:href=\"#AppleGothic-99\"/>\n       <use x=\"536.699936\" xlink:href=\"#AppleGothic-45\"/>\n       <use x=\"586.699921\" xlink:href=\"#AppleGothic-109\"/>\n       <use x=\"675.999908\" xlink:href=\"#AppleGothic-105\"/>\n       <use x=\"691.899902\" xlink:href=\"#AppleGothic-110\"/>\n       <use x=\"747.799896\" xlink:href=\"#AppleGothic-40\"/>\n       <use x=\"797.799881\" xlink:href=\"#AppleGothic-41\"/>\n       <use x=\"847.799866\" xlink:href=\"#AppleGothic-45\"/>\n       <use x=\"897.79985\" xlink:href=\"#AppleGothic-89\"/>\n      </g>\n     </g>\n    </g>\n    <g id=\"ytick_19\">\n     <g id=\"line2d_25\">\n      <g>\n       <use style=\"stroke:#000000;stroke-width:0.8;\" x=\"193.576563\" xlink:href=\"#m0d0a1cb3b5\" y=\"424.87275\"/>\n      </g>\n     </g>\n     <g id=\"text_26\">\n      <!-- tBodyAccJerk-correlation()-X,Y -->\n      <g transform=\"translate(38.560938 428.982906)scale(0.1 -0.1)\">\n       <use xlink:href=\"#AppleGothic-116\"/>\n       <use x=\"34.199997\" xlink:href=\"#AppleGothic-66\"/>\n       <use x=\"98.599991\" xlink:href=\"#AppleGothic-111\"/>\n       <use x=\"156.899979\" xlink:href=\"#AppleGothic-100\"/>\n       <use x=\"210.899963\" xlink:href=\"#AppleGothic-121\"/>\n       <use x=\"266.59996\" xlink:href=\"#AppleGothic-65\"/>\n       <use x=\"339.199951\" xlink:href=\"#AppleGothic-99\"/>\n       <use x=\"391.099945\" xlink:href=\"#AppleGothic-99\"/>\n       <use x=\"442.999939\" xlink:href=\"#AppleGothic-74\"/>\n       <use x=\"496.499924\" xlink:href=\"#AppleGothic-101\"/>\n       <use x=\"551.399918\" xlink:href=\"#AppleGothic-114\"/>\n       <use x=\"586.599915\" xlink:href=\"#AppleGothic-107\"/>\n       <use x=\"637.999908\" xlink:href=\"#AppleGothic-45\"/>\n       <use x=\"687.999893\" xlink:href=\"#AppleGothic-99\"/>\n       <use x=\"739.899887\" xlink:href=\"#AppleGothic-111\"/>\n       <use x=\"798.199875\" xlink:href=\"#AppleGothic-114\"/>\n       <use x=\"833.399872\" xlink:href=\"#AppleGothic-114\"/>\n       <use x=\"868.599869\" xlink:href=\"#AppleGothic-101\"/>\n       <use x=\"923.499863\" xlink:href=\"#AppleGothic-108\"/>\n       <use x=\"940.19986\" xlink:href=\"#AppleGothic-97\"/>\n       <use x=\"996.699844\" xlink:href=\"#AppleGothic-116\"/>\n       <use x=\"1030.899841\" xlink:href=\"#AppleGothic-105\"/>\n       <use x=\"1046.799835\" xlink:href=\"#AppleGothic-111\"/>\n       <use x=\"1105.099823\" xlink:href=\"#AppleGothic-110\"/>\n       <use x=\"1160.999817\" xlink:href=\"#AppleGothic-40\"/>\n       <use x=\"1210.999802\" xlink:href=\"#AppleGothic-41\"/>\n       <use x=\"1260.999786\" xlink:href=\"#AppleGothic-45\"/>\n       <use x=\"1310.999771\" xlink:href=\"#AppleGothic-88\"/>\n       <use x=\"1382.299759\" xlink:href=\"#AppleGothic-44\"/>\n       <use x=\"1410.599747\" xlink:href=\"#AppleGothic-89\"/>\n      </g>\n     </g>\n    </g>\n    <g id=\"ytick_20\">\n     <g id=\"line2d_26\">\n      <g>\n       <use style=\"stroke:#000000;stroke-width:0.8;\" x=\"193.576563\" xlink:href=\"#m0d0a1cb3b5\" y=\"446.61675\"/>\n      </g>\n     </g>\n     <g id=\"text_27\">\n      <!-- tBodyGyroJerk-max()-X -->\n      <g transform=\"translate(70.903125 450.726906)scale(0.1 -0.1)\">\n       <use xlink:href=\"#AppleGothic-116\"/>\n       <use x=\"34.199997\" xlink:href=\"#AppleGothic-66\"/>\n       <use x=\"98.599991\" xlink:href=\"#AppleGothic-111\"/>\n       <use x=\"156.899979\" xlink:href=\"#AppleGothic-100\"/>\n       <use x=\"210.899963\" xlink:href=\"#AppleGothic-121\"/>\n       <use x=\"266.59996\" xlink:href=\"#AppleGothic-71\"/>\n       <use x=\"340.999954\" xlink:href=\"#AppleGothic-121\"/>\n       <use x=\"396.699951\" xlink:href=\"#AppleGothic-114\"/>\n       <use x=\"431.899948\" xlink:href=\"#AppleGothic-111\"/>\n       <use x=\"490.199936\" xlink:href=\"#AppleGothic-74\"/>\n       <use x=\"543.699921\" xlink:href=\"#AppleGothic-101\"/>\n       <use x=\"598.599915\" xlink:href=\"#AppleGothic-114\"/>\n       <use x=\"633.799911\" xlink:href=\"#AppleGothic-107\"/>\n       <use x=\"685.199905\" xlink:href=\"#AppleGothic-45\"/>\n       <use x=\"735.19989\" xlink:href=\"#AppleGothic-109\"/>\n       <use x=\"824.499878\" xlink:href=\"#AppleGothic-97\"/>\n       <use x=\"880.999863\" xlink:href=\"#AppleGothic-120\"/>\n       <use x=\"935.399857\" xlink:href=\"#AppleGothic-40\"/>\n       <use x=\"985.399841\" xlink:href=\"#AppleGothic-41\"/>\n       <use x=\"1035.399826\" xlink:href=\"#AppleGothic-45\"/>\n       <use x=\"1085.399811\" xlink:href=\"#AppleGothic-88\"/>\n      </g>\n     </g>\n    </g>\n    <g id=\"text_28\">\n     <!-- col_name -->\n     <g transform=\"translate(15.040625 261.724531)rotate(-90)scale(0.1 -0.1)\">\n      <use xlink:href=\"#AppleGothic-99\"/>\n      <use x=\"51.899994\" xlink:href=\"#AppleGothic-111\"/>\n      <use x=\"110.199982\" xlink:href=\"#AppleGothic-108\"/>\n      <use x=\"126.899979\" xlink:href=\"#AppleGothic-95\"/>\n      <use x=\"176.899963\" xlink:href=\"#AppleGothic-110\"/>\n      <use x=\"232.799957\" xlink:href=\"#AppleGothic-97\"/>\n      <use x=\"289.299942\" xlink:href=\"#AppleGothic-109\"/>\n      <use x=\"378.59993\" xlink:href=\"#AppleGothic-101\"/>\n     </g>\n    </g>\n   </g>\n   <g id=\"line2d_27\">\n    <path clip-path=\"url(#p47b6166c3b)\" d=\"M 0 0 \n\" style=\"fill:none;stroke:#424242;stroke-linecap:square;stroke-width:2.7;\"/>\n   </g>\n   <g id=\"line2d_28\">\n    <path clip-path=\"url(#p47b6166c3b)\" d=\"M 0 0 \n\" style=\"fill:none;stroke:#424242;stroke-linecap:square;stroke-width:2.7;\"/>\n   </g>\n   <g id=\"line2d_29\">\n    <path clip-path=\"url(#p47b6166c3b)\" d=\"M 0 0 \n\" style=\"fill:none;stroke:#424242;stroke-linecap:square;stroke-width:2.7;\"/>\n   </g>\n   <g id=\"line2d_30\">\n    <path clip-path=\"url(#p47b6166c3b)\" d=\"M 0 0 \n\" style=\"fill:none;stroke:#424242;stroke-linecap:square;stroke-width:2.7;\"/>\n   </g>\n   <g id=\"line2d_31\">\n    <path clip-path=\"url(#p47b6166c3b)\" d=\"M 0 0 \n\" style=\"fill:none;stroke:#424242;stroke-linecap:square;stroke-width:2.7;\"/>\n   </g>\n   <g id=\"line2d_32\">\n    <path clip-path=\"url(#p47b6166c3b)\" d=\"M 0 0 \n\" style=\"fill:none;stroke:#424242;stroke-linecap:square;stroke-width:2.7;\"/>\n   </g>\n   <g id=\"line2d_33\">\n    <path clip-path=\"url(#p47b6166c3b)\" d=\"M 0 0 \n\" style=\"fill:none;stroke:#424242;stroke-linecap:square;stroke-width:2.7;\"/>\n   </g>\n   <g id=\"line2d_34\">\n    <path clip-path=\"url(#p47b6166c3b)\" d=\"M 0 0 \n\" style=\"fill:none;stroke:#424242;stroke-linecap:square;stroke-width:2.7;\"/>\n   </g>\n   <g id=\"line2d_35\">\n    <path clip-path=\"url(#p47b6166c3b)\" d=\"M 0 0 \n\" style=\"fill:none;stroke:#424242;stroke-linecap:square;stroke-width:2.7;\"/>\n   </g>\n   <g id=\"line2d_36\">\n    <path clip-path=\"url(#p47b6166c3b)\" d=\"M 0 0 \n\" style=\"fill:none;stroke:#424242;stroke-linecap:square;stroke-width:2.7;\"/>\n   </g>\n   <g id=\"line2d_37\">\n    <path clip-path=\"url(#p47b6166c3b)\" d=\"M 0 0 \n\" style=\"fill:none;stroke:#424242;stroke-linecap:square;stroke-width:2.7;\"/>\n   </g>\n   <g id=\"line2d_38\">\n    <path clip-path=\"url(#p47b6166c3b)\" d=\"M 0 0 \n\" style=\"fill:none;stroke:#424242;stroke-linecap:square;stroke-width:2.7;\"/>\n   </g>\n   <g id=\"line2d_39\">\n    <path clip-path=\"url(#p47b6166c3b)\" d=\"M 0 0 \n\" style=\"fill:none;stroke:#424242;stroke-linecap:square;stroke-width:2.7;\"/>\n   </g>\n   <g id=\"line2d_40\">\n    <path clip-path=\"url(#p47b6166c3b)\" d=\"M 0 0 \n\" style=\"fill:none;stroke:#424242;stroke-linecap:square;stroke-width:2.7;\"/>\n   </g>\n   <g id=\"line2d_41\">\n    <path clip-path=\"url(#p47b6166c3b)\" d=\"M 0 0 \n\" style=\"fill:none;stroke:#424242;stroke-linecap:square;stroke-width:2.7;\"/>\n   </g>\n   <g id=\"line2d_42\">\n    <path clip-path=\"url(#p47b6166c3b)\" d=\"M 0 0 \n\" style=\"fill:none;stroke:#424242;stroke-linecap:square;stroke-width:2.7;\"/>\n   </g>\n   <g id=\"line2d_43\">\n    <path clip-path=\"url(#p47b6166c3b)\" d=\"M 0 0 \n\" style=\"fill:none;stroke:#424242;stroke-linecap:square;stroke-width:2.7;\"/>\n   </g>\n   <g id=\"line2d_44\">\n    <path clip-path=\"url(#p47b6166c3b)\" d=\"M 0 0 \n\" style=\"fill:none;stroke:#424242;stroke-linecap:square;stroke-width:2.7;\"/>\n   </g>\n   <g id=\"line2d_45\">\n    <path clip-path=\"url(#p47b6166c3b)\" d=\"M 0 0 \n\" style=\"fill:none;stroke:#424242;stroke-linecap:square;stroke-width:2.7;\"/>\n   </g>\n   <g id=\"line2d_46\">\n    <path clip-path=\"url(#p47b6166c3b)\" d=\"M 0 0 \n\" style=\"fill:none;stroke:#424242;stroke-linecap:square;stroke-width:2.7;\"/>\n   </g>\n   <g id=\"patch_23\">\n    <path d=\"M 193.576563 457.48875 \nL 193.576563 22.60875 \n\" style=\"fill:none;stroke:#000000;stroke-linecap:square;stroke-linejoin:miter;stroke-width:0.8;\"/>\n   </g>\n   <g id=\"patch_24\">\n    <path d=\"M 751.576563 457.48875 \nL 751.576563 22.60875 \n\" style=\"fill:none;stroke:#000000;stroke-linecap:square;stroke-linejoin:miter;stroke-width:0.8;\"/>\n   </g>\n   <g id=\"patch_25\">\n    <path d=\"M 193.576563 457.48875 \nL 751.576563 457.48875 \n\" style=\"fill:none;stroke:#000000;stroke-linecap:square;stroke-linejoin:miter;stroke-width:0.8;\"/>\n   </g>\n   <g id=\"patch_26\">\n    <path d=\"M 193.576563 22.60875 \nL 751.576563 22.60875 \n\" style=\"fill:none;stroke:#000000;stroke-linecap:square;stroke-linejoin:miter;stroke-width:0.8;\"/>\n   </g>\n   <g id=\"text_29\">\n    <!-- Feature Importance Top 20 -->\n    <defs>\n     <path d=\"M 5.296875 78.40625 \nL 54.09375 78.40625 \nL 54.09375 71.5 \nL 13.203125 71.5 \nL 13.203125 42.40625 \nL 52.40625 42.40625 \nL 52.40625 36 \nL 13.203125 36 \nL 13.203125 0 \nL 5.296875 0 \nz\n\" id=\"AppleGothic-70\"/>\n     <path id=\"AppleGothic-32\"/>\n     <path d=\"M 2.59375 78.40625 \nL 63.09375 78.40625 \nL 63.09375 71.5 \nL 36.796875 71.5 \nL 36.796875 0 \nL 29 0 \nL 29 71.5 \nL 2.59375 71.5 \nz\n\" id=\"AppleGothic-84\"/>\n    </defs>\n    <g transform=\"translate(396.115938 16.60875)scale(0.12 -0.12)\">\n     <use xlink:href=\"#AppleGothic-70\"/>\n     <use x=\"58.199997\" xlink:href=\"#AppleGothic-101\"/>\n     <use x=\"113.099991\" xlink:href=\"#AppleGothic-97\"/>\n     <use x=\"169.599976\" xlink:href=\"#AppleGothic-116\"/>\n     <use x=\"203.799973\" xlink:href=\"#AppleGothic-117\"/>\n     <use x=\"259.299957\" xlink:href=\"#AppleGothic-114\"/>\n     <use x=\"294.499954\" xlink:href=\"#AppleGothic-101\"/>\n     <use x=\"349.399948\" xlink:href=\"#AppleGothic-32\"/>\n     <use x=\"381.399933\" xlink:href=\"#AppleGothic-73\"/>\n     <use x=\"402.899918\" xlink:href=\"#AppleGothic-109\"/>\n     <use x=\"492.199905\" xlink:href=\"#AppleGothic-112\"/>\n     <use x=\"547.599899\" xlink:href=\"#AppleGothic-111\"/>\n     <use x=\"605.899887\" xlink:href=\"#AppleGothic-114\"/>\n     <use x=\"641.099884\" xlink:href=\"#AppleGothic-116\"/>\n     <use x=\"675.299881\" xlink:href=\"#AppleGothic-97\"/>\n     <use x=\"731.799866\" xlink:href=\"#AppleGothic-110\"/>\n     <use x=\"787.69986\" xlink:href=\"#AppleGothic-99\"/>\n     <use x=\"839.599854\" xlink:href=\"#AppleGothic-101\"/>\n     <use x=\"894.499847\" xlink:href=\"#AppleGothic-32\"/>\n     <use x=\"926.499832\" xlink:href=\"#AppleGothic-84\"/>\n     <use x=\"992.599823\" xlink:href=\"#AppleGothic-111\"/>\n     <use x=\"1050.899811\" xlink:href=\"#AppleGothic-112\"/>\n     <use x=\"1106.299805\" xlink:href=\"#AppleGothic-32\"/>\n     <use x=\"1138.299789\" xlink:href=\"#AppleGothic-50\"/>\n     <use x=\"1206.299774\" xlink:href=\"#AppleGothic-48\"/>\n    </g>\n   </g>\n  </g>\n </g>\n <defs>\n  <clipPath id=\"p47b6166c3b\">\n   <rect height=\"434.88\" width=\"558\" x=\"193.576563\" y=\"22.60875\"/>\n  </clipPath>\n </defs>\n</svg>\n",
      "image/png": "[encoded data removed]"
     },
     "metadata": {
      "needs_background": "light"
     }
    }
   ],
   "source": [
    "plt.figure(figsize=(10,8))\n",
    "sns.barplot(y=\"col_name\", x=\"feature_importance_\", data=new_feature_df_sort[:20])\n",
    "plt.title(\"Feature Importance Top 20\")\n",
    "plt.show()"
   ]
  },
  {
   "source": [
    "### GridSearchCV 이용해서 교차검증, 최적 하이퍼 파라미터 튜닝을 한번에"
   ],
   "cell_type": "markdown",
   "metadata": {}
  },
  {
   "cell_type": "code",
   "execution_count": 80,
   "metadata": {},
   "outputs": [],
   "source": [
    "# 1차 시도\n",
    "parameters = {\n",
    "    'max_depth':[10,20,30,40],\n",
    "    'min_samples_split':[5,10,15,20,25]\n",
    "}"
   ]
  },
  {
   "cell_type": "code",
   "execution_count": 81,
   "metadata": {},
   "outputs": [],
   "source": [
    "grid_dtree = GridSearchCV(dt_clf, param_grid=parameters, cv=5, scoring='accuracy', verbose=1)"
   ]
  },
  {
   "cell_type": "code",
   "execution_count": 82,
   "metadata": {},
   "outputs": [
    {
     "output_type": "stream",
     "name": "stdout",
     "text": [
      "Fitting 5 folds for each of 20 candidates, totalling 100 fits\n",
      "[Parallel(n_jobs=1)]: Using backend SequentialBackend with 1 concurrent workers.\n",
      "[Parallel(n_jobs=1)]: Done 100 out of 100 | elapsed:  8.2min finished\n"
     ]
    },
    {
     "output_type": "execute_result",
     "data": {
      "text/plain": [
       "GridSearchCV(cv=5, estimator=DecisionTreeClassifier(random_state=2021),\n",
       "             param_grid={'max_depth': [10, 20, 30, 40],\n",
       "                         'min_samples_split': [5, 10, 15, 20, 25]},\n",
       "             scoring='accuracy', verbose=1)"
      ]
     },
     "metadata": {},
     "execution_count": 82
    }
   ],
   "source": [
    "grid_dtree.fit(X_train,y_train)"
   ]
  },
  {
   "cell_type": "code",
   "execution_count": 83,
   "metadata": {},
   "outputs": [
    {
     "output_type": "execute_result",
     "data": {
      "text/plain": [
       "{'max_depth': 10, 'min_samples_split': 15}"
      ]
     },
     "metadata": {},
     "execution_count": 83
    }
   ],
   "source": [
    "grid_dtree.best_params_"
   ]
  },
  {
   "cell_type": "code",
   "execution_count": 84,
   "metadata": {},
   "outputs": [
    {
     "output_type": "execute_result",
     "data": {
      "text/plain": [
       "0.8484888340108305"
      ]
     },
     "metadata": {},
     "execution_count": 84
    }
   ],
   "source": [
    "grid_dtree.best_score_"
   ]
  },
  {
   "cell_type": "code",
   "execution_count": 85,
   "metadata": {},
   "outputs": [
    {
     "output_type": "execute_result",
     "data": {
      "text/plain": [
       "   param_max_depth  mean_test_score\n",
       "0               10         0.847399\n",
       "1               10         0.845357\n",
       "2               10         0.848489\n",
       "3               10         0.843317\n",
       "4               10         0.847805\n",
       "5               20         0.839374\n",
       "6               20         0.841413\n",
       "7               20         0.846174\n",
       "8               20         0.844270\n",
       "9               20         0.846583\n",
       "10              30         0.841006\n",
       "11              30         0.841413\n",
       "12              30         0.846174\n",
       "13              30         0.844270\n",
       "14              30         0.846583\n",
       "15              40         0.841006\n",
       "16              40         0.841413\n",
       "17              40         0.846174\n",
       "18              40         0.844270\n",
       "19              40         0.846583"
      ],
      "text/html": "<div>\n<style scoped>\n    .dataframe tbody tr th:only-of-type {\n        vertical-align: middle;\n    }\n\n    .dataframe tbody tr th {\n        vertical-align: top;\n    }\n\n    .dataframe thead th {\n        text-align: right;\n    }\n</style>\n<table border=\"1\" class=\"dataframe\">\n  <thead>\n    <tr style=\"text-align: right;\">\n      <th></th>\n      <th>param_max_depth</th>\n      <th>mean_test_score</th>\n    </tr>\n  </thead>\n  <tbody>\n    <tr>\n      <th>0</th>\n      <td>10</td>\n      <td>0.847399</td>\n    </tr>\n    <tr>\n      <th>1</th>\n      <td>10</td>\n      <td>0.845357</td>\n    </tr>\n    <tr>\n      <th>2</th>\n      <td>10</td>\n      <td>0.848489</td>\n    </tr>\n    <tr>\n      <th>3</th>\n      <td>10</td>\n      <td>0.843317</td>\n    </tr>\n    <tr>\n      <th>4</th>\n      <td>10</td>\n      <td>0.847805</td>\n    </tr>\n    <tr>\n      <th>5</th>\n      <td>20</td>\n      <td>0.839374</td>\n    </tr>\n    <tr>\n      <th>6</th>\n      <td>20</td>\n      <td>0.841413</td>\n    </tr>\n    <tr>\n      <th>7</th>\n      <td>20</td>\n      <td>0.846174</td>\n    </tr>\n    <tr>\n      <th>8</th>\n      <td>20</td>\n      <td>0.844270</td>\n    </tr>\n    <tr>\n      <th>9</th>\n      <td>20</td>\n      <td>0.846583</td>\n    </tr>\n    <tr>\n      <th>10</th>\n      <td>30</td>\n      <td>0.841006</td>\n    </tr>\n    <tr>\n      <th>11</th>\n      <td>30</td>\n      <td>0.841413</td>\n    </tr>\n    <tr>\n      <th>12</th>\n      <td>30</td>\n      <td>0.846174</td>\n    </tr>\n    <tr>\n      <th>13</th>\n      <td>30</td>\n      <td>0.844270</td>\n    </tr>\n    <tr>\n      <th>14</th>\n      <td>30</td>\n      <td>0.846583</td>\n    </tr>\n    <tr>\n      <th>15</th>\n      <td>40</td>\n      <td>0.841006</td>\n    </tr>\n    <tr>\n      <th>16</th>\n      <td>40</td>\n      <td>0.841413</td>\n    </tr>\n    <tr>\n      <th>17</th>\n      <td>40</td>\n      <td>0.846174</td>\n    </tr>\n    <tr>\n      <th>18</th>\n      <td>40</td>\n      <td>0.844270</td>\n    </tr>\n    <tr>\n      <th>19</th>\n      <td>40</td>\n      <td>0.846583</td>\n    </tr>\n  </tbody>\n</table>\n</div>"
     },
     "metadata": {},
     "execution_count": 85
    }
   ],
   "source": [
    "df = pd.DataFrame(grid_dtree.cv_results_)\n",
    "df = df[['param_max_depth', 'mean_test_score']]\n",
    "df"
   ]
  },
  {
   "cell_type": "code",
   "execution_count": 86,
   "metadata": {},
   "outputs": [
    {
     "output_type": "stream",
     "name": "stdout",
     "text": [
      "Fitting 5 folds for each of 25 candidates, totalling 125 fits\n",
      "[Parallel(n_jobs=1)]: Using backend SequentialBackend with 1 concurrent workers.\n",
      "[Parallel(n_jobs=1)]: Done 125 out of 125 | elapsed:  7.7min finished\n"
     ]
    },
    {
     "output_type": "execute_result",
     "data": {
      "text/plain": [
       "GridSearchCV(cv=5, estimator=DecisionTreeClassifier(random_state=2021),\n",
       "             param_grid={'max_depth': [2, 4, 6, 8, 10],\n",
       "                         'min_samples_split': [13, 14, 15, 16, 17]},\n",
       "             scoring='accuracy', verbose=1)"
      ]
     },
     "metadata": {},
     "execution_count": 86
    }
   ],
   "source": [
    "# 2차 시도\n",
    "parameters = {\n",
    "    'max_depth':[2,4,6,8,10],\n",
    "    'min_samples_split':[13,14,15,16,17]\n",
    "}\n",
    "grid_dtree = GridSearchCV(dt_clf, param_grid=parameters, cv=5, scoring='accuracy', verbose=1)\n",
    "grid_dtree.fit(X_train,y_train)"
   ]
  },
  {
   "cell_type": "code",
   "execution_count": 87,
   "metadata": {},
   "outputs": [
    {
     "output_type": "execute_result",
     "data": {
      "text/plain": [
       "{'max_depth': 8, 'min_samples_split': 15}"
      ]
     },
     "metadata": {},
     "execution_count": 87
    }
   ],
   "source": [
    "grid_dtree.best_params_"
   ]
  },
  {
   "cell_type": "code",
   "execution_count": 88,
   "metadata": {},
   "outputs": [
    {
     "output_type": "execute_result",
     "data": {
      "text/plain": [
       "   param_max_depth  mean_test_score\n",
       "0                2         0.544614\n",
       "1                2         0.544614\n",
       "2                2         0.544614\n",
       "3                2         0.544614\n",
       "4                2         0.544614\n",
       "5                4         0.838553\n",
       "6                4         0.838553\n",
       "7                4         0.838553\n",
       "8                4         0.838553\n",
       "9                4         0.838553\n",
       "10               6         0.845622\n",
       "11               6         0.845350\n",
       "12               6         0.845758\n",
       "13               6         0.845758\n",
       "14               6         0.845758\n",
       "15               8         0.852294\n",
       "16               8         0.852158\n",
       "17               8         0.852838\n",
       "18               8         0.852702\n",
       "19               8         0.850389\n",
       "20              10         0.845088\n",
       "21              10         0.847945\n",
       "22              10         0.848489\n",
       "23              10         0.842367\n",
       "24              10         0.847398"
      ],
      "text/html": "<div>\n<style scoped>\n    .dataframe tbody tr th:only-of-type {\n        vertical-align: middle;\n    }\n\n    .dataframe tbody tr th {\n        vertical-align: top;\n    }\n\n    .dataframe thead th {\n        text-align: right;\n    }\n</style>\n<table border=\"1\" class=\"dataframe\">\n  <thead>\n    <tr style=\"text-align: right;\">\n      <th></th>\n      <th>param_max_depth</th>\n      <th>mean_test_score</th>\n    </tr>\n  </thead>\n  <tbody>\n    <tr>\n      <th>0</th>\n      <td>2</td>\n      <td>0.544614</td>\n    </tr>\n    <tr>\n      <th>1</th>\n      <td>2</td>\n      <td>0.544614</td>\n    </tr>\n    <tr>\n      <th>2</th>\n      <td>2</td>\n      <td>0.544614</td>\n    </tr>\n    <tr>\n      <th>3</th>\n      <td>2</td>\n      <td>0.544614</td>\n    </tr>\n    <tr>\n      <th>4</th>\n      <td>2</td>\n      <td>0.544614</td>\n    </tr>\n    <tr>\n      <th>5</th>\n      <td>4</td>\n      <td>0.838553</td>\n    </tr>\n    <tr>\n      <th>6</th>\n      <td>4</td>\n      <td>0.838553</td>\n    </tr>\n    <tr>\n      <th>7</th>\n      <td>4</td>\n      <td>0.838553</td>\n    </tr>\n    <tr>\n      <th>8</th>\n      <td>4</td>\n      <td>0.838553</td>\n    </tr>\n    <tr>\n      <th>9</th>\n      <td>4</td>\n      <td>0.838553</td>\n    </tr>\n    <tr>\n      <th>10</th>\n      <td>6</td>\n      <td>0.845622</td>\n    </tr>\n    <tr>\n      <th>11</th>\n      <td>6</td>\n      <td>0.845350</td>\n    </tr>\n    <tr>\n      <th>12</th>\n      <td>6</td>\n      <td>0.845758</td>\n    </tr>\n    <tr>\n      <th>13</th>\n      <td>6</td>\n      <td>0.845758</td>\n    </tr>\n    <tr>\n      <th>14</th>\n      <td>6</td>\n      <td>0.845758</td>\n    </tr>\n    <tr>\n      <th>15</th>\n      <td>8</td>\n      <td>0.852294</td>\n    </tr>\n    <tr>\n      <th>16</th>\n      <td>8</td>\n      <td>0.852158</td>\n    </tr>\n    <tr>\n      <th>17</th>\n      <td>8</td>\n      <td>0.852838</td>\n    </tr>\n    <tr>\n      <th>18</th>\n      <td>8</td>\n      <td>0.852702</td>\n    </tr>\n    <tr>\n      <th>19</th>\n      <td>8</td>\n      <td>0.850389</td>\n    </tr>\n    <tr>\n      <th>20</th>\n      <td>10</td>\n      <td>0.845088</td>\n    </tr>\n    <tr>\n      <th>21</th>\n      <td>10</td>\n      <td>0.847945</td>\n    </tr>\n    <tr>\n      <th>22</th>\n      <td>10</td>\n      <td>0.848489</td>\n    </tr>\n    <tr>\n      <th>23</th>\n      <td>10</td>\n      <td>0.842367</td>\n    </tr>\n    <tr>\n      <th>24</th>\n      <td>10</td>\n      <td>0.847398</td>\n    </tr>\n  </tbody>\n</table>\n</div>"
     },
     "metadata": {},
     "execution_count": 88
    }
   ],
   "source": [
    "df = pd.DataFrame(grid_dtree.cv_results_)\n",
    "df = df[['param_max_depth', 'mean_test_score']]\n",
    "df"
   ]
  },
  {
   "cell_type": "code",
   "execution_count": 89,
   "metadata": {},
   "outputs": [
    {
     "output_type": "stream",
     "name": "stdout",
     "text": [
      "Fitting 5 folds for each of 9 candidates, totalling 45 fits\n",
      "[Parallel(n_jobs=1)]: Using backend SequentialBackend with 1 concurrent workers.\n",
      "[Parallel(n_jobs=1)]: Done  45 out of  45 | elapsed:  5.3min finished\n"
     ]
    },
    {
     "output_type": "execute_result",
     "data": {
      "text/plain": [
       "GridSearchCV(cv=5, estimator=DecisionTreeClassifier(random_state=2021),\n",
       "             param_grid={'max_depth': [7, 8, 9],\n",
       "                         'min_samples_split': [14, 15, 16]},\n",
       "             scoring='accuracy', verbose=1)"
      ]
     },
     "metadata": {},
     "execution_count": 89
    }
   ],
   "source": [
    "# 3차 시도\n",
    "parameters = {\n",
    "    'max_depth':[7,8,9],\n",
    "    'min_samples_split':[14,15,16]\n",
    "}\n",
    "grid_dtree = GridSearchCV(dt_clf, param_grid=parameters, cv=5, scoring='accuracy', verbose=1)\n",
    "grid_dtree.fit(X_train,y_train)"
   ]
  },
  {
   "cell_type": "code",
   "execution_count": 90,
   "metadata": {},
   "outputs": [
    {
     "output_type": "execute_result",
     "data": {
      "text/plain": [
       "{'max_depth': 8, 'min_samples_split': 15}"
      ]
     },
     "metadata": {},
     "execution_count": 90
    }
   ],
   "source": [
    "grid_dtree.best_params_"
   ]
  },
  {
   "cell_type": "code",
   "execution_count": 91,
   "metadata": {},
   "outputs": [
    {
     "output_type": "execute_result",
     "data": {
      "text/plain": [
       "0.8528375809875275"
      ]
     },
     "metadata": {},
     "execution_count": 91
    }
   ],
   "source": [
    "grid_dtree.best_score_"
   ]
  },
  {
   "cell_type": "code",
   "execution_count": 65,
   "metadata": {},
   "outputs": [
    {
     "output_type": "execute_result",
     "data": {
      "text/plain": [
       "{'max_depth': 4, 'min_samples_split': 1350}"
      ]
     },
     "metadata": {},
     "execution_count": 65
    }
   ],
   "source": [
    "grid_dtree.best_params_"
   ]
  }
 ]
}
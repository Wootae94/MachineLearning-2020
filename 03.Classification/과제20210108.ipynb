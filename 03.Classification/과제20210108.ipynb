{
 "metadata": {
  "language_info": {
   "codemirror_mode": {
    "name": "ipython",
    "version": 3
   },
   "file_extension": ".py",
   "mimetype": "text/x-python",
   "name": "python",
   "nbconvert_exporter": "python",
   "pygments_lexer": "ipython3",
   "version": "3.8.3-final"
  },
  "orig_nbformat": 2,
  "kernelspec": {
   "name": "python3",
   "display_name": "Python 3",
   "language": "python"
  }
 },
 "nbformat": 4,
 "nbformat_minor": 2,
 "cells": [
  {
   "source": [
    "# 분류 알고리즘 정확도 경진대회"
   ],
   "cell_type": "markdown",
   "metadata": {}
  },
  {
   "source": [
    "#### load_digits, load_breast_cancer\n",
    "- test_size = 0.2, random_state = 2021"
   ],
   "cell_type": "markdown",
   "metadata": {}
  },
  {
   "cell_type": "code",
   "execution_count": 1,
   "metadata": {},
   "outputs": [],
   "source": [
    "from sklearn.datasets import load_digits\n",
    "from sklearn.datasets import load_breast_cancer\n",
    "digits = load_digits()\n",
    "cancer = load_breast_cancer()"
   ]
  },
  {
   "cell_type": "code",
   "execution_count": 2,
   "metadata": {},
   "outputs": [],
   "source": [
    "from sklearn.linear_model import LogisticRegression\n",
    "from sklearn.svm import SVC\n",
    "from sklearn.neighbors import KNeighborsClassifier\n",
    "\n",
    "lr = LogisticRegression()\n",
    "svc = SVC()\n",
    "knn = KNeighborsClassifier()"
   ]
  },
  {
   "cell_type": "code",
   "execution_count": 3,
   "metadata": {},
   "outputs": [],
   "source": [
    "from sklearn.metrics import accuracy_score"
   ]
  },
  {
   "source": [
    "### Digits"
   ],
   "cell_type": "markdown",
   "metadata": {}
  },
  {
   "cell_type": "code",
   "execution_count": 4,
   "metadata": {},
   "outputs": [],
   "source": [
    "from sklearn.preprocessing import MinMaxScaler\n",
    "scaler = MinMaxScaler()\n",
    "digits_scaled = scaler.fit_transform(digits.data)"
   ]
  },
  {
   "cell_type": "code",
   "execution_count": 5,
   "metadata": {},
   "outputs": [],
   "source": [
    "from sklearn.model_selection import train_test_split\n",
    "X_train, X_test, y_train, y_test = train_test_split(\n",
    "    digits_scaled, digits.target, test_size=0.2, random_state=2021\n",
    ")"
   ]
  },
  {
   "cell_type": "code",
   "execution_count": 6,
   "metadata": {},
   "outputs": [
    {
     "output_type": "stream",
     "name": "stdout",
     "text": [
      "앙상블 학습의 정확도: 0.9778\n"
     ]
    }
   ],
   "source": [
    "from sklearn.ensemble import VotingClassifier\n",
    "\n",
    "vo_clf = VotingClassifier(\n",
    "    estimators=[('LR', lr), ('SVC', svc), ('KNN', knn)], voting='hard'\n",
    ")\n",
    "vo_clf.fit(X_train, y_train)\n",
    "pred = vo_clf.predict(X_test)\n",
    "acc = accuracy_score(y_test,pred)\n",
    "print(f'앙상블 학습의 정확도: {acc:.4f}')"
   ]
  },
  {
   "cell_type": "code",
   "execution_count": 7,
   "metadata": {},
   "outputs": [
    {
     "output_type": "stream",
     "name": "stdout",
     "text": [
      "LogisticRegression 정확도: 0.9528\n",
      "SVC 정확도: 0.9778\n",
      "KNeighborsClassifier 정확도: 0.9889\n"
     ]
    }
   ],
   "source": [
    "classifiers = [lr,svc,knn]\n",
    "for classifier in classifiers:\n",
    "    classifier.fit(X_train,y_train)\n",
    "    pred = classifier.predict(X_test)\n",
    "    acc = accuracy_score(y_test, pred)\n",
    "    class_name = classifier.__class__.__name__\n",
    "    print(f'{class_name} 정확도: {acc:.4f}')"
   ]
  },
  {
   "source": [
    "#### KNeighborsClassifier 가 앙상블보다 정확함. 따라서 knn 이용 최적파라미터"
   ],
   "cell_type": "markdown",
   "metadata": {}
  },
  {
   "cell_type": "code",
   "execution_count": 8,
   "metadata": {},
   "outputs": [
    {
     "output_type": "execute_result",
     "data": {
      "text/plain": [
       "{'algorithm': 'auto',\n",
       " 'leaf_size': 30,\n",
       " 'metric': 'minkowski',\n",
       " 'metric_params': None,\n",
       " 'n_jobs': None,\n",
       " 'n_neighbors': 5,\n",
       " 'p': 2,\n",
       " 'weights': 'uniform'}"
      ]
     },
     "metadata": {},
     "execution_count": 8
    }
   ],
   "source": [
    "knn.get_params()"
   ]
  },
  {
   "cell_type": "code",
   "execution_count": 9,
   "metadata": {},
   "outputs": [
    {
     "output_type": "stream",
     "name": "stdout",
     "text": [
      "KNN의 정확도 : 0.9889\n"
     ]
    }
   ],
   "source": [
    "knn.fit(X_train, y_train)\n",
    "pred = knn.predict(X_test)\n",
    "acc = accuracy_score(y_test, pred)\n",
    "print( f'KNN의 정확도 : {acc:.4f}')"
   ]
  },
  {
   "cell_type": "code",
   "execution_count": 10,
   "metadata": {},
   "outputs": [
    {
     "output_type": "stream",
     "name": "stdout",
     "text": [
      "최고 평균 정확도: 0.9777\n최적 파라미터:  {'leaf_size': 6, 'n_neighbors': 8, 'p': 4}\n"
     ]
    }
   ],
   "source": [
    "from sklearn.model_selection import RandomizedSearchCV\n",
    "from scipy.stats import randint\n",
    "Knn_clf = KNeighborsClassifier(n_jobs=1)\n",
    "param_distribs = { 'n_neighbors': randint(low=1, high=50), 'leaf_size': randint(low=1, high=50), 'p': randint(low=1, high=50)}\n",
    "random_cv = RandomizedSearchCV(Knn_clf, param_distributions=param_distribs, n_iter=100, cv=5, n_jobs=1,scoring='accuracy', refit=True)\n",
    "random_cv.fit(X_train,y_train)\n",
    "print(f'최고 평균 정확도: {random_cv.best_score_:.4f}')\n",
    "print('최적 파라미터: ', random_cv.best_params_)"
   ]
  },
  {
   "cell_type": "code",
   "execution_count": 11,
   "metadata": {},
   "outputs": [
    {
     "output_type": "stream",
     "name": "stdout",
     "text": [
      "최적 파라미터 Kneighbor 정확도: 0.9861\n"
     ]
    }
   ],
   "source": [
    "best = random_cv.best_estimator_\n",
    "pred = best.predict(X_test)\n",
    "acc = accuracy_score(y_test, pred)\n",
    "print(f'최적 파라미터 Kneighbor 정확도: {acc:.4f}')"
   ]
  },
  {
   "cell_type": "code",
   "execution_count": 19,
   "metadata": {},
   "outputs": [
    {
     "output_type": "stream",
     "name": "stdout",
     "text": [
      "Fitting 3 folds for each of 27 candidates, totalling 81 fits\n",
      "[Parallel(n_jobs=1)]: Using backend SequentialBackend with 1 concurrent workers.\n",
      "최고 평균 정확도: 0.9737\n",
      "최적 파라미터:  {'leaf_size': 28, 'n_neighbors': 6, 'p': 2}\n",
      "[Parallel(n_jobs=1)]: Done  81 out of  81 | elapsed:    2.5s finished\n"
     ]
    }
   ],
   "source": [
    "from sklearn.model_selection import GridSearchCV\n",
    "params = {\n",
    "    'leaf_size': [28,30,32],\n",
    "    'n_neighbors': [4,5,6],\n",
    "    'p': [1,2,3]\n",
    "}\n",
    "Knn_clf = KNeighborsClassifier(n_jobs=1)\n",
    "grid_cv = GridSearchCV(Knn_clf, param_grid=params, cv=3, n_jobs=1,verbose=1,scoring='accuracy', refit=True)\n",
    "grid_cv.fit(X_train,y_train)\n",
    "print(f'최고 평균 정확도: {grid_cv.best_score_:.4f}')\n",
    "print('최적 파라미터: ', grid_cv.best_params_)"
   ]
  },
  {
   "cell_type": "code",
   "execution_count": 20,
   "metadata": {},
   "outputs": [
    {
     "output_type": "stream",
     "name": "stdout",
     "text": [
      "최적 파라미터 Kneighbor 정확도: 0.9825\n"
     ]
    }
   ],
   "source": [
    "best = grid_cv.best_estimator_\n",
    "pred = best.predict(X_test)\n",
    "acc = accuracy_score(y_test, pred)\n",
    "print(f'최적 파라미터 Kneighbor 정확도: {acc:.4f}')"
   ]
  },
  {
   "source": [
    "## Digits : Kneighbor분류기로 'leaf_size': 6, 'n_neighbors': 8, 'p': 4 일때  정확도 0.9861"
   ],
   "cell_type": "markdown",
   "metadata": {}
  },
  {
   "source": [
    "### Breast Cancer"
   ],
   "cell_type": "markdown",
   "metadata": {}
  },
  {
   "cell_type": "code",
   "execution_count": 41,
   "metadata": {},
   "outputs": [],
   "source": [
    "scaler = MinMaxScaler()\n",
    "cancer_scaled = scaler.fit_transform(cancer.data)\n",
    "X_train, X_test, y_train, y_test = train_test_split(\n",
    "    cancer_scaled, cancer.target, test_size=0.2, random_state=2021\n",
    ")"
   ]
  },
  {
   "cell_type": "code",
   "execution_count": 42,
   "metadata": {},
   "outputs": [
    {
     "output_type": "stream",
     "name": "stdout",
     "text": [
      "앙상블 학습의 정확도: 0.9825\n"
     ]
    }
   ],
   "source": [
    "vo_clf = VotingClassifier(\n",
    "    estimators=[('LR', lr), ('SVC', svc), ('KNN', knn)], voting='hard'\n",
    ")\n",
    "vo_clf.fit(X_train, y_train)\n",
    "pred = vo_clf.predict(X_test)\n",
    "acc = accuracy_score(y_test,pred)\n",
    "print(f'앙상블 학습의 정확도: {acc:.4f}')"
   ]
  },
  {
   "cell_type": "code",
   "execution_count": 43,
   "metadata": {},
   "outputs": [
    {
     "output_type": "stream",
     "name": "stdout",
     "text": [
      "LogisticRegression 정확도: 0.9561\nSVC 정확도: 0.9912\nKNeighborsClassifier 정확도: 0.9825\n"
     ]
    }
   ],
   "source": [
    "classifiers = [lr,svc,knn]\n",
    "for classifier in classifiers:\n",
    "    classifier.fit(X_train,y_train)\n",
    "    pred = classifier.predict(X_test)\n",
    "    acc = accuracy_score(y_test, pred)\n",
    "    class_name = classifier.__class__.__name__\n",
    "    print(f'{class_name} 정확도: {acc:.4f}')"
   ]
  },
  {
   "source": [
    "#### SVC 가 앙상블보다 정확함. 따라서 svc 이용 최적파라미터"
   ],
   "cell_type": "markdown",
   "metadata": {}
  },
  {
   "cell_type": "code",
   "execution_count": 44,
   "metadata": {},
   "outputs": [
    {
     "output_type": "execute_result",
     "data": {
      "text/plain": [
       "{'C': 1.0,\n",
       " 'break_ties': False,\n",
       " 'cache_size': 200,\n",
       " 'class_weight': None,\n",
       " 'coef0': 0.0,\n",
       " 'decision_function_shape': 'ovr',\n",
       " 'degree': 3,\n",
       " 'gamma': 'scale',\n",
       " 'kernel': 'rbf',\n",
       " 'max_iter': -1,\n",
       " 'probability': False,\n",
       " 'random_state': None,\n",
       " 'shrinking': True,\n",
       " 'tol': 0.001,\n",
       " 'verbose': False}"
      ]
     },
     "metadata": {},
     "execution_count": 44
    }
   ],
   "source": [
    "svc.get_params()"
   ]
  },
  {
   "cell_type": "code",
   "execution_count": 45,
   "metadata": {},
   "outputs": [
    {
     "output_type": "stream",
     "name": "stdout",
     "text": [
      "SVC 정확도 : 0.9912\n"
     ]
    }
   ],
   "source": [
    "svc.fit(X_train, y_train)\n",
    "pred = svc.predict(X_test)\n",
    "acc = accuracy_score(y_test, pred)\n",
    "print( f'SVC 정확도 : {acc:.4f}')"
   ]
  },
  {
   "cell_type": "code",
   "execution_count": 52,
   "metadata": {},
   "outputs": [
    {
     "output_type": "stream",
     "name": "stdout",
     "text": [
      "최고 평균 정확도: 0.9714\n최적 파라미터:  {'C': 10, 'cache_size': 133, 'degree': 384}\n"
     ]
    }
   ],
   "source": [
    "svc_clf = SVC()\n",
    "param_distribs = {'C':[0.01,0.1,1.0,10,100], 'degree': randint(low=1, high=500), 'cache_size': randint(low=1, high=500)}\n",
    "random_cv = RandomizedSearchCV(svc_clf, param_distributions=param_distribs, n_iter=100, cv=5, n_jobs=1,scoring='accuracy', refit=True)\n",
    "random_cv.fit(X_train,y_train)\n",
    "print(f'최고 평균 정확도: {random_cv.best_score_:.4f}')\n",
    "print('최적 파라미터: ', random_cv.best_params_)"
   ]
  },
  {
   "cell_type": "code",
   "execution_count": 53,
   "metadata": {},
   "outputs": [
    {
     "output_type": "stream",
     "name": "stdout",
     "text": [
      "최적 파라미터 Kneighbor 정확도: 0.9825\n"
     ]
    }
   ],
   "source": [
    "best = random_cv.best_estimator_\n",
    "pred = best.predict(X_test)\n",
    "acc = accuracy_score(y_test, pred)\n",
    "print(f'최적 파라미터 Kneighbor 정확도: {acc:.4f}')"
   ]
  },
  {
   "cell_type": "code",
   "execution_count": 39,
   "metadata": {},
   "outputs": [
    {
     "output_type": "stream",
     "name": "stdout",
     "text": [
      "Fitting 3 folds for each of 15 candidates, totalling 45 fits\n",
      "[Parallel(n_jobs=1)]: Using backend SequentialBackend with 1 concurrent workers.\n",
      "최고 평균 정확도: 0.9649\n",
      "최적 파라미터:  {'cache_size': 110, 'degree': 35}\n",
      "[Parallel(n_jobs=1)]: Done  45 out of  45 | elapsed:    0.4s finished\n"
     ]
    }
   ],
   "source": [
    "params = {\n",
    "    'degree': [35,40,45],\n",
    "    'cache_size': [110,120,130,140,150]\n",
    "}\n",
    "svc_clf = SVC()\n",
    "grid_cv = GridSearchCV(svc_clf, param_grid=params, cv=3, n_jobs=1,verbose=1,scoring='accuracy', refit=True)\n",
    "grid_cv.fit(X_train,y_train)\n",
    "print(f'최고 평균 정확도: {grid_cv.best_score_:.4f}')\n",
    "print('최적 파라미터: ', grid_cv.best_params_)"
   ]
  },
  {
   "cell_type": "code",
   "execution_count": 40,
   "metadata": {},
   "outputs": [
    {
     "output_type": "stream",
     "name": "stdout",
     "text": [
      "최적 파라미터 Kneighbor 정확도: 0.9912\n"
     ]
    }
   ],
   "source": [
    "best = grid_cv.best_estimator_\n",
    "pred = best.predict(X_test)\n",
    "acc = accuracy_score(y_test, pred)\n",
    "print(f'최적 파라미터 Kneighbor 정확도: {acc:.4f}')"
   ]
  },
  {
   "source": [
    "## Breast Cancer : SVC 분류기로 'cache_size': 110, 'degree': 35 일때  정확도 0.9912"
   ],
   "cell_type": "markdown",
   "metadata": {}
  },
  {
   "cell_type": "code",
   "execution_count": null,
   "metadata": {},
   "outputs": [],
   "source": []
  }
 ]
}